{
 "cells": [
  {
   "cell_type": "markdown",
   "metadata": {},
   "source": [
    "## Материалы к проекту"
   ]
  },
  {
   "cell_type": "markdown",
   "metadata": {},
   "source": [
    "### Дашборд в Tableau и презентация"
   ]
  },
  {
   "cell_type": "markdown",
   "metadata": {},
   "source": [
    "**Ссылка на Дашборд:**\n",
    "\n",
    "[Дашборд в Tableau] Ссылка на дашборд в Tableau: https://public.tableau.com/app/profile/valeria2892/viz/Apps_Project/Dashboard1"
   ]
  },
  {
   "cell_type": "markdown",
   "metadata": {},
   "source": [
    "**Презентация:**\n",
    "\n",
    "[Презентация в pdf] Ссылка на презентацию с основными выводами: https://drive.google.com/file/d/10YWIc4xLLoWp3t-S-gad_6Q4_xRRLGc_/view?usp=sharing"
   ]
  },
  {
   "cell_type": "markdown",
   "metadata": {},
   "source": [
    "# Проект-исследование для мобильного приложения \"Ненужные вещи\""
   ]
  },
  {
   "cell_type": "markdown",
   "metadata": {},
   "source": [
    "## Цели и план исследования"
   ]
  },
  {
   "cell_type": "markdown",
   "metadata": {},
   "source": [
    "**Клиент:** <br>\n",
    "\n",
    "Заказчиком исследования является мобильное приложение \"Ненужные вещи\", в котором пользователи продают свои ненужные вещи, размещая их на доске объявлений.  <br>\n",
    "\n",
    "**Основной метрикой, по которой компания оценивает успешность объявления является просмотр контактов**: чем больше пользователей просматривает контакты объявления, тем выше вероятность, что у вещи появится новый хозяин.  <br>\n",
    "\n",
    "Соответственно, пользователи по обе стороны останутся довольны: одни получат деньги, третьи приобретут нужную вещь по цене ниже рыночной. То есть, плптформа будет развиваться: пользователи будут пользоваться приложением снова, а также рекомендовать его новым пользователям."
   ]
  },
  {
   "cell_type": "markdown",
   "metadata": {},
   "source": [
    "**Содержание** <br>\n",
    "\n",
    "**1.Постановка ключевых бизнес-целей и задач проекта. Содержание исследования** <br>\n",
    "\n",
    "\n",
    "**2.Подготовка к исходных данных** <br>\n",
    "\n",
    "2.1.Верхнеуровневый анализ исходных данных: размер датасетов, поля и типы данных в них <br>\n",
    "2.2.Обработка исходных данных: <br>\n",
    "2.2.1.Обработка названий столбцов и типов данных (при необходимости) <br>\n",
    "2.2.2.Проверка данных на дубликаты <br>\n",
    "2.2.3.Проверка и обработка пропущенных значений <br>\n",
    "\n",
    "\n",
    "**3.Исследовательский анализ данных** <br>\n",
    "\n",
    "3.1.Анализ воронок событий мобильного приложения: их варианты, основные этапы и число пользователей на каждом этапе <br>\n",
    "3.2.Портрет пользователей и анализ взаимодействия с платформой: источники, с которых пользователи установили приложение, количество действий и динамика посещения приложения в зависимости от даты <br>\n",
    "3.3.Анализ основных действий пользователей и их влияния на совершение целевого события (просмотр контактов) <br>\n",
    "\n",
    "\n",
    "**4.Проверка статистических гипотез** <br>\n",
    "\n",
    "4.1.Проверка статистической гипотезы 1: конверсия в просмотры контактов различается у группы пользователей, совершающих действия tips_show и tips_click, от группы пользвоателей, совершающих только действие tips_show <br>\n",
    "4.2.Проверка статистической гипотезы 2: просмотр контактов группы пользователей, пришедших из Yandex, значимо отличается от пользователей, пришедших из Google <br>\n",
    "\n",
    "\n",
    "**5.Основные выводы** <br>\n",
    "\n",
    "5.1.Общее описание ключевых выводов исследования <br>\n",
    "5.2.Ссылка на презентацию в формате pdf <br>\n",
    "5.3.Ссылка на дашборд с визуализацией результатов исследования <br>"
   ]
  },
  {
   "cell_type": "markdown",
   "metadata": {},
   "source": [
    "## Верхнеуровневый анализ и подготовка исходных данных"
   ]
  },
  {
   "cell_type": "markdown",
   "metadata": {},
   "source": [
    "Начнем изучение исходных данных о пользователях и их действиях, совершенных в приложении. Получим общую информацию о датасетах, основных событий и характиристиками активности посетителей."
   ]
  },
  {
   "cell_type": "code",
   "execution_count": 1,
   "metadata": {},
   "outputs": [],
   "source": [
    "#импортируем необходимые для работы библиотеки\n",
    "\n",
    "import pandas as pd\n",
    "import seaborn as sns\n",
    "import numpy as np\n",
    "import matplotlib.pyplot as plt\n",
    "from scipy import stats as st\n",
    "import math as mt\n",
    "import os\n",
    "import datetime as dt\n",
    "import warnings\n",
    "warnings.filterwarnings(\"ignore\")"
   ]
  },
  {
   "cell_type": "code",
   "execution_count": 2,
   "metadata": {},
   "outputs": [],
   "source": [
    "#импортируем датасеты\n",
    "\n",
    "mobile_data = pd.read_csv('/datasets/mobile_dataset.csv')\n",
    "sources_data = pd.read_csv('/datasets/mobile_soures.csv')"
   ]
  },
  {
   "cell_type": "code",
   "execution_count": 3,
   "metadata": {},
   "outputs": [
    {
     "name": "stdout",
     "output_type": "stream",
     "text": [
      "<class 'pandas.core.frame.DataFrame'>\n",
      "RangeIndex: 74197 entries, 0 to 74196\n",
      "Data columns (total 3 columns):\n",
      " #   Column      Non-Null Count  Dtype \n",
      "---  ------      --------------  ----- \n",
      " 0   event.time  74197 non-null  object\n",
      " 1   event.name  74197 non-null  object\n",
      " 2   user.id     74197 non-null  object\n",
      "dtypes: object(3)\n",
      "memory usage: 1.7+ MB\n"
     ]
    }
   ],
   "source": [
    "mobile_data.info()"
   ]
  },
  {
   "cell_type": "code",
   "execution_count": 4,
   "metadata": {},
   "outputs": [
    {
     "data": {
      "text/html": [
       "<div>\n",
       "<style scoped>\n",
       "    .dataframe tbody tr th:only-of-type {\n",
       "        vertical-align: middle;\n",
       "    }\n",
       "\n",
       "    .dataframe tbody tr th {\n",
       "        vertical-align: top;\n",
       "    }\n",
       "\n",
       "    .dataframe thead th {\n",
       "        text-align: right;\n",
       "    }\n",
       "</style>\n",
       "<table border=\"1\" class=\"dataframe\">\n",
       "  <thead>\n",
       "    <tr style=\"text-align: right;\">\n",
       "      <th></th>\n",
       "      <th>event.time</th>\n",
       "      <th>event.name</th>\n",
       "      <th>user.id</th>\n",
       "    </tr>\n",
       "  </thead>\n",
       "  <tbody>\n",
       "    <tr>\n",
       "      <th>0</th>\n",
       "      <td>2019-10-07 00:00:00.431357</td>\n",
       "      <td>advert_open</td>\n",
       "      <td>020292ab-89bc-4156-9acf-68bc2783f894</td>\n",
       "    </tr>\n",
       "    <tr>\n",
       "      <th>1</th>\n",
       "      <td>2019-10-07 00:00:01.236320</td>\n",
       "      <td>tips_show</td>\n",
       "      <td>020292ab-89bc-4156-9acf-68bc2783f894</td>\n",
       "    </tr>\n",
       "    <tr>\n",
       "      <th>2</th>\n",
       "      <td>2019-10-07 00:00:02.245341</td>\n",
       "      <td>tips_show</td>\n",
       "      <td>cf7eda61-9349-469f-ac27-e5b6f5ec475c</td>\n",
       "    </tr>\n",
       "    <tr>\n",
       "      <th>3</th>\n",
       "      <td>2019-10-07 00:00:07.039334</td>\n",
       "      <td>tips_show</td>\n",
       "      <td>020292ab-89bc-4156-9acf-68bc2783f894</td>\n",
       "    </tr>\n",
       "    <tr>\n",
       "      <th>4</th>\n",
       "      <td>2019-10-07 00:00:56.319813</td>\n",
       "      <td>advert_open</td>\n",
       "      <td>cf7eda61-9349-469f-ac27-e5b6f5ec475c</td>\n",
       "    </tr>\n",
       "  </tbody>\n",
       "</table>\n",
       "</div>"
      ],
      "text/plain": [
       "                   event.time   event.name  \\\n",
       "0  2019-10-07 00:00:00.431357  advert_open   \n",
       "1  2019-10-07 00:00:01.236320    tips_show   \n",
       "2  2019-10-07 00:00:02.245341    tips_show   \n",
       "3  2019-10-07 00:00:07.039334    tips_show   \n",
       "4  2019-10-07 00:00:56.319813  advert_open   \n",
       "\n",
       "                                user.id  \n",
       "0  020292ab-89bc-4156-9acf-68bc2783f894  \n",
       "1  020292ab-89bc-4156-9acf-68bc2783f894  \n",
       "2  cf7eda61-9349-469f-ac27-e5b6f5ec475c  \n",
       "3  020292ab-89bc-4156-9acf-68bc2783f894  \n",
       "4  cf7eda61-9349-469f-ac27-e5b6f5ec475c  "
      ]
     },
     "metadata": {},
     "output_type": "display_data"
    }
   ],
   "source": [
    "#пранализируем первый датасет\n",
    "\n",
    "display(mobile_data.head())"
   ]
  },
  {
   "cell_type": "code",
   "execution_count": 5,
   "metadata": {},
   "outputs": [
    {
     "name": "stdout",
     "output_type": "stream",
     "text": [
      "Размер датасета: (74197, 3)\n"
     ]
    }
   ],
   "source": [
    "print('Размер датасета:',mobile_data.shape)"
   ]
  },
  {
   "cell_type": "code",
   "execution_count": 6,
   "metadata": {},
   "outputs": [
    {
     "name": "stdout",
     "output_type": "stream",
     "text": [
      "Число уникальных пользователей:  4293\n"
     ]
    }
   ],
   "source": [
    "#выведем число уникальных пользователей, использовавших приложение\n",
    "\n",
    "print('Число уникальных пользователей: ',mobile_data['user.id'].nunique())"
   ]
  },
  {
   "cell_type": "code",
   "execution_count": 7,
   "metadata": {},
   "outputs": [
    {
     "data": {
      "text/plain": [
       "array(['advert_open', 'tips_show', 'map', 'contacts_show', 'search_4',\n",
       "       'search_5', 'tips_click', 'photos_show', 'search_1', 'search_2',\n",
       "       'search_3', 'favorites_add', 'contacts_call', 'search_6',\n",
       "       'search_7', 'show_contacts'], dtype=object)"
      ]
     },
     "metadata": {},
     "output_type": "display_data"
    }
   ],
   "source": [
    "#выведем на экран основные виды действий\n",
    "\n",
    "display(mobile_data['event.name'].unique())"
   ]
  },
  {
   "cell_type": "code",
   "execution_count": 8,
   "metadata": {},
   "outputs": [
    {
     "name": "stdout",
     "output_type": "stream",
     "text": [
      "Временной горизонт данных: с 2019-10-07 00:00:00.431357 по 2019-11-03 23:58:12.532487\n"
     ]
    }
   ],
   "source": [
    "#проанализируем временной горизонт данных\n",
    "\n",
    "print('Временной горизонт данных: с',mobile_data['event.time'].min(), 'по',mobile_data['event.time'].max())"
   ]
  },
  {
   "cell_type": "markdown",
   "metadata": {},
   "source": [
    "Датасет mobile_dataset содержит более 74 тысяч записей и три колонки:\n",
    "\n",
    "- `event.time` — время совершения,\n",
    "- `user.id` — идентификатор пользователя,\n",
    "- `event.name` — действие пользователя.\n",
    "\n",
    "Информация об активностях пользователей **с 7 октября 2019 по 3  ноября 2019** представлена в **16 видах действий** пользователей. Виды действий:\n",
    "\n",
    "- `advert_open` — открыл карточки объявления,\n",
    "- `photos_show` — просмотрел фотографий в объявлении,\n",
    "- `tips_show` — увидел рекомендованные объявления,\n",
    "- `tips_click` — кликнул по рекомендованному объявлению,\n",
    "- `contacts_show` и `show_contacts` — посмотрел номер телефона,\n",
    "- `contacts_call` — позвонил по номеру из объявления,\n",
    "- `map` — открыл карту объявлений,\n",
    "- `search_1`—`search_7` — разные действия, связанные с поиском по сайту,\n",
    "- `favorites_add` — добавил объявление в избранное."
   ]
  },
  {
   "cell_type": "markdown",
   "metadata": {},
   "source": [
    "Видим, что в колонке с названием события event.name есть два скрытых дубликата, которые касаются целевого события - просмотра контактов. В дальнейшем это может вызвать неудобства при анализе. Также следует отметить, что номер поиска \"Search%\" не несет смысловой нагрузки для анализа датасета. Поэтому имеет смысл назвать эти события одинаково."
   ]
  },
  {
   "cell_type": "code",
   "execution_count": 9,
   "metadata": {},
   "outputs": [
    {
     "data": {
      "text/plain": [
       "array(['advert_open', 'tips_show', 'map', 'show_contacts', 'search',\n",
       "       'tips_click', 'photos_show', 'favorites_add', 'contacts_call'],\n",
       "      dtype=object)"
      ]
     },
     "metadata": {},
     "output_type": "display_data"
    }
   ],
   "source": [
    "#объединим события в зависимости от содержания/смысла\n",
    "\n",
    "mobile_data['event.name'].replace('contacts_show','show_contacts',inplace=True)\n",
    "mobile_data['event.name'].replace('search_1','search',inplace=True)\n",
    "mobile_data['event.name'].replace('search_2','search',inplace=True)\n",
    "mobile_data['event.name'].replace('search_3','search',inplace=True)\n",
    "mobile_data['event.name'].replace('search_4','search',inplace=True)\n",
    "mobile_data['event.name'].replace('search_5','search',inplace=True)\n",
    "mobile_data['event.name'].replace('search_6','search',inplace=True)\n",
    "mobile_data['event.name'].replace('search_7','search',inplace=True)\n",
    "\n",
    "#выведем на экран основные виды действий\n",
    "\n",
    "display(mobile_data['event.name'].unique())"
   ]
  },
  {
   "cell_type": "code",
   "execution_count": 10,
   "metadata": {},
   "outputs": [],
   "source": [
    "#создадим функцию, при помощи которой будем унифицировать названия столбцов\n",
    "\n",
    "def multiple_replace(target_str, replace_values):\n",
    "    # получаем заменяемое: подставляемое из словаря в цикле\n",
    "    for i, j in replace_values.items():\n",
    "        # меняем все target_str на подставляемое\n",
    "        target_str = target_str.replace(i, j)\n",
    "    return target_str\n",
    "\n",
    "\n",
    "# создаем словарь со значениями, которые будет изменять\n",
    "replace_values = {'search_1': 'search','search_2': 'search','search_3': 'search','search_4': 'search','search_5': 'search','search_6': 'search','search_7': 'search',\n",
    "         'contacts_show': 'show_contacts'}\n",
    "\n",
    "\n",
    "mobile_data['event.name'] =  multiple_replace(mobile_data['event.name'], replace_values)"
   ]
  },
  {
   "cell_type": "code",
   "execution_count": 11,
   "metadata": {
    "scrolled": false
   },
   "outputs": [
    {
     "data": {
      "text/plain": [
       "array(['advert_open', 'tips_show', 'map', 'show_contacts', 'search',\n",
       "       'tips_click', 'photos_show', 'favorites_add', 'contacts_call'],\n",
       "      dtype=object)"
      ]
     },
     "metadata": {},
     "output_type": "display_data"
    }
   ],
   "source": [
    "#проверка\n",
    "\n",
    "display(mobile_data['event.name'].unique())"
   ]
  },
  {
   "cell_type": "markdown",
   "metadata": {},
   "source": [
    "Что касается типов данных, желательно перевести столбец с датой события в формат даты"
   ]
  },
  {
   "cell_type": "code",
   "execution_count": 12,
   "metadata": {},
   "outputs": [],
   "source": [
    "#переведем столбец с датой события в формат даты\n",
    "\n",
    "mobile_data['event.time'] = mobile_data['event.time'].astype('datetime64')"
   ]
  },
  {
   "cell_type": "markdown",
   "metadata": {},
   "source": [
    "Далее перейдем к анализу датасета по источникам."
   ]
  },
  {
   "cell_type": "code",
   "execution_count": 13,
   "metadata": {},
   "outputs": [
    {
     "name": "stdout",
     "output_type": "stream",
     "text": [
      "<class 'pandas.core.frame.DataFrame'>\n",
      "RangeIndex: 4293 entries, 0 to 4292\n",
      "Data columns (total 2 columns):\n",
      " #   Column  Non-Null Count  Dtype \n",
      "---  ------  --------------  ----- \n",
      " 0   userId  4293 non-null   object\n",
      " 1   source  4293 non-null   object\n",
      "dtypes: object(2)\n",
      "memory usage: 67.2+ KB\n"
     ]
    }
   ],
   "source": [
    "#выведем информацию о датасете с источниками\n",
    "\n",
    "sources_data.info()"
   ]
  },
  {
   "cell_type": "code",
   "execution_count": 14,
   "metadata": {},
   "outputs": [
    {
     "data": {
      "text/html": [
       "<div>\n",
       "<style scoped>\n",
       "    .dataframe tbody tr th:only-of-type {\n",
       "        vertical-align: middle;\n",
       "    }\n",
       "\n",
       "    .dataframe tbody tr th {\n",
       "        vertical-align: top;\n",
       "    }\n",
       "\n",
       "    .dataframe thead th {\n",
       "        text-align: right;\n",
       "    }\n",
       "</style>\n",
       "<table border=\"1\" class=\"dataframe\">\n",
       "  <thead>\n",
       "    <tr style=\"text-align: right;\">\n",
       "      <th></th>\n",
       "      <th>userId</th>\n",
       "      <th>source</th>\n",
       "    </tr>\n",
       "  </thead>\n",
       "  <tbody>\n",
       "    <tr>\n",
       "      <th>0</th>\n",
       "      <td>020292ab-89bc-4156-9acf-68bc2783f894</td>\n",
       "      <td>other</td>\n",
       "    </tr>\n",
       "    <tr>\n",
       "      <th>1</th>\n",
       "      <td>cf7eda61-9349-469f-ac27-e5b6f5ec475c</td>\n",
       "      <td>yandex</td>\n",
       "    </tr>\n",
       "    <tr>\n",
       "      <th>2</th>\n",
       "      <td>8c356c42-3ba9-4cb6-80b8-3f868d0192c3</td>\n",
       "      <td>yandex</td>\n",
       "    </tr>\n",
       "    <tr>\n",
       "      <th>3</th>\n",
       "      <td>d9b06b47-0f36-419b-bbb0-3533e582a6cb</td>\n",
       "      <td>other</td>\n",
       "    </tr>\n",
       "    <tr>\n",
       "      <th>4</th>\n",
       "      <td>f32e1e2a-3027-4693-b793-b7b3ff274439</td>\n",
       "      <td>google</td>\n",
       "    </tr>\n",
       "  </tbody>\n",
       "</table>\n",
       "</div>"
      ],
      "text/plain": [
       "                                 userId  source\n",
       "0  020292ab-89bc-4156-9acf-68bc2783f894   other\n",
       "1  cf7eda61-9349-469f-ac27-e5b6f5ec475c  yandex\n",
       "2  8c356c42-3ba9-4cb6-80b8-3f868d0192c3  yandex\n",
       "3  d9b06b47-0f36-419b-bbb0-3533e582a6cb   other\n",
       "4  f32e1e2a-3027-4693-b793-b7b3ff274439  google"
      ]
     },
     "metadata": {},
     "output_type": "display_data"
    }
   ],
   "source": [
    "#пранализируем первый датасет\n",
    "\n",
    "display(sources_data.head())"
   ]
  },
  {
   "cell_type": "markdown",
   "metadata": {},
   "source": [
    "Датасет mobile_sources содержит две колонки: \n",
    "\n",
    "- `userId` — идентификатор пользователя,\n",
    "- `source` — источник, с которого пользователь установил приложение.\n"
   ]
  },
  {
   "cell_type": "code",
   "execution_count": 15,
   "metadata": {},
   "outputs": [
    {
     "name": "stdout",
     "output_type": "stream",
     "text": [
      "Размер датасета: (4293, 2)\n"
     ]
    }
   ],
   "source": [
    "print('Размер датасета:',sources_data.shape)"
   ]
  },
  {
   "cell_type": "code",
   "execution_count": 16,
   "metadata": {},
   "outputs": [
    {
     "name": "stdout",
     "output_type": "stream",
     "text": [
      "Число уникальных пользователей:  4293\n"
     ]
    }
   ],
   "source": [
    "#выведем число уникальных пользователей, использовавших приложение\n",
    "\n",
    "print('Число уникальных пользователей: ',sources_data['userId'].nunique())"
   ]
  },
  {
   "cell_type": "code",
   "execution_count": 17,
   "metadata": {},
   "outputs": [
    {
     "data": {
      "text/plain": [
       "yandex    1934\n",
       "other     1230\n",
       "google    1129\n",
       "Name: source, dtype: int64"
      ]
     },
     "metadata": {},
     "output_type": "display_data"
    }
   ],
   "source": [
    "#выведем на экран основные виды действий\n",
    "\n",
    "display(sources_data['source'].value_counts())"
   ]
  },
  {
   "cell_type": "code",
   "execution_count": 18,
   "metadata": {},
   "outputs": [
    {
     "data": {
      "image/png": "[encoded data removed]",
      "text/plain": [
       "<Figure size 720x720 with 1 Axes>"
      ]
     },
     "metadata": {},
     "output_type": "display_data"
    }
   ],
   "source": [
    "#проанализируем пользователей в зависимости от источника\n",
    "\n",
    "sources_data['source'].value_counts().sort_values(ascending = True).plot(kind = 'pie', title = 'Распределение действий целевых пользователей по источникам', figsize = (10,10), autopct='%1.0f%%')\n",
    "plt.ylabel('Источник')\n",
    "plt.show()"
   ]
  },
  {
   "cell_type": "markdown",
   "metadata": {},
   "source": [
    "Видим, что датасет по источникам содержит 4293 записи с ID пользователей и источниками их привлечения, что совпадает с количеством уникальных пользователей из первого датасета, исходя из чего мы можем предположить, что мы знаем источники привлечения по 100% пользователей и можем объединить два датасета по столбцу с ID пользователей. <br>\n",
    "\n",
    "Всего имеем три вида источников: \n",
    "\n",
    "1.yandex (45% пользователей)\n",
    "\n",
    "2.google (26%)\n",
    "\n",
    "3.другие (29%)"
   ]
  },
  {
   "cell_type": "code",
   "execution_count": 19,
   "metadata": {},
   "outputs": [],
   "source": [
    "#объединим два датасета в один\n",
    "\n",
    "mobile_data = mobile_data.rename(columns={'user.id': 'userId'})\n",
    "\n",
    "data_full = mobile_data.merge(sources_data)"
   ]
  },
  {
   "cell_type": "code",
   "execution_count": 20,
   "metadata": {},
   "outputs": [
    {
     "data": {
      "text/html": [
       "<div>\n",
       "<style scoped>\n",
       "    .dataframe tbody tr th:only-of-type {\n",
       "        vertical-align: middle;\n",
       "    }\n",
       "\n",
       "    .dataframe tbody tr th {\n",
       "        vertical-align: top;\n",
       "    }\n",
       "\n",
       "    .dataframe thead th {\n",
       "        text-align: right;\n",
       "    }\n",
       "</style>\n",
       "<table border=\"1\" class=\"dataframe\">\n",
       "  <thead>\n",
       "    <tr style=\"text-align: right;\">\n",
       "      <th></th>\n",
       "      <th>event.time</th>\n",
       "      <th>event.name</th>\n",
       "      <th>userId</th>\n",
       "      <th>source</th>\n",
       "    </tr>\n",
       "  </thead>\n",
       "  <tbody>\n",
       "    <tr>\n",
       "      <th>0</th>\n",
       "      <td>2019-10-07 00:00:00.431357</td>\n",
       "      <td>advert_open</td>\n",
       "      <td>020292ab-89bc-4156-9acf-68bc2783f894</td>\n",
       "      <td>other</td>\n",
       "    </tr>\n",
       "    <tr>\n",
       "      <th>1</th>\n",
       "      <td>2019-10-07 00:00:01.236320</td>\n",
       "      <td>tips_show</td>\n",
       "      <td>020292ab-89bc-4156-9acf-68bc2783f894</td>\n",
       "      <td>other</td>\n",
       "    </tr>\n",
       "    <tr>\n",
       "      <th>2</th>\n",
       "      <td>2019-10-07 00:00:07.039334</td>\n",
       "      <td>tips_show</td>\n",
       "      <td>020292ab-89bc-4156-9acf-68bc2783f894</td>\n",
       "      <td>other</td>\n",
       "    </tr>\n",
       "    <tr>\n",
       "      <th>3</th>\n",
       "      <td>2019-10-07 00:01:27.770232</td>\n",
       "      <td>advert_open</td>\n",
       "      <td>020292ab-89bc-4156-9acf-68bc2783f894</td>\n",
       "      <td>other</td>\n",
       "    </tr>\n",
       "    <tr>\n",
       "      <th>4</th>\n",
       "      <td>2019-10-07 00:01:34.804591</td>\n",
       "      <td>tips_show</td>\n",
       "      <td>020292ab-89bc-4156-9acf-68bc2783f894</td>\n",
       "      <td>other</td>\n",
       "    </tr>\n",
       "  </tbody>\n",
       "</table>\n",
       "</div>"
      ],
      "text/plain": [
       "                  event.time   event.name  \\\n",
       "0 2019-10-07 00:00:00.431357  advert_open   \n",
       "1 2019-10-07 00:00:01.236320    tips_show   \n",
       "2 2019-10-07 00:00:07.039334    tips_show   \n",
       "3 2019-10-07 00:01:27.770232  advert_open   \n",
       "4 2019-10-07 00:01:34.804591    tips_show   \n",
       "\n",
       "                                 userId source  \n",
       "0  020292ab-89bc-4156-9acf-68bc2783f894  other  \n",
       "1  020292ab-89bc-4156-9acf-68bc2783f894  other  \n",
       "2  020292ab-89bc-4156-9acf-68bc2783f894  other  \n",
       "3  020292ab-89bc-4156-9acf-68bc2783f894  other  \n",
       "4  020292ab-89bc-4156-9acf-68bc2783f894  other  "
      ]
     },
     "metadata": {},
     "output_type": "display_data"
    }
   ],
   "source": [
    "display(data_full.head())"
   ]
  },
  {
   "cell_type": "code",
   "execution_count": 21,
   "metadata": {},
   "outputs": [],
   "source": [
    "#приведем названия столбцов к нужному формату (змеиному регистру)\n",
    "\n",
    "#data_full = data_full.rename(columns={'event.time': 'event_time', 'event.name': 'event_name', 'userId': 'user_id'})\n",
    "data_full.columns = [x.replace('.', '_') for x in data_full.columns]\n",
    "data_full = data_full.rename(columns={'userId': 'user_id'})"
   ]
  },
  {
   "cell_type": "code",
   "execution_count": 22,
   "metadata": {},
   "outputs": [
    {
     "data": {
      "text/html": [
       "<div>\n",
       "<style scoped>\n",
       "    .dataframe tbody tr th:only-of-type {\n",
       "        vertical-align: middle;\n",
       "    }\n",
       "\n",
       "    .dataframe tbody tr th {\n",
       "        vertical-align: top;\n",
       "    }\n",
       "\n",
       "    .dataframe thead th {\n",
       "        text-align: right;\n",
       "    }\n",
       "</style>\n",
       "<table border=\"1\" class=\"dataframe\">\n",
       "  <thead>\n",
       "    <tr style=\"text-align: right;\">\n",
       "      <th></th>\n",
       "      <th>event_time</th>\n",
       "      <th>event_name</th>\n",
       "      <th>user_id</th>\n",
       "      <th>source</th>\n",
       "    </tr>\n",
       "  </thead>\n",
       "  <tbody>\n",
       "    <tr>\n",
       "      <th>0</th>\n",
       "      <td>2019-10-07 00:00:00.431357</td>\n",
       "      <td>advert_open</td>\n",
       "      <td>020292ab-89bc-4156-9acf-68bc2783f894</td>\n",
       "      <td>other</td>\n",
       "    </tr>\n",
       "    <tr>\n",
       "      <th>1</th>\n",
       "      <td>2019-10-07 00:00:01.236320</td>\n",
       "      <td>tips_show</td>\n",
       "      <td>020292ab-89bc-4156-9acf-68bc2783f894</td>\n",
       "      <td>other</td>\n",
       "    </tr>\n",
       "    <tr>\n",
       "      <th>2</th>\n",
       "      <td>2019-10-07 00:00:07.039334</td>\n",
       "      <td>tips_show</td>\n",
       "      <td>020292ab-89bc-4156-9acf-68bc2783f894</td>\n",
       "      <td>other</td>\n",
       "    </tr>\n",
       "    <tr>\n",
       "      <th>3</th>\n",
       "      <td>2019-10-07 00:01:27.770232</td>\n",
       "      <td>advert_open</td>\n",
       "      <td>020292ab-89bc-4156-9acf-68bc2783f894</td>\n",
       "      <td>other</td>\n",
       "    </tr>\n",
       "    <tr>\n",
       "      <th>4</th>\n",
       "      <td>2019-10-07 00:01:34.804591</td>\n",
       "      <td>tips_show</td>\n",
       "      <td>020292ab-89bc-4156-9acf-68bc2783f894</td>\n",
       "      <td>other</td>\n",
       "    </tr>\n",
       "  </tbody>\n",
       "</table>\n",
       "</div>"
      ],
      "text/plain": [
       "                  event_time   event_name  \\\n",
       "0 2019-10-07 00:00:00.431357  advert_open   \n",
       "1 2019-10-07 00:00:01.236320    tips_show   \n",
       "2 2019-10-07 00:00:07.039334    tips_show   \n",
       "3 2019-10-07 00:01:27.770232  advert_open   \n",
       "4 2019-10-07 00:01:34.804591    tips_show   \n",
       "\n",
       "                                user_id source  \n",
       "0  020292ab-89bc-4156-9acf-68bc2783f894  other  \n",
       "1  020292ab-89bc-4156-9acf-68bc2783f894  other  \n",
       "2  020292ab-89bc-4156-9acf-68bc2783f894  other  \n",
       "3  020292ab-89bc-4156-9acf-68bc2783f894  other  \n",
       "4  020292ab-89bc-4156-9acf-68bc2783f894  other  "
      ]
     },
     "metadata": {},
     "output_type": "display_data"
    }
   ],
   "source": [
    "display(data_full.head())"
   ]
  },
  {
   "cell_type": "code",
   "execution_count": 83,
   "metadata": {},
   "outputs": [
    {
     "name": "stdout",
     "output_type": "stream",
     "text": [
      "Index(['user_id', 'source'], dtype='object')\n"
     ]
    }
   ],
   "source": [
    "### КОД ТИМЛИДА\n",
    "# работает со столбцами обоих датасетов\n",
    "\n",
    "import re\n",
    "\n",
    "#ds = pd.read_csv('https://code.s3.yandex.net/datasets/mobile_dataset.csv')\n",
    "ds = pd.read_csv('https://code.s3.yandex.net/datasets/mobile_soures.csv')\n",
    "\n",
    "\n",
    "ds.columns =[re.sub(r'(?<!^)(?=[A-Z])', '_', x).lower(). #эта часть переводит CamelCase в snake_case (добавляет перед заглавной буквой подчеркивание)\n",
    "             replace('.', '_') #а эта заменяет точки на подчеркивания\n",
    "             for x in ds.columns] \n",
    "\n",
    "print(ds.columns)"
   ]
  },
  {
   "cell_type": "code",
   "execution_count": 23,
   "metadata": {},
   "outputs": [
    {
     "data": {
      "text/html": [
       "<div>\n",
       "<style scoped>\n",
       "    .dataframe tbody tr th:only-of-type {\n",
       "        vertical-align: middle;\n",
       "    }\n",
       "\n",
       "    .dataframe tbody tr th {\n",
       "        vertical-align: top;\n",
       "    }\n",
       "\n",
       "    .dataframe thead th {\n",
       "        text-align: right;\n",
       "    }\n",
       "</style>\n",
       "<table border=\"1\" class=\"dataframe\">\n",
       "  <thead>\n",
       "    <tr style=\"text-align: right;\">\n",
       "      <th></th>\n",
       "      <th>event_time</th>\n",
       "      <th>event_name</th>\n",
       "      <th>user_id</th>\n",
       "      <th>source</th>\n",
       "    </tr>\n",
       "  </thead>\n",
       "  <tbody>\n",
       "    <tr>\n",
       "      <th>0</th>\n",
       "      <td>2019-10-07 00:00:00.431357</td>\n",
       "      <td>advert_open</td>\n",
       "      <td>020292ab-89bc-4156-9acf-68bc2783f894</td>\n",
       "      <td>other</td>\n",
       "    </tr>\n",
       "    <tr>\n",
       "      <th>1</th>\n",
       "      <td>2019-10-07 00:00:01.236320</td>\n",
       "      <td>tips_show</td>\n",
       "      <td>020292ab-89bc-4156-9acf-68bc2783f894</td>\n",
       "      <td>other</td>\n",
       "    </tr>\n",
       "    <tr>\n",
       "      <th>2</th>\n",
       "      <td>2019-10-07 00:00:07.039334</td>\n",
       "      <td>tips_show</td>\n",
       "      <td>020292ab-89bc-4156-9acf-68bc2783f894</td>\n",
       "      <td>other</td>\n",
       "    </tr>\n",
       "    <tr>\n",
       "      <th>3</th>\n",
       "      <td>2019-10-07 00:01:27.770232</td>\n",
       "      <td>advert_open</td>\n",
       "      <td>020292ab-89bc-4156-9acf-68bc2783f894</td>\n",
       "      <td>other</td>\n",
       "    </tr>\n",
       "    <tr>\n",
       "      <th>4</th>\n",
       "      <td>2019-10-07 00:01:34.804591</td>\n",
       "      <td>tips_show</td>\n",
       "      <td>020292ab-89bc-4156-9acf-68bc2783f894</td>\n",
       "      <td>other</td>\n",
       "    </tr>\n",
       "  </tbody>\n",
       "</table>\n",
       "</div>"
      ],
      "text/plain": [
       "                  event_time   event_name  \\\n",
       "0 2019-10-07 00:00:00.431357  advert_open   \n",
       "1 2019-10-07 00:00:01.236320    tips_show   \n",
       "2 2019-10-07 00:00:07.039334    tips_show   \n",
       "3 2019-10-07 00:01:27.770232  advert_open   \n",
       "4 2019-10-07 00:01:34.804591    tips_show   \n",
       "\n",
       "                                user_id source  \n",
       "0  020292ab-89bc-4156-9acf-68bc2783f894  other  \n",
       "1  020292ab-89bc-4156-9acf-68bc2783f894  other  \n",
       "2  020292ab-89bc-4156-9acf-68bc2783f894  other  \n",
       "3  020292ab-89bc-4156-9acf-68bc2783f894  other  \n",
       "4  020292ab-89bc-4156-9acf-68bc2783f894  other  "
      ]
     },
     "metadata": {},
     "output_type": "display_data"
    }
   ],
   "source": [
    "display(data_full.head())"
   ]
  },
  {
   "cell_type": "markdown",
   "metadata": {},
   "source": [
    "Также при верхнеуровневом просмотре датасета видим, что столбец с временем события представлен в формате, который не совсем удобен для анализа и визуализации на графиках. Поэтому имеет смысл разделить данные данного столбца: выделить в отдельные колонки дату и время совершения события."
   ]
  },
  {
   "cell_type": "code",
   "execution_count": 24,
   "metadata": {},
   "outputs": [],
   "source": [
    "#добавим отдельные столбцы с датой и временем\n",
    "\n",
    "data_full['event_time'] = pd.to_datetime(data_full['event_time'])\n",
    "data_full['date'] = data_full['event_time'].dt.date\n",
    "data_full['time'] = data_full['event_time'].dt.time"
   ]
  },
  {
   "cell_type": "code",
   "execution_count": 25,
   "metadata": {},
   "outputs": [
    {
     "data": {
      "text/html": [
       "<div>\n",
       "<style scoped>\n",
       "    .dataframe tbody tr th:only-of-type {\n",
       "        vertical-align: middle;\n",
       "    }\n",
       "\n",
       "    .dataframe tbody tr th {\n",
       "        vertical-align: top;\n",
       "    }\n",
       "\n",
       "    .dataframe thead th {\n",
       "        text-align: right;\n",
       "    }\n",
       "</style>\n",
       "<table border=\"1\" class=\"dataframe\">\n",
       "  <thead>\n",
       "    <tr style=\"text-align: right;\">\n",
       "      <th></th>\n",
       "      <th>event_time</th>\n",
       "      <th>event_name</th>\n",
       "      <th>user_id</th>\n",
       "      <th>source</th>\n",
       "      <th>date</th>\n",
       "      <th>time</th>\n",
       "    </tr>\n",
       "  </thead>\n",
       "  <tbody>\n",
       "    <tr>\n",
       "      <th>0</th>\n",
       "      <td>2019-10-07 00:00:00.431357</td>\n",
       "      <td>advert_open</td>\n",
       "      <td>020292ab-89bc-4156-9acf-68bc2783f894</td>\n",
       "      <td>other</td>\n",
       "      <td>2019-10-07</td>\n",
       "      <td>00:00:00.431357</td>\n",
       "    </tr>\n",
       "    <tr>\n",
       "      <th>1</th>\n",
       "      <td>2019-10-07 00:00:01.236320</td>\n",
       "      <td>tips_show</td>\n",
       "      <td>020292ab-89bc-4156-9acf-68bc2783f894</td>\n",
       "      <td>other</td>\n",
       "      <td>2019-10-07</td>\n",
       "      <td>00:00:01.236320</td>\n",
       "    </tr>\n",
       "    <tr>\n",
       "      <th>2</th>\n",
       "      <td>2019-10-07 00:00:07.039334</td>\n",
       "      <td>tips_show</td>\n",
       "      <td>020292ab-89bc-4156-9acf-68bc2783f894</td>\n",
       "      <td>other</td>\n",
       "      <td>2019-10-07</td>\n",
       "      <td>00:00:07.039334</td>\n",
       "    </tr>\n",
       "    <tr>\n",
       "      <th>3</th>\n",
       "      <td>2019-10-07 00:01:27.770232</td>\n",
       "      <td>advert_open</td>\n",
       "      <td>020292ab-89bc-4156-9acf-68bc2783f894</td>\n",
       "      <td>other</td>\n",
       "      <td>2019-10-07</td>\n",
       "      <td>00:01:27.770232</td>\n",
       "    </tr>\n",
       "    <tr>\n",
       "      <th>4</th>\n",
       "      <td>2019-10-07 00:01:34.804591</td>\n",
       "      <td>tips_show</td>\n",
       "      <td>020292ab-89bc-4156-9acf-68bc2783f894</td>\n",
       "      <td>other</td>\n",
       "      <td>2019-10-07</td>\n",
       "      <td>00:01:34.804591</td>\n",
       "    </tr>\n",
       "  </tbody>\n",
       "</table>\n",
       "</div>"
      ],
      "text/plain": [
       "                  event_time   event_name  \\\n",
       "0 2019-10-07 00:00:00.431357  advert_open   \n",
       "1 2019-10-07 00:00:01.236320    tips_show   \n",
       "2 2019-10-07 00:00:07.039334    tips_show   \n",
       "3 2019-10-07 00:01:27.770232  advert_open   \n",
       "4 2019-10-07 00:01:34.804591    tips_show   \n",
       "\n",
       "                                user_id source        date             time  \n",
       "0  020292ab-89bc-4156-9acf-68bc2783f894  other  2019-10-07  00:00:00.431357  \n",
       "1  020292ab-89bc-4156-9acf-68bc2783f894  other  2019-10-07  00:00:01.236320  \n",
       "2  020292ab-89bc-4156-9acf-68bc2783f894  other  2019-10-07  00:00:07.039334  \n",
       "3  020292ab-89bc-4156-9acf-68bc2783f894  other  2019-10-07  00:01:27.770232  \n",
       "4  020292ab-89bc-4156-9acf-68bc2783f894  other  2019-10-07  00:01:34.804591  "
      ]
     },
     "metadata": {},
     "output_type": "display_data"
    }
   ],
   "source": [
    "#проверка\n",
    "\n",
    "display(data_full.head())"
   ]
  },
  {
   "cell_type": "markdown",
   "metadata": {},
   "source": [
    "Далее проанализируем объединенный датасет на наличие пропусков и дубликатов."
   ]
  },
  {
   "cell_type": "code",
   "execution_count": 26,
   "metadata": {},
   "outputs": [
    {
     "name": "stdout",
     "output_type": "stream",
     "text": [
      "Количество пропусков в датасете по столбцам\n"
     ]
    },
    {
     "data": {
      "text/plain": [
       "event_time    0.0\n",
       "event_name    0.0\n",
       "user_id       0.0\n",
       "source        0.0\n",
       "date          0.0\n",
       "time          0.0\n",
       "dtype: float64"
      ]
     },
     "execution_count": 26,
     "metadata": {},
     "output_type": "execute_result"
    }
   ],
   "source": [
    "#проверим датасет на наличие пропусков\n",
    "\n",
    "print(\"Количество пропусков в датасете по столбцам\")\n",
    "data_full.isna().mean().sort_values(ascending = True)"
   ]
  },
  {
   "cell_type": "code",
   "execution_count": 27,
   "metadata": {},
   "outputs": [
    {
     "name": "stdout",
     "output_type": "stream",
     "text": [
      "Количество дубликатов в датасете: 0\n"
     ]
    }
   ],
   "source": [
    "#проверка количества дубликатов\n",
    "\n",
    "data_dup = data_full.duplicated().sum()\n",
    "\n",
    "print(\"Количество дубликатов в датасете:\", data_dup)"
   ]
  },
  {
   "cell_type": "markdown",
   "metadata": {},
   "source": [
    "**Промежуточный вывод:** <br>\n",
    "\n",
    "Мы подготовили датасет к анализу: изучили содержание исходных данных, для удобства объединили два датасета в один. Объединенный датасет успешно прошел проверку на наличие пропусков и дубликатов. Также мы преобразовали некоторые колонки и добавили новые с датой и временем."
   ]
  },
  {
   "cell_type": "markdown",
   "metadata": {},
   "source": [
    "## Исследовательский анализ данных"
   ]
  },
  {
   "cell_type": "markdown",
   "metadata": {},
   "source": [
    "В прошлом разделе мы уже провели верхнеуровневый анализ датасета: выяснили, что период с 7 октября 2019 по 3 ноября 2019 приложение \"Ненужные вещи\" посетили 4293 пользователей, которые совершали 16 видов действий пользователей. Подавляющее число пользователей пришло к нам в приложение  из yandex (45% пользователей). На google пришлось 26%, а на остальные источники - 29%."
   ]
  },
  {
   "cell_type": "markdown",
   "metadata": {},
   "source": [
    "Теперь проанализируем основные действия пользователей и создадим базу для будущей воронки событий до совершения целевого действия - просмотра контактов"
   ]
  },
  {
   "cell_type": "markdown",
   "metadata": {},
   "source": [
    "Следует отметить, что не все пользователи, заходившие в приложения, помогут нам с ерешением нашей задачи: кто-то мог попасть в приложение случайно, кто-то просто зашел посмотреть без цели что-то приобрести. Поэтому из общей выборки выделим тех пользователей, которые хотя бы раз совершили целевое действие - просмотр контактов. Далее по ним проанализируем варианты \"маршрутизации\" клиента до целевого действия. "
   ]
  },
  {
   "cell_type": "markdown",
   "metadata": {},
   "source": [
    "### Анализ активности пользователей и взаимосвязи между их действиями"
   ]
  },
  {
   "cell_type": "markdown",
   "metadata": {},
   "source": [
    "Проведем верхнеуровневый анализ пользователей нашего приложения и их активности."
   ]
  },
  {
   "cell_type": "code",
   "execution_count": 28,
   "metadata": {},
   "outputs": [
    {
     "data": {
      "image/png": "[encoded data removed]",
      "text/plain": [
       "<Figure size 1080x360 with 1 Axes>"
      ]
     },
     "metadata": {
      "needs_background": "light"
     },
     "output_type": "display_data"
    }
   ],
   "source": [
    "#построим диаграмму по количеству действий пользвателей в зависимости от даты\n",
    "\n",
    "data_full.groupby('date').agg({'event_name': 'count'}).plot(kind = 'line', title = 'Динамика активности пользователей по дням', figsize=(15, 5), grid = True)\n",
    "plt.ylabel('Количество действий пользоватей')\n",
    "plt.xlabel('Дата')\n",
    "plt.show()"
   ]
  },
  {
   "cell_type": "code",
   "execution_count": 29,
   "metadata": {},
   "outputs": [
    {
     "name": "stdout",
     "output_type": "stream",
     "text": [
      "<class 'pandas.core.frame.DataFrame'>\n",
      "Int64Index: 74197 entries, 0 to 74196\n",
      "Data columns (total 6 columns):\n",
      " #   Column      Non-Null Count  Dtype         \n",
      "---  ------      --------------  -----         \n",
      " 0   event_time  74197 non-null  datetime64[ns]\n",
      " 1   event_name  74197 non-null  object        \n",
      " 2   user_id     74197 non-null  object        \n",
      " 3   source      74197 non-null  object        \n",
      " 4   date        74197 non-null  object        \n",
      " 5   time        74197 non-null  object        \n",
      "dtypes: datetime64[ns](1), object(5)\n",
      "memory usage: 4.0+ MB\n"
     ]
    }
   ],
   "source": [
    "data_full.info()"
   ]
  },
  {
   "cell_type": "code",
   "execution_count": 30,
   "metadata": {},
   "outputs": [
    {
     "data": {
      "image/png": "[encoded data removed]",
      "text/plain": [
       "<Figure size 1080x360 with 1 Axes>"
      ]
     },
     "metadata": {
      "needs_background": "light"
     },
     "output_type": "display_data"
    }
   ],
   "source": [
    "#построим диаграмму по количеству уникальных пользвателей в зависимости от даты\n",
    "\n",
    "data_full.groupby('date').agg({'user_id': 'nunique'}).plot(kind = 'bar', title = 'Динамика посещений приложений по дням', figsize = (15,5), grid = True)\n",
    "plt.ylabel('Количество уникальных пользователей')\n",
    "plt.xlabel('Дата')\n",
    "plt.show()"
   ]
  },
  {
   "cell_type": "markdown",
   "metadata": {},
   "source": [
    "Судя по графикам выше, можем сделать вывод о том, что аудитория приложения постепенно растет: число пользователей на конец периода (03.11.2019) увеличилось на 39,7% по сравнению с началом отчетного периода. 23 октября в приложении наблюдался пик посещения - в этот день его посетили 352 пользователя, а наиболее существенный спад - 12 октября (178 посетителей).\n",
    "\n",
    "Что касается действий пользователей, видим, что они были подвержены значительным колебаниям в течение всего периода, причем как в конце, так и в начале наблюдения, причем, пики и спады не всегда совпадают с динамикой числа уникальных пользователей. Чтобы нивелировать влияние изменения числа пользователей, имеет смысл проаанлизировать динамику числа действий на одного пользователя"
   ]
  },
  {
   "cell_type": "code",
   "execution_count": 31,
   "metadata": {},
   "outputs": [
    {
     "data": {
      "image/png": "[encoded data removed]",
      "text/plain": [
       "<Figure size 1080x360 with 1 Axes>"
      ]
     },
     "metadata": {
      "needs_background": "light"
     },
     "output_type": "display_data"
    }
   ],
   "source": [
    "#рассчитаем динамику среднего количества действий на пользователя\n",
    "\n",
    "data_date = data_full.groupby('date').agg({'user_id': 'nunique'}).reset_index()\n",
    "data_date_2 = data_full.groupby('date').agg({'event_name': 'count'}).reset_index()\n",
    "period_activity = data_date.merge(data_date_2)\n",
    "period_activity['actions_per_user'] = period_activity['event_name']/period_activity['user_id']\n",
    "\n",
    "#построим график распределения количесвта действий на одного пользователя \n",
    "\n",
    "period_activity.groupby('date').agg({'actions_per_user': 'mean'}).plot(kind = 'bar', title = 'Динамика числа действий на одного пользователя в приложении по дням', figsize = (15,5), grid = True)\n",
    "plt.ylabel('Количество уникальных пользователей')\n",
    "plt.xlabel('Дата')\n",
    "plt.show()"
   ]
  },
  {
   "cell_type": "markdown",
   "metadata": {},
   "source": [
    "Что касается количества действий на одного пользователя, видим, что число действий, которые приходилось совершать пользователям в начале отчетного периода было больше: позже эта динамика сократилась, что может быть связано с тем, что пользователи, которые ужен заходили в приложение, стали быстрее находить нужные им объявления.\n",
    "\n",
    "С другой стороны, снижение количества действий пользователей, с логической точки зрения, могло бы свидетельствовать о снижении интереса к приложению, но на данном этапе мы считаем, что это не так, так как аудитория приложения, в целом, растет."
   ]
  },
  {
   "cell_type": "markdown",
   "metadata": {},
   "source": [
    "**Промежуточный вывод:** таким образом, исходя из анализа исходных данных, можем сделать выводы о том, что аудитория приложения растет. Также следует отметить, что на конец отчетного периода пользователи, в среднем, стали совершать на 15-20% меньше действий, чем в начале отчетного периода, что, возможно, может говорить об адаптации к приложении и росту эффективности его  использования - клиенты легче находят то, что им нужно. Ниже мы это проверим, изучив количество клиентов, псовершающих целевое действие - просмотр контактов."
   ]
  },
  {
   "cell_type": "markdown",
   "metadata": {},
   "source": [
    "### Анализ целевых пользователей, которые хотя бы раз просматривали контакты"
   ]
  },
  {
   "cell_type": "code",
   "execution_count": 32,
   "metadata": {},
   "outputs": [
    {
     "name": "stdout",
     "output_type": "stream",
     "text": [
      "Число уникальных пользователей, просматривавших контакты:  981\n"
     ]
    }
   ],
   "source": [
    "#выделим пользователей, которые хотя бы раз совершили целевое действие\n",
    "\n",
    "key_users = data_full.query('event_name == \"show_contacts\"')\n",
    "\n",
    "#выведем число уникальных пользователей из ключевой выборки\n",
    "\n",
    "print('Число уникальных пользователей, просматривавших контакты: ', key_users['user_id'].nunique())"
   ]
  },
  {
   "cell_type": "markdown",
   "metadata": {},
   "source": [
    "Таким образом, в нашу целевую выборку попал **981 пользователь или 23% (т.е. практически каждый пятый или четвертый посетитель приложения)**. Статистика и действия именно по этим пользователям нас интересует. Рассмотрим варианты воронок событий по данным пользователям."
   ]
  },
  {
   "cell_type": "code",
   "execution_count": 33,
   "metadata": {},
   "outputs": [],
   "source": [
    "#создадим список по пользователям, совершившим целевое событие\n",
    "\n",
    "target_users = key_users['user_id']"
   ]
  },
  {
   "cell_type": "code",
   "execution_count": 34,
   "metadata": {},
   "outputs": [],
   "source": [
    "#создадим датасет, в котором будет информация только по пользователям, совершившим целевое событие\n",
    "\n",
    "target_data = data_full[data_full['user_id'].isin(target_users)]"
   ]
  },
  {
   "cell_type": "code",
   "execution_count": 35,
   "metadata": {},
   "outputs": [
    {
     "data": {
      "text/plain": [
       "(27197, 6)"
      ]
     },
     "execution_count": 35,
     "metadata": {},
     "output_type": "execute_result"
    }
   ],
   "source": [
    "#выведем на экран размер нового датасета\n",
    "\n",
    "target_data.shape"
   ]
  },
  {
   "cell_type": "code",
   "execution_count": 36,
   "metadata": {},
   "outputs": [
    {
     "name": "stdout",
     "output_type": "stream",
     "text": [
      "Проверка уникальных пользователей, просматривавших контакты:  981\n"
     ]
    }
   ],
   "source": [
    "print('Проверка уникальных пользователей, просматривавших контакты: ', target_data['user_id'].nunique())"
   ]
  },
  {
   "cell_type": "markdown",
   "metadata": {},
   "source": [
    "**Промежуточный вывод:** в целевой датасет попал 981 пользователь, который хотя бы раз совершил целевое действие: видим, что размер датасета для анализа сократился почти в 3 раза. Т.е. в среднем каждый из этих пользователей совершает около больше 25 действий."
   ]
  },
  {
   "cell_type": "markdown",
   "metadata": {},
   "source": [
    "**Ответим на один из вопросов ТЗ: какие действия чаще всего совершают пользователи, которые просматривают контакты** и сравним их с остальными пользователями."
   ]
  },
  {
   "cell_type": "code",
   "execution_count": 37,
   "metadata": {},
   "outputs": [
    {
     "name": "stdout",
     "output_type": "stream",
     "text": [
      "Проверка уникальных пользователей, ни разу не просмотревших контакты:  3312\n"
     ]
    }
   ],
   "source": [
    "#выделим пользователей, которые ни разу не совершили совершили целевое действие\n",
    "\n",
    "beyond_target = data_full[-data_full['user_id'].isin(target_users)]\n",
    "\n",
    "print('Проверка уникальных пользователей, ни разу не просмотревших контакты: ', beyond_target['user_id'].nunique())"
   ]
  },
  {
   "cell_type": "code",
   "execution_count": 38,
   "metadata": {},
   "outputs": [
    {
     "data": {
      "text/plain": [
       "tips_show        12768\n",
       "show_contacts     4529\n",
       "photos_show       3828\n",
       "search            2084\n",
       "advert_open       1589\n",
       "map               1101\n",
       "contacts_call      541\n",
       "favorites_add      424\n",
       "tips_click         333\n",
       "Name: event_name, dtype: int64"
      ]
     },
     "execution_count": 38,
     "metadata": {},
     "output_type": "execute_result"
    }
   ],
   "source": [
    "#проанализируем события в воронке с целевыми пользователями по частоте совершения\n",
    "\n",
    "target_data['event_name'].value_counts().sort_values(ascending=False)"
   ]
  },
  {
   "cell_type": "code",
   "execution_count": 39,
   "metadata": {},
   "outputs": [
    {
     "data": {
      "text/plain": [
       "tips_show        27287\n",
       "photos_show       6184\n",
       "search            4700\n",
       "advert_open       4575\n",
       "map               2780\n",
       "favorites_add      993\n",
       "tips_click         481\n",
       "Name: event_name, dtype: int64"
      ]
     },
     "execution_count": 39,
     "metadata": {},
     "output_type": "execute_result"
    }
   ],
   "source": [
    "#проанализируем события в воронке с не целевыми пользователями по частоте совершения\n",
    "\n",
    "beyond_target['event_name'].value_counts().sort_values(ascending=False)"
   ]
  },
  {
   "cell_type": "code",
   "execution_count": 40,
   "metadata": {},
   "outputs": [
    {
     "data": {
      "text/plain": [
       "tips_show        40055\n",
       "photos_show      10012\n",
       "search            6784\n",
       "advert_open       6164\n",
       "show_contacts     4529\n",
       "map               3881\n",
       "favorites_add     1417\n",
       "tips_click         814\n",
       "contacts_call      541\n",
       "Name: event_name, dtype: int64"
      ]
     },
     "execution_count": 40,
     "metadata": {},
     "output_type": "execute_result"
    }
   ],
   "source": [
    "#проанализируем события в воронке общей выборки по частоте совершения\n",
    "\n",
    "data_full['event_name'].value_counts().sort_values(ascending=False)"
   ]
  },
  {
   "cell_type": "code",
   "execution_count": 41,
   "metadata": {},
   "outputs": [
    {
     "data": {
      "text/html": [
       "<div>\n",
       "<style scoped>\n",
       "    .dataframe tbody tr th:only-of-type {\n",
       "        vertical-align: middle;\n",
       "    }\n",
       "\n",
       "    .dataframe tbody tr th {\n",
       "        vertical-align: top;\n",
       "    }\n",
       "\n",
       "    .dataframe thead th {\n",
       "        text-align: right;\n",
       "    }\n",
       "</style>\n",
       "<table border=\"1\" class=\"dataframe\">\n",
       "  <thead>\n",
       "    <tr style=\"text-align: right;\">\n",
       "      <th></th>\n",
       "      <th>event_name</th>\n",
       "      <th>user_id</th>\n",
       "    </tr>\n",
       "  </thead>\n",
       "  <tbody>\n",
       "    <tr>\n",
       "      <th>0</th>\n",
       "      <td>advert_open</td>\n",
       "      <td>138</td>\n",
       "    </tr>\n",
       "    <tr>\n",
       "      <th>1</th>\n",
       "      <td>contacts_call</td>\n",
       "      <td>213</td>\n",
       "    </tr>\n",
       "    <tr>\n",
       "      <th>2</th>\n",
       "      <td>favorites_add</td>\n",
       "      <td>136</td>\n",
       "    </tr>\n",
       "    <tr>\n",
       "      <th>3</th>\n",
       "      <td>map</td>\n",
       "      <td>289</td>\n",
       "    </tr>\n",
       "    <tr>\n",
       "      <th>4</th>\n",
       "      <td>photos_show</td>\n",
       "      <td>339</td>\n",
       "    </tr>\n",
       "    <tr>\n",
       "      <th>5</th>\n",
       "      <td>search</td>\n",
       "      <td>377</td>\n",
       "    </tr>\n",
       "    <tr>\n",
       "      <th>6</th>\n",
       "      <td>show_contacts</td>\n",
       "      <td>981</td>\n",
       "    </tr>\n",
       "    <tr>\n",
       "      <th>7</th>\n",
       "      <td>tips_click</td>\n",
       "      <td>100</td>\n",
       "    </tr>\n",
       "    <tr>\n",
       "      <th>8</th>\n",
       "      <td>tips_show</td>\n",
       "      <td>516</td>\n",
       "    </tr>\n",
       "  </tbody>\n",
       "</table>\n",
       "</div>"
      ],
      "text/plain": [
       "      event_name  user_id\n",
       "0    advert_open      138\n",
       "1  contacts_call      213\n",
       "2  favorites_add      136\n",
       "3            map      289\n",
       "4    photos_show      339\n",
       "5         search      377\n",
       "6  show_contacts      981\n",
       "7     tips_click      100\n",
       "8      tips_show      516"
      ]
     },
     "metadata": {},
     "output_type": "display_data"
    }
   ],
   "source": [
    "#проанализируем число уникальных целевых пользователей на каждом событии \n",
    "actions_t = target_data.groupby('event_name').agg({'user_id':'nunique'}).reset_index()\n",
    "display(actions_t)"
   ]
  },
  {
   "cell_type": "code",
   "execution_count": 42,
   "metadata": {},
   "outputs": [
    {
     "data": {
      "text/html": [
       "<div>\n",
       "<style scoped>\n",
       "    .dataframe tbody tr th:only-of-type {\n",
       "        vertical-align: middle;\n",
       "    }\n",
       "\n",
       "    .dataframe tbody tr th {\n",
       "        vertical-align: top;\n",
       "    }\n",
       "\n",
       "    .dataframe thead th {\n",
       "        text-align: right;\n",
       "    }\n",
       "</style>\n",
       "<table border=\"1\" class=\"dataframe\">\n",
       "  <thead>\n",
       "    <tr style=\"text-align: right;\">\n",
       "      <th></th>\n",
       "      <th>event_name</th>\n",
       "      <th>user_id</th>\n",
       "      <th>number_corrected</th>\n",
       "    </tr>\n",
       "  </thead>\n",
       "  <tbody>\n",
       "    <tr>\n",
       "      <th>0</th>\n",
       "      <td>advert_open</td>\n",
       "      <td>613</td>\n",
       "      <td>181.57</td>\n",
       "    </tr>\n",
       "    <tr>\n",
       "      <th>1</th>\n",
       "      <td>favorites_add</td>\n",
       "      <td>215</td>\n",
       "      <td>63.68</td>\n",
       "    </tr>\n",
       "    <tr>\n",
       "      <th>2</th>\n",
       "      <td>map</td>\n",
       "      <td>1167</td>\n",
       "      <td>345.66</td>\n",
       "    </tr>\n",
       "    <tr>\n",
       "      <th>3</th>\n",
       "      <td>photos_show</td>\n",
       "      <td>756</td>\n",
       "      <td>223.92</td>\n",
       "    </tr>\n",
       "    <tr>\n",
       "      <th>4</th>\n",
       "      <td>search</td>\n",
       "      <td>1289</td>\n",
       "      <td>381.80</td>\n",
       "    </tr>\n",
       "    <tr>\n",
       "      <th>5</th>\n",
       "      <td>tips_click</td>\n",
       "      <td>222</td>\n",
       "      <td>65.76</td>\n",
       "    </tr>\n",
       "    <tr>\n",
       "      <th>6</th>\n",
       "      <td>tips_show</td>\n",
       "      <td>2285</td>\n",
       "      <td>676.81</td>\n",
       "    </tr>\n",
       "  </tbody>\n",
       "</table>\n",
       "</div>"
      ],
      "text/plain": [
       "      event_name  user_id  number_corrected\n",
       "0    advert_open      613            181.57\n",
       "1  favorites_add      215             63.68\n",
       "2            map     1167            345.66\n",
       "3    photos_show      756            223.92\n",
       "4         search     1289            381.80\n",
       "5     tips_click      222             65.76\n",
       "6      tips_show     2285            676.81"
      ]
     },
     "metadata": {},
     "output_type": "display_data"
    }
   ],
   "source": [
    "actions_n = beyond_target.groupby('event_name').agg({'user_id':'nunique'}).reset_index()\n",
    "\n",
    "#скорректируем число пользователей - разделим на 3.4, чтобы получить равноценную выборку целевой \n",
    "actions_n['number_corrected'] = round(actions_n['user_id']/(beyond_target['user_id'].nunique()/target_data['user_id'].nunique()),2)\n",
    "display(actions_n)"
   ]
  },
  {
   "cell_type": "markdown",
   "metadata": {},
   "source": [
    "Видим, что в выборке с пользователями, сделавшими хотя бы одно целевое действие, просмотр контактов занимает второе место среди наиболее часто совершаемых действий, в то время как во всей выборке оно опускается на четвертое место после показа рекомедованного объявления, просмотра фотографий и открытия карточки объявления. Это может говорить о том, что пользователи, склонные к совершению целевого действия, приходят в приложения с конкретной целью и готовы приобрести товар без дополнительного просмотра фото и рекламы."
   ]
  },
  {
   "cell_type": "markdown",
   "metadata": {},
   "source": [
    "**Промежуточный вывод:**\n",
    "\n",
    "Также при сравнении пользователей из целевой выборки, который хотя бы раз просмотрели контакты, и выборкой пользователей, ни разу этого не сделавших, можно отметить следующие отличия:\n",
    "\n",
    "1.Нецелевые пользователи гораздо чаще открывают карту объявлений (действие map) - в среднем, на 16% чаще\n",
    "\n",
    "2.Целевые пользователи вдвое чаще добавляют объявление в избранное и в полтора раза чаще просматривают фотографии и кликают по рекомендованному объявлению\n",
    "\n",
    "3.Целевые пользователи реже открывают рекламную карточку объявления (advert_open)"
   ]
  },
  {
   "cell_type": "code",
   "execution_count": 43,
   "metadata": {},
   "outputs": [
    {
     "data": {
      "text/html": [
       "<div>\n",
       "<style scoped>\n",
       "    .dataframe tbody tr th:only-of-type {\n",
       "        vertical-align: middle;\n",
       "    }\n",
       "\n",
       "    .dataframe tbody tr th {\n",
       "        vertical-align: top;\n",
       "    }\n",
       "\n",
       "    .dataframe thead th {\n",
       "        text-align: right;\n",
       "    }\n",
       "</style>\n",
       "<table border=\"1\" class=\"dataframe\">\n",
       "  <thead>\n",
       "    <tr style=\"text-align: right;\">\n",
       "      <th></th>\n",
       "      <th>event_time</th>\n",
       "      <th>event_name</th>\n",
       "      <th>user_id</th>\n",
       "      <th>source</th>\n",
       "      <th>date</th>\n",
       "      <th>time</th>\n",
       "    </tr>\n",
       "  </thead>\n",
       "  <tbody>\n",
       "    <tr>\n",
       "      <th>3852</th>\n",
       "      <td>2019-10-07 17:34:42.441701</td>\n",
       "      <td>show_contacts</td>\n",
       "      <td>2af01902-f02a-46f7-a2c8-e46802662f8c</td>\n",
       "      <td>yandex</td>\n",
       "      <td>2019-10-07</td>\n",
       "      <td>17:34:42.441701</td>\n",
       "    </tr>\n",
       "    <tr>\n",
       "      <th>3853</th>\n",
       "      <td>2019-10-07 17:37:11.860102</td>\n",
       "      <td>show_contacts</td>\n",
       "      <td>2af01902-f02a-46f7-a2c8-e46802662f8c</td>\n",
       "      <td>yandex</td>\n",
       "      <td>2019-10-07</td>\n",
       "      <td>17:37:11.860102</td>\n",
       "    </tr>\n",
       "    <tr>\n",
       "      <th>3854</th>\n",
       "      <td>2019-10-07 17:42:31.554948</td>\n",
       "      <td>photos_show</td>\n",
       "      <td>2af01902-f02a-46f7-a2c8-e46802662f8c</td>\n",
       "      <td>yandex</td>\n",
       "      <td>2019-10-07</td>\n",
       "      <td>17:42:31.554948</td>\n",
       "    </tr>\n",
       "    <tr>\n",
       "      <th>3855</th>\n",
       "      <td>2019-10-07 17:44:33.507044</td>\n",
       "      <td>show_contacts</td>\n",
       "      <td>2af01902-f02a-46f7-a2c8-e46802662f8c</td>\n",
       "      <td>yandex</td>\n",
       "      <td>2019-10-07</td>\n",
       "      <td>17:44:33.507044</td>\n",
       "    </tr>\n",
       "    <tr>\n",
       "      <th>3856</th>\n",
       "      <td>2019-10-07 17:44:35.701087</td>\n",
       "      <td>contacts_call</td>\n",
       "      <td>2af01902-f02a-46f7-a2c8-e46802662f8c</td>\n",
       "      <td>yandex</td>\n",
       "      <td>2019-10-07</td>\n",
       "      <td>17:44:35.701087</td>\n",
       "    </tr>\n",
       "    <tr>\n",
       "      <th>3857</th>\n",
       "      <td>2019-10-07 17:46:25.301906</td>\n",
       "      <td>photos_show</td>\n",
       "      <td>2af01902-f02a-46f7-a2c8-e46802662f8c</td>\n",
       "      <td>yandex</td>\n",
       "      <td>2019-10-07</td>\n",
       "      <td>17:46:25.301906</td>\n",
       "    </tr>\n",
       "    <tr>\n",
       "      <th>3858</th>\n",
       "      <td>2019-10-07 17:51:59.441243</td>\n",
       "      <td>photos_show</td>\n",
       "      <td>2af01902-f02a-46f7-a2c8-e46802662f8c</td>\n",
       "      <td>yandex</td>\n",
       "      <td>2019-10-07</td>\n",
       "      <td>17:51:59.441243</td>\n",
       "    </tr>\n",
       "    <tr>\n",
       "      <th>3859</th>\n",
       "      <td>2019-10-07 17:52:14.537790</td>\n",
       "      <td>show_contacts</td>\n",
       "      <td>2af01902-f02a-46f7-a2c8-e46802662f8c</td>\n",
       "      <td>yandex</td>\n",
       "      <td>2019-10-07</td>\n",
       "      <td>17:52:14.537790</td>\n",
       "    </tr>\n",
       "    <tr>\n",
       "      <th>3860</th>\n",
       "      <td>2019-10-07 17:54:08.161577</td>\n",
       "      <td>show_contacts</td>\n",
       "      <td>2af01902-f02a-46f7-a2c8-e46802662f8c</td>\n",
       "      <td>yandex</td>\n",
       "      <td>2019-10-07</td>\n",
       "      <td>17:54:08.161577</td>\n",
       "    </tr>\n",
       "    <tr>\n",
       "      <th>3861</th>\n",
       "      <td>2019-10-07 17:55:32.706823</td>\n",
       "      <td>show_contacts</td>\n",
       "      <td>2af01902-f02a-46f7-a2c8-e46802662f8c</td>\n",
       "      <td>yandex</td>\n",
       "      <td>2019-10-07</td>\n",
       "      <td>17:55:32.706823</td>\n",
       "    </tr>\n",
       "    <tr>\n",
       "      <th>3862</th>\n",
       "      <td>2019-10-07 17:55:50.198233</td>\n",
       "      <td>photos_show</td>\n",
       "      <td>2af01902-f02a-46f7-a2c8-e46802662f8c</td>\n",
       "      <td>yandex</td>\n",
       "      <td>2019-10-07</td>\n",
       "      <td>17:55:50.198233</td>\n",
       "    </tr>\n",
       "    <tr>\n",
       "      <th>3863</th>\n",
       "      <td>2019-10-07 17:57:49.212581</td>\n",
       "      <td>show_contacts</td>\n",
       "      <td>2af01902-f02a-46f7-a2c8-e46802662f8c</td>\n",
       "      <td>yandex</td>\n",
       "      <td>2019-10-07</td>\n",
       "      <td>17:57:49.212581</td>\n",
       "    </tr>\n",
       "    <tr>\n",
       "      <th>3864</th>\n",
       "      <td>2019-10-07 17:59:55.362853</td>\n",
       "      <td>show_contacts</td>\n",
       "      <td>2af01902-f02a-46f7-a2c8-e46802662f8c</td>\n",
       "      <td>yandex</td>\n",
       "      <td>2019-10-07</td>\n",
       "      <td>17:59:55.362853</td>\n",
       "    </tr>\n",
       "    <tr>\n",
       "      <th>3865</th>\n",
       "      <td>2019-10-07 18:00:59.854757</td>\n",
       "      <td>show_contacts</td>\n",
       "      <td>2af01902-f02a-46f7-a2c8-e46802662f8c</td>\n",
       "      <td>yandex</td>\n",
       "      <td>2019-10-07</td>\n",
       "      <td>18:00:59.854757</td>\n",
       "    </tr>\n",
       "  </tbody>\n",
       "</table>\n",
       "</div>"
      ],
      "text/plain": [
       "                     event_time     event_name  \\\n",
       "3852 2019-10-07 17:34:42.441701  show_contacts   \n",
       "3853 2019-10-07 17:37:11.860102  show_contacts   \n",
       "3854 2019-10-07 17:42:31.554948    photos_show   \n",
       "3855 2019-10-07 17:44:33.507044  show_contacts   \n",
       "3856 2019-10-07 17:44:35.701087  contacts_call   \n",
       "3857 2019-10-07 17:46:25.301906    photos_show   \n",
       "3858 2019-10-07 17:51:59.441243    photos_show   \n",
       "3859 2019-10-07 17:52:14.537790  show_contacts   \n",
       "3860 2019-10-07 17:54:08.161577  show_contacts   \n",
       "3861 2019-10-07 17:55:32.706823  show_contacts   \n",
       "3862 2019-10-07 17:55:50.198233    photos_show   \n",
       "3863 2019-10-07 17:57:49.212581  show_contacts   \n",
       "3864 2019-10-07 17:59:55.362853  show_contacts   \n",
       "3865 2019-10-07 18:00:59.854757  show_contacts   \n",
       "\n",
       "                                   user_id  source        date  \\\n",
       "3852  2af01902-f02a-46f7-a2c8-e46802662f8c  yandex  2019-10-07   \n",
       "3853  2af01902-f02a-46f7-a2c8-e46802662f8c  yandex  2019-10-07   \n",
       "3854  2af01902-f02a-46f7-a2c8-e46802662f8c  yandex  2019-10-07   \n",
       "3855  2af01902-f02a-46f7-a2c8-e46802662f8c  yandex  2019-10-07   \n",
       "3856  2af01902-f02a-46f7-a2c8-e46802662f8c  yandex  2019-10-07   \n",
       "3857  2af01902-f02a-46f7-a2c8-e46802662f8c  yandex  2019-10-07   \n",
       "3858  2af01902-f02a-46f7-a2c8-e46802662f8c  yandex  2019-10-07   \n",
       "3859  2af01902-f02a-46f7-a2c8-e46802662f8c  yandex  2019-10-07   \n",
       "3860  2af01902-f02a-46f7-a2c8-e46802662f8c  yandex  2019-10-07   \n",
       "3861  2af01902-f02a-46f7-a2c8-e46802662f8c  yandex  2019-10-07   \n",
       "3862  2af01902-f02a-46f7-a2c8-e46802662f8c  yandex  2019-10-07   \n",
       "3863  2af01902-f02a-46f7-a2c8-e46802662f8c  yandex  2019-10-07   \n",
       "3864  2af01902-f02a-46f7-a2c8-e46802662f8c  yandex  2019-10-07   \n",
       "3865  2af01902-f02a-46f7-a2c8-e46802662f8c  yandex  2019-10-07   \n",
       "\n",
       "                 time  \n",
       "3852  17:34:42.441701  \n",
       "3853  17:37:11.860102  \n",
       "3854  17:42:31.554948  \n",
       "3855  17:44:33.507044  \n",
       "3856  17:44:35.701087  \n",
       "3857  17:46:25.301906  \n",
       "3858  17:51:59.441243  \n",
       "3859  17:52:14.537790  \n",
       "3860  17:54:08.161577  \n",
       "3861  17:55:32.706823  \n",
       "3862  17:55:50.198233  \n",
       "3863  17:57:49.212581  \n",
       "3864  17:59:55.362853  \n",
       "3865  18:00:59.854757  "
      ]
     },
     "metadata": {},
     "output_type": "display_data"
    }
   ],
   "source": [
    "#возьмем случайного пользователя и проанализируем его путь до совершения целевого действия\n",
    "\n",
    "display(target_data.query('user_id == \"2af01902-f02a-46f7-a2c8-e46802662f8c\"'))"
   ]
  },
  {
   "cell_type": "markdown",
   "metadata": {},
   "source": [
    "На примере пользователя выше видим, что сессия пользователя в приложении началась с просмотра контактов. Скорее всего, пользователь перешел по ссылке, которую получил от другого пользователя, который нашел объявление.\n",
    "\n"
   ]
  },
  {
   "cell_type": "code",
   "execution_count": 44,
   "metadata": {},
   "outputs": [
    {
     "data": {
      "image/png": "[encoded data removed]",
      "text/plain": [
       "<Figure size 1080x360 with 1 Axes>"
      ]
     },
     "metadata": {
      "needs_background": "light"
     },
     "output_type": "display_data"
    }
   ],
   "source": [
    "#проанализируем целевых пользователей в зависимости от источника\n",
    "\n",
    "target_data['source'].value_counts().sort_values(ascending = True).plot(kind = 'barh', title = 'Распределение действий целевых пользователей по источникам', figsize = (15,5), grid = True)\n",
    "plt.show()"
   ]
  },
  {
   "cell_type": "markdown",
   "metadata": {},
   "source": [
    "Видим, что, с точки зрения источников, ситуация схожа с общей по выборке: наибольшее количество действий совершают целевые пользователи, перешедшие в приложение из Яндекса, на втором месте - Google."
   ]
  },
  {
   "cell_type": "code",
   "execution_count": 45,
   "metadata": {},
   "outputs": [
    {
     "data": {
      "image/png": "[encoded data removed]",
      "text/plain": [
       "<Figure size 1080x360 with 1 Axes>"
      ]
     },
     "metadata": {
      "needs_background": "light"
     },
     "output_type": "display_data"
    }
   ],
   "source": [
    "#построим диаграмму по количеству действий пользвателей в зависимости от даты\n",
    "\n",
    "target_data.groupby('date').agg({'event_name': 'count'}).plot(kind = 'line', title = 'Динамика активности пользователей по дням', figsize=(15, 5), grid = True)\n",
    "plt.ylabel('Количество действий пользователей')\n",
    "plt.xlabel('Дата')\n",
    "plt.show()"
   ]
  },
  {
   "cell_type": "code",
   "execution_count": 46,
   "metadata": {},
   "outputs": [
    {
     "data": {
      "image/png": "[encoded data removed]",
      "text/plain": [
       "<Figure size 1080x360 with 1 Axes>"
      ]
     },
     "metadata": {
      "needs_background": "light"
     },
     "output_type": "display_data"
    }
   ],
   "source": [
    "#построим диаграмму по количеству уникальных пользвателей в зависимости от даты\n",
    "\n",
    "target_data.groupby('date').agg({'user_id': 'nunique'}).plot(kind = 'bar', title = 'Динамика посещений приложений по дням', figsize = (15,5), grid = True)\n",
    "plt.ylabel('Количесвто уникальных пользователей')\n",
    "plt.xlabel('Дата')\n",
    "plt.show()"
   ]
  },
  {
   "cell_type": "code",
   "execution_count": 47,
   "metadata": {},
   "outputs": [
    {
     "data": {
      "image/png": "[encoded data removed]",
      "text/plain": [
       "<Figure size 1080x360 with 1 Axes>"
      ]
     },
     "metadata": {
      "needs_background": "light"
     },
     "output_type": "display_data"
    }
   ],
   "source": [
    "#рассчитаем динамику среднего количества действий на пользователя\n",
    "\n",
    "target_date = target_data.groupby('date').agg({'user_id': 'nunique'}).reset_index()\n",
    "target_date_2 = target_data.groupby('date').agg({'event_name': 'count'}).reset_index()\n",
    "period_activity_t = target_date.merge(data_date_2)\n",
    "period_activity_t['actions_per_user'] = period_activity_t['event_name']/period_activity['user_id']\n",
    "\n",
    "#построим график распределения количесвта действий на одного пользователя \n",
    "\n",
    "period_activity_t.groupby('date').agg({'actions_per_user': 'mean'}).plot(kind = 'bar', title = 'Динамика числа действий на одного пользователя в приложении по дням', figsize = (15,5), grid = True)\n",
    "plt.ylabel('Количество уникальных пользователей')\n",
    "plt.xlabel('Дата')\n",
    "plt.show()"
   ]
  },
  {
   "cell_type": "markdown",
   "metadata": {},
   "source": [
    "Видим, что динамика пользователей и их действий незначительно отличается от общей ситуации по датасету, но показало немного лучшую динамику: число пользователей, просматривающих контакты, выросло к концу отетного периода на 72%. Также отметим, что число действий пользователей, просматривающих контакты, также незначительно отличается от среднего числа по датасету (несмотря на то, что доля данных пользователей - менее 25%)"
   ]
  },
  {
   "cell_type": "markdown",
   "metadata": {},
   "source": [
    "С логической точки зрения, верно было бы анализировать активность пользователей по сессиям, но, к сожалению, аналитическая система нашей компании не содержит данных о завершении одной сессии и начале другой. Поэтому для аналитических целей будем считать, что в один и тот же день пользователь заходит в приложение с одной целью, поэтому такую активность мы будем считать сессией.\n",
    "\n",
    "Далее имеет смысл разделить активность пользователей на сессии: сгруппируем датасет по пользователям и дням"
   ]
  },
  {
   "cell_type": "markdown",
   "metadata": {},
   "source": [
    "Для того, чтобы разделить сессии между собой в пределах одного дня, будем считать, что если между событиями прошло больше 15 минут, то это разные сессии."
   ]
  },
  {
   "cell_type": "code",
   "execution_count": 48,
   "metadata": {},
   "outputs": [
    {
     "data": {
      "text/html": [
       "<div>\n",
       "<style scoped>\n",
       "    .dataframe tbody tr th:only-of-type {\n",
       "        vertical-align: middle;\n",
       "    }\n",
       "\n",
       "    .dataframe tbody tr th {\n",
       "        vertical-align: top;\n",
       "    }\n",
       "\n",
       "    .dataframe thead th {\n",
       "        text-align: right;\n",
       "    }\n",
       "</style>\n",
       "<table border=\"1\" class=\"dataframe\">\n",
       "  <thead>\n",
       "    <tr style=\"text-align: right;\">\n",
       "      <th></th>\n",
       "      <th>event_time</th>\n",
       "      <th>event_name</th>\n",
       "      <th>user_id</th>\n",
       "      <th>source</th>\n",
       "      <th>date</th>\n",
       "      <th>time</th>\n",
       "    </tr>\n",
       "  </thead>\n",
       "  <tbody>\n",
       "    <tr>\n",
       "      <th>43016</th>\n",
       "      <td>2019-10-30 07:50:45.948358</td>\n",
       "      <td>search</td>\n",
       "      <td>00157779-810c-4498-9e05-a1e9e3cedf93</td>\n",
       "      <td>yandex</td>\n",
       "      <td>2019-10-30</td>\n",
       "      <td>07:50:45.948358</td>\n",
       "    </tr>\n",
       "    <tr>\n",
       "      <th>43017</th>\n",
       "      <td>2019-10-30 07:53:12.730053</td>\n",
       "      <td>photos_show</td>\n",
       "      <td>00157779-810c-4498-9e05-a1e9e3cedf93</td>\n",
       "      <td>yandex</td>\n",
       "      <td>2019-10-30</td>\n",
       "      <td>07:53:12.730053</td>\n",
       "    </tr>\n",
       "    <tr>\n",
       "      <th>43018</th>\n",
       "      <td>2019-10-30 07:54:25.826815</td>\n",
       "      <td>photos_show</td>\n",
       "      <td>00157779-810c-4498-9e05-a1e9e3cedf93</td>\n",
       "      <td>yandex</td>\n",
       "      <td>2019-10-30</td>\n",
       "      <td>07:54:25.826815</td>\n",
       "    </tr>\n",
       "    <tr>\n",
       "      <th>43019</th>\n",
       "      <td>2019-10-30 07:55:09.436282</td>\n",
       "      <td>search</td>\n",
       "      <td>00157779-810c-4498-9e05-a1e9e3cedf93</td>\n",
       "      <td>yandex</td>\n",
       "      <td>2019-10-30</td>\n",
       "      <td>07:55:09.436282</td>\n",
       "    </tr>\n",
       "    <tr>\n",
       "      <th>43020</th>\n",
       "      <td>2019-10-30 07:57:00.426097</td>\n",
       "      <td>photos_show</td>\n",
       "      <td>00157779-810c-4498-9e05-a1e9e3cedf93</td>\n",
       "      <td>yandex</td>\n",
       "      <td>2019-10-30</td>\n",
       "      <td>07:57:00.426097</td>\n",
       "    </tr>\n",
       "    <tr>\n",
       "      <th>43021</th>\n",
       "      <td>2019-10-30 07:58:04.614017</td>\n",
       "      <td>search</td>\n",
       "      <td>00157779-810c-4498-9e05-a1e9e3cedf93</td>\n",
       "      <td>yandex</td>\n",
       "      <td>2019-10-30</td>\n",
       "      <td>07:58:04.614017</td>\n",
       "    </tr>\n",
       "    <tr>\n",
       "      <th>43022</th>\n",
       "      <td>2019-10-30 07:58:11.976258</td>\n",
       "      <td>photos_show</td>\n",
       "      <td>00157779-810c-4498-9e05-a1e9e3cedf93</td>\n",
       "      <td>yandex</td>\n",
       "      <td>2019-10-30</td>\n",
       "      <td>07:58:11.976258</td>\n",
       "    </tr>\n",
       "    <tr>\n",
       "      <th>43023</th>\n",
       "      <td>2019-10-30 07:59:26.486403</td>\n",
       "      <td>photos_show</td>\n",
       "      <td>00157779-810c-4498-9e05-a1e9e3cedf93</td>\n",
       "      <td>yandex</td>\n",
       "      <td>2019-10-30</td>\n",
       "      <td>07:59:26.486403</td>\n",
       "    </tr>\n",
       "    <tr>\n",
       "      <th>43024</th>\n",
       "      <td>2019-10-30 08:01:05.420773</td>\n",
       "      <td>show_contacts</td>\n",
       "      <td>00157779-810c-4498-9e05-a1e9e3cedf93</td>\n",
       "      <td>yandex</td>\n",
       "      <td>2019-10-30</td>\n",
       "      <td>08:01:05.420773</td>\n",
       "    </tr>\n",
       "    <tr>\n",
       "      <th>43025</th>\n",
       "      <td>2019-10-30 08:02:14.126151</td>\n",
       "      <td>photos_show</td>\n",
       "      <td>00157779-810c-4498-9e05-a1e9e3cedf93</td>\n",
       "      <td>yandex</td>\n",
       "      <td>2019-10-30</td>\n",
       "      <td>08:02:14.126151</td>\n",
       "    </tr>\n",
       "  </tbody>\n",
       "</table>\n",
       "</div>"
      ],
      "text/plain": [
       "                      event_time     event_name  \\\n",
       "43016 2019-10-30 07:50:45.948358         search   \n",
       "43017 2019-10-30 07:53:12.730053    photos_show   \n",
       "43018 2019-10-30 07:54:25.826815    photos_show   \n",
       "43019 2019-10-30 07:55:09.436282         search   \n",
       "43020 2019-10-30 07:57:00.426097    photos_show   \n",
       "43021 2019-10-30 07:58:04.614017         search   \n",
       "43022 2019-10-30 07:58:11.976258    photos_show   \n",
       "43023 2019-10-30 07:59:26.486403    photos_show   \n",
       "43024 2019-10-30 08:01:05.420773  show_contacts   \n",
       "43025 2019-10-30 08:02:14.126151    photos_show   \n",
       "\n",
       "                                    user_id  source        date  \\\n",
       "43016  00157779-810c-4498-9e05-a1e9e3cedf93  yandex  2019-10-30   \n",
       "43017  00157779-810c-4498-9e05-a1e9e3cedf93  yandex  2019-10-30   \n",
       "43018  00157779-810c-4498-9e05-a1e9e3cedf93  yandex  2019-10-30   \n",
       "43019  00157779-810c-4498-9e05-a1e9e3cedf93  yandex  2019-10-30   \n",
       "43020  00157779-810c-4498-9e05-a1e9e3cedf93  yandex  2019-10-30   \n",
       "43021  00157779-810c-4498-9e05-a1e9e3cedf93  yandex  2019-10-30   \n",
       "43022  00157779-810c-4498-9e05-a1e9e3cedf93  yandex  2019-10-30   \n",
       "43023  00157779-810c-4498-9e05-a1e9e3cedf93  yandex  2019-10-30   \n",
       "43024  00157779-810c-4498-9e05-a1e9e3cedf93  yandex  2019-10-30   \n",
       "43025  00157779-810c-4498-9e05-a1e9e3cedf93  yandex  2019-10-30   \n",
       "\n",
       "                  time  \n",
       "43016  07:50:45.948358  \n",
       "43017  07:53:12.730053  \n",
       "43018  07:54:25.826815  \n",
       "43019  07:55:09.436282  \n",
       "43020  07:57:00.426097  \n",
       "43021  07:58:04.614017  \n",
       "43022  07:58:11.976258  \n",
       "43023  07:59:26.486403  \n",
       "43024  08:01:05.420773  \n",
       "43025  08:02:14.126151  "
      ]
     },
     "metadata": {},
     "output_type": "display_data"
    }
   ],
   "source": [
    "#отсортируем действия пользователей таким образом, чтобы они шли друг за другом по времени и по каждому пользователю\n",
    "\n",
    "sessions_detailed = target_data.sort_values(by = ['user_id', 'time'])\n",
    "display(sessions_detailed.head(10))"
   ]
  },
  {
   "cell_type": "markdown",
   "metadata": {},
   "source": [
    "Видим, что данные отсортированы верно: сначала идет сортировка по ID пользователя, потом по  времени действия (от самого раннего до самого позднего). Теперь разделим эту активность на сессии, присвоив каждой сессии свой индивидуальный номер."
   ]
  },
  {
   "cell_type": "code",
   "execution_count": 49,
   "metadata": {},
   "outputs": [
    {
     "data": {
      "text/html": [
       "<div>\n",
       "<style scoped>\n",
       "    .dataframe tbody tr th:only-of-type {\n",
       "        vertical-align: middle;\n",
       "    }\n",
       "\n",
       "    .dataframe tbody tr th {\n",
       "        vertical-align: top;\n",
       "    }\n",
       "\n",
       "    .dataframe thead th {\n",
       "        text-align: right;\n",
       "    }\n",
       "</style>\n",
       "<table border=\"1\" class=\"dataframe\">\n",
       "  <thead>\n",
       "    <tr style=\"text-align: right;\">\n",
       "      <th></th>\n",
       "      <th>event_time</th>\n",
       "      <th>event_name</th>\n",
       "      <th>user_id</th>\n",
       "      <th>source</th>\n",
       "      <th>date</th>\n",
       "      <th>time</th>\n",
       "    </tr>\n",
       "  </thead>\n",
       "  <tbody>\n",
       "    <tr>\n",
       "      <th>43016</th>\n",
       "      <td>2019-10-30 07:50:45.948358</td>\n",
       "      <td>search</td>\n",
       "      <td>00157779-810c-4498-9e05-a1e9e3cedf93</td>\n",
       "      <td>yandex</td>\n",
       "      <td>2019-10-30</td>\n",
       "      <td>07:50:45.948358</td>\n",
       "    </tr>\n",
       "    <tr>\n",
       "      <th>43017</th>\n",
       "      <td>2019-10-30 07:53:12.730053</td>\n",
       "      <td>photos_show</td>\n",
       "      <td>00157779-810c-4498-9e05-a1e9e3cedf93</td>\n",
       "      <td>yandex</td>\n",
       "      <td>2019-10-30</td>\n",
       "      <td>07:53:12.730053</td>\n",
       "    </tr>\n",
       "    <tr>\n",
       "      <th>43018</th>\n",
       "      <td>2019-10-30 07:54:25.826815</td>\n",
       "      <td>photos_show</td>\n",
       "      <td>00157779-810c-4498-9e05-a1e9e3cedf93</td>\n",
       "      <td>yandex</td>\n",
       "      <td>2019-10-30</td>\n",
       "      <td>07:54:25.826815</td>\n",
       "    </tr>\n",
       "    <tr>\n",
       "      <th>43019</th>\n",
       "      <td>2019-10-30 07:55:09.436282</td>\n",
       "      <td>search</td>\n",
       "      <td>00157779-810c-4498-9e05-a1e9e3cedf93</td>\n",
       "      <td>yandex</td>\n",
       "      <td>2019-10-30</td>\n",
       "      <td>07:55:09.436282</td>\n",
       "    </tr>\n",
       "    <tr>\n",
       "      <th>43020</th>\n",
       "      <td>2019-10-30 07:57:00.426097</td>\n",
       "      <td>photos_show</td>\n",
       "      <td>00157779-810c-4498-9e05-a1e9e3cedf93</td>\n",
       "      <td>yandex</td>\n",
       "      <td>2019-10-30</td>\n",
       "      <td>07:57:00.426097</td>\n",
       "    </tr>\n",
       "  </tbody>\n",
       "</table>\n",
       "</div>"
      ],
      "text/plain": [
       "                      event_time   event_name  \\\n",
       "43016 2019-10-30 07:50:45.948358       search   \n",
       "43017 2019-10-30 07:53:12.730053  photos_show   \n",
       "43018 2019-10-30 07:54:25.826815  photos_show   \n",
       "43019 2019-10-30 07:55:09.436282       search   \n",
       "43020 2019-10-30 07:57:00.426097  photos_show   \n",
       "\n",
       "                                    user_id  source        date  \\\n",
       "43016  00157779-810c-4498-9e05-a1e9e3cedf93  yandex  2019-10-30   \n",
       "43017  00157779-810c-4498-9e05-a1e9e3cedf93  yandex  2019-10-30   \n",
       "43018  00157779-810c-4498-9e05-a1e9e3cedf93  yandex  2019-10-30   \n",
       "43019  00157779-810c-4498-9e05-a1e9e3cedf93  yandex  2019-10-30   \n",
       "43020  00157779-810c-4498-9e05-a1e9e3cedf93  yandex  2019-10-30   \n",
       "\n",
       "                  time  \n",
       "43016  07:50:45.948358  \n",
       "43017  07:53:12.730053  \n",
       "43018  07:54:25.826815  \n",
       "43019  07:55:09.436282  \n",
       "43020  07:57:00.426097  "
      ]
     },
     "execution_count": 49,
     "metadata": {},
     "output_type": "execute_result"
    }
   ],
   "source": [
    "sessions_detailed.head()"
   ]
  },
  {
   "cell_type": "code",
   "execution_count": 50,
   "metadata": {},
   "outputs": [
    {
     "data": {
      "text/html": [
       "<div>\n",
       "<style scoped>\n",
       "    .dataframe tbody tr th:only-of-type {\n",
       "        vertical-align: middle;\n",
       "    }\n",
       "\n",
       "    .dataframe tbody tr th {\n",
       "        vertical-align: top;\n",
       "    }\n",
       "\n",
       "    .dataframe thead th {\n",
       "        text-align: right;\n",
       "    }\n",
       "</style>\n",
       "<table border=\"1\" class=\"dataframe\">\n",
       "  <thead>\n",
       "    <tr style=\"text-align: right;\">\n",
       "      <th></th>\n",
       "      <th>event_time</th>\n",
       "      <th>event_name</th>\n",
       "      <th>user_id</th>\n",
       "      <th>source</th>\n",
       "      <th>date</th>\n",
       "      <th>time</th>\n",
       "      <th>period</th>\n",
       "    </tr>\n",
       "  </thead>\n",
       "  <tbody>\n",
       "    <tr>\n",
       "      <th>43016</th>\n",
       "      <td>2019-10-30 07:50:45.948358</td>\n",
       "      <td>search</td>\n",
       "      <td>00157779-810c-4498-9e05-a1e9e3cedf93</td>\n",
       "      <td>yandex</td>\n",
       "      <td>2019-10-30</td>\n",
       "      <td>07:50:45.948358</td>\n",
       "      <td>NaT</td>\n",
       "    </tr>\n",
       "    <tr>\n",
       "      <th>43017</th>\n",
       "      <td>2019-10-30 07:53:12.730053</td>\n",
       "      <td>photos_show</td>\n",
       "      <td>00157779-810c-4498-9e05-a1e9e3cedf93</td>\n",
       "      <td>yandex</td>\n",
       "      <td>2019-10-30</td>\n",
       "      <td>07:53:12.730053</td>\n",
       "      <td>0 days 00:02:26.781695</td>\n",
       "    </tr>\n",
       "    <tr>\n",
       "      <th>43018</th>\n",
       "      <td>2019-10-30 07:54:25.826815</td>\n",
       "      <td>photos_show</td>\n",
       "      <td>00157779-810c-4498-9e05-a1e9e3cedf93</td>\n",
       "      <td>yandex</td>\n",
       "      <td>2019-10-30</td>\n",
       "      <td>07:54:25.826815</td>\n",
       "      <td>0 days 00:01:13.096762</td>\n",
       "    </tr>\n",
       "    <tr>\n",
       "      <th>43019</th>\n",
       "      <td>2019-10-30 07:55:09.436282</td>\n",
       "      <td>search</td>\n",
       "      <td>00157779-810c-4498-9e05-a1e9e3cedf93</td>\n",
       "      <td>yandex</td>\n",
       "      <td>2019-10-30</td>\n",
       "      <td>07:55:09.436282</td>\n",
       "      <td>0 days 00:00:43.609467</td>\n",
       "    </tr>\n",
       "    <tr>\n",
       "      <th>43020</th>\n",
       "      <td>2019-10-30 07:57:00.426097</td>\n",
       "      <td>photos_show</td>\n",
       "      <td>00157779-810c-4498-9e05-a1e9e3cedf93</td>\n",
       "      <td>yandex</td>\n",
       "      <td>2019-10-30</td>\n",
       "      <td>07:57:00.426097</td>\n",
       "      <td>0 days 00:01:50.989815</td>\n",
       "    </tr>\n",
       "    <tr>\n",
       "      <th>43021</th>\n",
       "      <td>2019-10-30 07:58:04.614017</td>\n",
       "      <td>search</td>\n",
       "      <td>00157779-810c-4498-9e05-a1e9e3cedf93</td>\n",
       "      <td>yandex</td>\n",
       "      <td>2019-10-30</td>\n",
       "      <td>07:58:04.614017</td>\n",
       "      <td>0 days 00:01:04.187920</td>\n",
       "    </tr>\n",
       "    <tr>\n",
       "      <th>43022</th>\n",
       "      <td>2019-10-30 07:58:11.976258</td>\n",
       "      <td>photos_show</td>\n",
       "      <td>00157779-810c-4498-9e05-a1e9e3cedf93</td>\n",
       "      <td>yandex</td>\n",
       "      <td>2019-10-30</td>\n",
       "      <td>07:58:11.976258</td>\n",
       "      <td>0 days 00:00:07.362241</td>\n",
       "    </tr>\n",
       "    <tr>\n",
       "      <th>43023</th>\n",
       "      <td>2019-10-30 07:59:26.486403</td>\n",
       "      <td>photos_show</td>\n",
       "      <td>00157779-810c-4498-9e05-a1e9e3cedf93</td>\n",
       "      <td>yandex</td>\n",
       "      <td>2019-10-30</td>\n",
       "      <td>07:59:26.486403</td>\n",
       "      <td>0 days 00:01:14.510145</td>\n",
       "    </tr>\n",
       "    <tr>\n",
       "      <th>43024</th>\n",
       "      <td>2019-10-30 08:01:05.420773</td>\n",
       "      <td>show_contacts</td>\n",
       "      <td>00157779-810c-4498-9e05-a1e9e3cedf93</td>\n",
       "      <td>yandex</td>\n",
       "      <td>2019-10-30</td>\n",
       "      <td>08:01:05.420773</td>\n",
       "      <td>0 days 00:01:38.934370</td>\n",
       "    </tr>\n",
       "    <tr>\n",
       "      <th>43025</th>\n",
       "      <td>2019-10-30 08:02:14.126151</td>\n",
       "      <td>photos_show</td>\n",
       "      <td>00157779-810c-4498-9e05-a1e9e3cedf93</td>\n",
       "      <td>yandex</td>\n",
       "      <td>2019-10-30</td>\n",
       "      <td>08:02:14.126151</td>\n",
       "      <td>0 days 00:01:08.705378</td>\n",
       "    </tr>\n",
       "  </tbody>\n",
       "</table>\n",
       "</div>"
      ],
      "text/plain": [
       "                      event_time     event_name  \\\n",
       "43016 2019-10-30 07:50:45.948358         search   \n",
       "43017 2019-10-30 07:53:12.730053    photos_show   \n",
       "43018 2019-10-30 07:54:25.826815    photos_show   \n",
       "43019 2019-10-30 07:55:09.436282         search   \n",
       "43020 2019-10-30 07:57:00.426097    photos_show   \n",
       "43021 2019-10-30 07:58:04.614017         search   \n",
       "43022 2019-10-30 07:58:11.976258    photos_show   \n",
       "43023 2019-10-30 07:59:26.486403    photos_show   \n",
       "43024 2019-10-30 08:01:05.420773  show_contacts   \n",
       "43025 2019-10-30 08:02:14.126151    photos_show   \n",
       "\n",
       "                                    user_id  source        date  \\\n",
       "43016  00157779-810c-4498-9e05-a1e9e3cedf93  yandex  2019-10-30   \n",
       "43017  00157779-810c-4498-9e05-a1e9e3cedf93  yandex  2019-10-30   \n",
       "43018  00157779-810c-4498-9e05-a1e9e3cedf93  yandex  2019-10-30   \n",
       "43019  00157779-810c-4498-9e05-a1e9e3cedf93  yandex  2019-10-30   \n",
       "43020  00157779-810c-4498-9e05-a1e9e3cedf93  yandex  2019-10-30   \n",
       "43021  00157779-810c-4498-9e05-a1e9e3cedf93  yandex  2019-10-30   \n",
       "43022  00157779-810c-4498-9e05-a1e9e3cedf93  yandex  2019-10-30   \n",
       "43023  00157779-810c-4498-9e05-a1e9e3cedf93  yandex  2019-10-30   \n",
       "43024  00157779-810c-4498-9e05-a1e9e3cedf93  yandex  2019-10-30   \n",
       "43025  00157779-810c-4498-9e05-a1e9e3cedf93  yandex  2019-10-30   \n",
       "\n",
       "                  time                 period  \n",
       "43016  07:50:45.948358                    NaT  \n",
       "43017  07:53:12.730053 0 days 00:02:26.781695  \n",
       "43018  07:54:25.826815 0 days 00:01:13.096762  \n",
       "43019  07:55:09.436282 0 days 00:00:43.609467  \n",
       "43020  07:57:00.426097 0 days 00:01:50.989815  \n",
       "43021  07:58:04.614017 0 days 00:01:04.187920  \n",
       "43022  07:58:11.976258 0 days 00:00:07.362241  \n",
       "43023  07:59:26.486403 0 days 00:01:14.510145  \n",
       "43024  08:01:05.420773 0 days 00:01:38.934370  \n",
       "43025  08:02:14.126151 0 days 00:01:08.705378  "
      ]
     },
     "metadata": {},
     "output_type": "display_data"
    }
   ],
   "source": [
    "#добавис колонку с разницей между предыдущим дейсствием\n",
    " \n",
    "sessions_detailed['period'] = sessions_detailed.groupby('user_id')['event_time'].diff(1) #.astype('timedelta64[s]')\n",
    "display(sessions_detailed.head(10))\n",
    "\n",
    "\n",
    "#sessions_detailed['time'] = pd.to_datetime(sessions_detailed['time'], format='%H:%M:%S', errors='coerce').dt.time\n",
    "#sessions_detailed['event_time'] = sessions_detailed['event_time'].dt.datetime\n",
    "#sessions_detailed['event_time'] = pd.to_datetime(sessions_detailed['event_time'], format='%m/%d/%Y %H:%M:%S', errors='coerce')\n",
    "#sessions_detailed['period'] = sessions_detailed.groupby('user_id', 'date')['event_time'].diff(1) #.astype('timedelta64[s]')"
   ]
  },
  {
   "cell_type": "code",
   "execution_count": 51,
   "metadata": {},
   "outputs": [],
   "source": [
    "#переведем период в секунды\n",
    "\n",
    "sessions_detailed['period'] = sessions_detailed['period'].astype('timedelta64[s]')"
   ]
  },
  {
   "cell_type": "code",
   "execution_count": 52,
   "metadata": {},
   "outputs": [
    {
     "data": {
      "text/html": [
       "<div>\n",
       "<style scoped>\n",
       "    .dataframe tbody tr th:only-of-type {\n",
       "        vertical-align: middle;\n",
       "    }\n",
       "\n",
       "    .dataframe tbody tr th {\n",
       "        vertical-align: top;\n",
       "    }\n",
       "\n",
       "    .dataframe thead th {\n",
       "        text-align: right;\n",
       "    }\n",
       "</style>\n",
       "<table border=\"1\" class=\"dataframe\">\n",
       "  <thead>\n",
       "    <tr style=\"text-align: right;\">\n",
       "      <th></th>\n",
       "      <th>event_time</th>\n",
       "      <th>event_name</th>\n",
       "      <th>user_id</th>\n",
       "      <th>source</th>\n",
       "      <th>date</th>\n",
       "      <th>time</th>\n",
       "      <th>period</th>\n",
       "    </tr>\n",
       "  </thead>\n",
       "  <tbody>\n",
       "    <tr>\n",
       "      <th>43016</th>\n",
       "      <td>2019-10-30 07:50:45.948358</td>\n",
       "      <td>search</td>\n",
       "      <td>00157779-810c-4498-9e05-a1e9e3cedf93</td>\n",
       "      <td>yandex</td>\n",
       "      <td>2019-10-30</td>\n",
       "      <td>07:50:45.948358</td>\n",
       "      <td>NaN</td>\n",
       "    </tr>\n",
       "    <tr>\n",
       "      <th>43017</th>\n",
       "      <td>2019-10-30 07:53:12.730053</td>\n",
       "      <td>photos_show</td>\n",
       "      <td>00157779-810c-4498-9e05-a1e9e3cedf93</td>\n",
       "      <td>yandex</td>\n",
       "      <td>2019-10-30</td>\n",
       "      <td>07:53:12.730053</td>\n",
       "      <td>146.0</td>\n",
       "    </tr>\n",
       "    <tr>\n",
       "      <th>43018</th>\n",
       "      <td>2019-10-30 07:54:25.826815</td>\n",
       "      <td>photos_show</td>\n",
       "      <td>00157779-810c-4498-9e05-a1e9e3cedf93</td>\n",
       "      <td>yandex</td>\n",
       "      <td>2019-10-30</td>\n",
       "      <td>07:54:25.826815</td>\n",
       "      <td>73.0</td>\n",
       "    </tr>\n",
       "    <tr>\n",
       "      <th>43019</th>\n",
       "      <td>2019-10-30 07:55:09.436282</td>\n",
       "      <td>search</td>\n",
       "      <td>00157779-810c-4498-9e05-a1e9e3cedf93</td>\n",
       "      <td>yandex</td>\n",
       "      <td>2019-10-30</td>\n",
       "      <td>07:55:09.436282</td>\n",
       "      <td>43.0</td>\n",
       "    </tr>\n",
       "    <tr>\n",
       "      <th>43020</th>\n",
       "      <td>2019-10-30 07:57:00.426097</td>\n",
       "      <td>photos_show</td>\n",
       "      <td>00157779-810c-4498-9e05-a1e9e3cedf93</td>\n",
       "      <td>yandex</td>\n",
       "      <td>2019-10-30</td>\n",
       "      <td>07:57:00.426097</td>\n",
       "      <td>110.0</td>\n",
       "    </tr>\n",
       "    <tr>\n",
       "      <th>43021</th>\n",
       "      <td>2019-10-30 07:58:04.614017</td>\n",
       "      <td>search</td>\n",
       "      <td>00157779-810c-4498-9e05-a1e9e3cedf93</td>\n",
       "      <td>yandex</td>\n",
       "      <td>2019-10-30</td>\n",
       "      <td>07:58:04.614017</td>\n",
       "      <td>64.0</td>\n",
       "    </tr>\n",
       "    <tr>\n",
       "      <th>43022</th>\n",
       "      <td>2019-10-30 07:58:11.976258</td>\n",
       "      <td>photos_show</td>\n",
       "      <td>00157779-810c-4498-9e05-a1e9e3cedf93</td>\n",
       "      <td>yandex</td>\n",
       "      <td>2019-10-30</td>\n",
       "      <td>07:58:11.976258</td>\n",
       "      <td>7.0</td>\n",
       "    </tr>\n",
       "    <tr>\n",
       "      <th>43023</th>\n",
       "      <td>2019-10-30 07:59:26.486403</td>\n",
       "      <td>photos_show</td>\n",
       "      <td>00157779-810c-4498-9e05-a1e9e3cedf93</td>\n",
       "      <td>yandex</td>\n",
       "      <td>2019-10-30</td>\n",
       "      <td>07:59:26.486403</td>\n",
       "      <td>74.0</td>\n",
       "    </tr>\n",
       "    <tr>\n",
       "      <th>43024</th>\n",
       "      <td>2019-10-30 08:01:05.420773</td>\n",
       "      <td>show_contacts</td>\n",
       "      <td>00157779-810c-4498-9e05-a1e9e3cedf93</td>\n",
       "      <td>yandex</td>\n",
       "      <td>2019-10-30</td>\n",
       "      <td>08:01:05.420773</td>\n",
       "      <td>98.0</td>\n",
       "    </tr>\n",
       "    <tr>\n",
       "      <th>43025</th>\n",
       "      <td>2019-10-30 08:02:14.126151</td>\n",
       "      <td>photos_show</td>\n",
       "      <td>00157779-810c-4498-9e05-a1e9e3cedf93</td>\n",
       "      <td>yandex</td>\n",
       "      <td>2019-10-30</td>\n",
       "      <td>08:02:14.126151</td>\n",
       "      <td>68.0</td>\n",
       "    </tr>\n",
       "  </tbody>\n",
       "</table>\n",
       "</div>"
      ],
      "text/plain": [
       "                      event_time     event_name  \\\n",
       "43016 2019-10-30 07:50:45.948358         search   \n",
       "43017 2019-10-30 07:53:12.730053    photos_show   \n",
       "43018 2019-10-30 07:54:25.826815    photos_show   \n",
       "43019 2019-10-30 07:55:09.436282         search   \n",
       "43020 2019-10-30 07:57:00.426097    photos_show   \n",
       "43021 2019-10-30 07:58:04.614017         search   \n",
       "43022 2019-10-30 07:58:11.976258    photos_show   \n",
       "43023 2019-10-30 07:59:26.486403    photos_show   \n",
       "43024 2019-10-30 08:01:05.420773  show_contacts   \n",
       "43025 2019-10-30 08:02:14.126151    photos_show   \n",
       "\n",
       "                                    user_id  source        date  \\\n",
       "43016  00157779-810c-4498-9e05-a1e9e3cedf93  yandex  2019-10-30   \n",
       "43017  00157779-810c-4498-9e05-a1e9e3cedf93  yandex  2019-10-30   \n",
       "43018  00157779-810c-4498-9e05-a1e9e3cedf93  yandex  2019-10-30   \n",
       "43019  00157779-810c-4498-9e05-a1e9e3cedf93  yandex  2019-10-30   \n",
       "43020  00157779-810c-4498-9e05-a1e9e3cedf93  yandex  2019-10-30   \n",
       "43021  00157779-810c-4498-9e05-a1e9e3cedf93  yandex  2019-10-30   \n",
       "43022  00157779-810c-4498-9e05-a1e9e3cedf93  yandex  2019-10-30   \n",
       "43023  00157779-810c-4498-9e05-a1e9e3cedf93  yandex  2019-10-30   \n",
       "43024  00157779-810c-4498-9e05-a1e9e3cedf93  yandex  2019-10-30   \n",
       "43025  00157779-810c-4498-9e05-a1e9e3cedf93  yandex  2019-10-30   \n",
       "\n",
       "                  time  period  \n",
       "43016  07:50:45.948358     NaN  \n",
       "43017  07:53:12.730053   146.0  \n",
       "43018  07:54:25.826815    73.0  \n",
       "43019  07:55:09.436282    43.0  \n",
       "43020  07:57:00.426097   110.0  \n",
       "43021  07:58:04.614017    64.0  \n",
       "43022  07:58:11.976258     7.0  \n",
       "43023  07:59:26.486403    74.0  \n",
       "43024  08:01:05.420773    98.0  \n",
       "43025  08:02:14.126151    68.0  "
      ]
     },
     "metadata": {},
     "output_type": "display_data"
    }
   ],
   "source": [
    "#проверка\n",
    "display(sessions_detailed.head(10))"
   ]
  },
  {
   "cell_type": "code",
   "execution_count": 53,
   "metadata": {},
   "outputs": [
    {
     "name": "stdout",
     "output_type": "stream",
     "text": [
      "<class 'pandas.core.frame.DataFrame'>\n",
      "Int64Index: 27197 entries, 43016 to 18813\n",
      "Data columns (total 7 columns):\n",
      " #   Column      Non-Null Count  Dtype         \n",
      "---  ------      --------------  -----         \n",
      " 0   event_time  27197 non-null  datetime64[ns]\n",
      " 1   event_name  27197 non-null  object        \n",
      " 2   user_id     27197 non-null  object        \n",
      " 3   source      27197 non-null  object        \n",
      " 4   date        27197 non-null  object        \n",
      " 5   time        27197 non-null  object        \n",
      " 6   period      26216 non-null  float64       \n",
      "dtypes: datetime64[ns](1), float64(1), object(5)\n",
      "memory usage: 1.7+ MB\n"
     ]
    }
   ],
   "source": [
    "sessions_detailed.info()"
   ]
  },
  {
   "cell_type": "code",
   "execution_count": 54,
   "metadata": {},
   "outputs": [
    {
     "data": {
      "text/html": [
       "<div>\n",
       "<style scoped>\n",
       "    .dataframe tbody tr th:only-of-type {\n",
       "        vertical-align: middle;\n",
       "    }\n",
       "\n",
       "    .dataframe tbody tr th {\n",
       "        vertical-align: top;\n",
       "    }\n",
       "\n",
       "    .dataframe thead th {\n",
       "        text-align: right;\n",
       "    }\n",
       "</style>\n",
       "<table border=\"1\" class=\"dataframe\">\n",
       "  <thead>\n",
       "    <tr style=\"text-align: right;\">\n",
       "      <th></th>\n",
       "      <th>event_time</th>\n",
       "      <th>event_name</th>\n",
       "      <th>user_id</th>\n",
       "      <th>source</th>\n",
       "      <th>date</th>\n",
       "      <th>time</th>\n",
       "      <th>period</th>\n",
       "      <th>session_id</th>\n",
       "      <th>count</th>\n",
       "    </tr>\n",
       "  </thead>\n",
       "  <tbody>\n",
       "    <tr>\n",
       "      <th>43016</th>\n",
       "      <td>2019-10-30 07:50:45.948358</td>\n",
       "      <td>search</td>\n",
       "      <td>00157779-810c-4498-9e05-a1e9e3cedf93</td>\n",
       "      <td>yandex</td>\n",
       "      <td>2019-10-30</td>\n",
       "      <td>07:50:45.948358</td>\n",
       "      <td>NaN</td>\n",
       "      <td>1</td>\n",
       "      <td>1</td>\n",
       "    </tr>\n",
       "    <tr>\n",
       "      <th>43017</th>\n",
       "      <td>2019-10-30 07:53:12.730053</td>\n",
       "      <td>photos_show</td>\n",
       "      <td>00157779-810c-4498-9e05-a1e9e3cedf93</td>\n",
       "      <td>yandex</td>\n",
       "      <td>2019-10-30</td>\n",
       "      <td>07:53:12.730053</td>\n",
       "      <td>146.0</td>\n",
       "      <td>1</td>\n",
       "      <td>1</td>\n",
       "    </tr>\n",
       "    <tr>\n",
       "      <th>43018</th>\n",
       "      <td>2019-10-30 07:54:25.826815</td>\n",
       "      <td>photos_show</td>\n",
       "      <td>00157779-810c-4498-9e05-a1e9e3cedf93</td>\n",
       "      <td>yandex</td>\n",
       "      <td>2019-10-30</td>\n",
       "      <td>07:54:25.826815</td>\n",
       "      <td>73.0</td>\n",
       "      <td>1</td>\n",
       "      <td>1</td>\n",
       "    </tr>\n",
       "    <tr>\n",
       "      <th>43019</th>\n",
       "      <td>2019-10-30 07:55:09.436282</td>\n",
       "      <td>search</td>\n",
       "      <td>00157779-810c-4498-9e05-a1e9e3cedf93</td>\n",
       "      <td>yandex</td>\n",
       "      <td>2019-10-30</td>\n",
       "      <td>07:55:09.436282</td>\n",
       "      <td>43.0</td>\n",
       "      <td>1</td>\n",
       "      <td>1</td>\n",
       "    </tr>\n",
       "    <tr>\n",
       "      <th>43020</th>\n",
       "      <td>2019-10-30 07:57:00.426097</td>\n",
       "      <td>photos_show</td>\n",
       "      <td>00157779-810c-4498-9e05-a1e9e3cedf93</td>\n",
       "      <td>yandex</td>\n",
       "      <td>2019-10-30</td>\n",
       "      <td>07:57:00.426097</td>\n",
       "      <td>110.0</td>\n",
       "      <td>1</td>\n",
       "      <td>1</td>\n",
       "    </tr>\n",
       "  </tbody>\n",
       "</table>\n",
       "</div>"
      ],
      "text/plain": [
       "                      event_time   event_name  \\\n",
       "43016 2019-10-30 07:50:45.948358       search   \n",
       "43017 2019-10-30 07:53:12.730053  photos_show   \n",
       "43018 2019-10-30 07:54:25.826815  photos_show   \n",
       "43019 2019-10-30 07:55:09.436282       search   \n",
       "43020 2019-10-30 07:57:00.426097  photos_show   \n",
       "\n",
       "                                    user_id  source        date  \\\n",
       "43016  00157779-810c-4498-9e05-a1e9e3cedf93  yandex  2019-10-30   \n",
       "43017  00157779-810c-4498-9e05-a1e9e3cedf93  yandex  2019-10-30   \n",
       "43018  00157779-810c-4498-9e05-a1e9e3cedf93  yandex  2019-10-30   \n",
       "43019  00157779-810c-4498-9e05-a1e9e3cedf93  yandex  2019-10-30   \n",
       "43020  00157779-810c-4498-9e05-a1e9e3cedf93  yandex  2019-10-30   \n",
       "\n",
       "                  time  period  session_id  count  \n",
       "43016  07:50:45.948358     NaN           1      1  \n",
       "43017  07:53:12.730053   146.0           1      1  \n",
       "43018  07:54:25.826815    73.0           1      1  \n",
       "43019  07:55:09.436282    43.0           1      1  \n",
       "43020  07:57:00.426097   110.0           1      1  "
      ]
     },
     "metadata": {},
     "output_type": "display_data"
    }
   ],
   "source": [
    "session_test = sessions_detailed\n",
    "\n",
    "#convert to datetimes\n",
    "session_test['event_time'] = pd.to_datetime(session_test['event_time'])\n",
    "#identify difference 15Min for each group with cumulative sum\n",
    "g = (session_test.groupby('user_id')['event_time'].diff() > pd.Timedelta('15Min')).cumsum()\n",
    "#create counter of groups\n",
    "session_test['session_id'] = session_test.groupby(['user_id', g], sort=False).ngroup() + 1\n",
    "session_test['count'] = 1\n",
    "\n",
    "display(session_test.head())"
   ]
  },
  {
   "cell_type": "markdown",
   "metadata": {},
   "source": [
    "Итого выше мы получили датасет с агрегацией по сессиям"
   ]
  },
  {
   "cell_type": "code",
   "execution_count": 55,
   "metadata": {},
   "outputs": [
    {
     "data": {
      "text/html": [
       "<div>\n",
       "<style scoped>\n",
       "    .dataframe tbody tr th:only-of-type {\n",
       "        vertical-align: middle;\n",
       "    }\n",
       "\n",
       "    .dataframe tbody tr th {\n",
       "        vertical-align: top;\n",
       "    }\n",
       "\n",
       "    .dataframe thead th {\n",
       "        text-align: right;\n",
       "    }\n",
       "</style>\n",
       "<table border=\"1\" class=\"dataframe\">\n",
       "  <thead>\n",
       "    <tr style=\"text-align: right;\">\n",
       "      <th></th>\n",
       "      <th>user_id</th>\n",
       "      <th>date</th>\n",
       "      <th>source</th>\n",
       "      <th>time</th>\n",
       "    </tr>\n",
       "  </thead>\n",
       "  <tbody>\n",
       "    <tr>\n",
       "      <th>0</th>\n",
       "      <td>00157779-810c-4498-9e05-a1e9e3cedf93</td>\n",
       "      <td>2019-10-19</td>\n",
       "      <td>yandex</td>\n",
       "      <td>21:59:54.637098</td>\n",
       "    </tr>\n",
       "    <tr>\n",
       "      <th>1</th>\n",
       "      <td>00157779-810c-4498-9e05-a1e9e3cedf93</td>\n",
       "      <td>2019-10-20</td>\n",
       "      <td>yandex</td>\n",
       "      <td>20:05:36.234073</td>\n",
       "    </tr>\n",
       "    <tr>\n",
       "      <th>2</th>\n",
       "      <td>00157779-810c-4498-9e05-a1e9e3cedf93</td>\n",
       "      <td>2019-10-24</td>\n",
       "      <td>yandex</td>\n",
       "      <td>10:57:12.675110</td>\n",
       "    </tr>\n",
       "    <tr>\n",
       "      <th>3</th>\n",
       "      <td>00157779-810c-4498-9e05-a1e9e3cedf93</td>\n",
       "      <td>2019-10-29</td>\n",
       "      <td>yandex</td>\n",
       "      <td>22:10:25.712840</td>\n",
       "    </tr>\n",
       "    <tr>\n",
       "      <th>4</th>\n",
       "      <td>00157779-810c-4498-9e05-a1e9e3cedf93</td>\n",
       "      <td>2019-10-30</td>\n",
       "      <td>yandex</td>\n",
       "      <td>08:26:53.933176</td>\n",
       "    </tr>\n",
       "  </tbody>\n",
       "</table>\n",
       "</div>"
      ],
      "text/plain": [
       "                                user_id        date  source             time\n",
       "0  00157779-810c-4498-9e05-a1e9e3cedf93  2019-10-19  yandex  21:59:54.637098\n",
       "1  00157779-810c-4498-9e05-a1e9e3cedf93  2019-10-20  yandex  20:05:36.234073\n",
       "2  00157779-810c-4498-9e05-a1e9e3cedf93  2019-10-24  yandex  10:57:12.675110\n",
       "3  00157779-810c-4498-9e05-a1e9e3cedf93  2019-10-29  yandex  22:10:25.712840\n",
       "4  00157779-810c-4498-9e05-a1e9e3cedf93  2019-10-30  yandex  08:26:53.933176"
      ]
     },
     "metadata": {},
     "output_type": "display_data"
    }
   ],
   "source": [
    "session = target_data.groupby(['user_id', 'date', 'source'])['time'].agg('max').reset_index()\n",
    "display(session.head(5))"
   ]
  },
  {
   "cell_type": "code",
   "execution_count": 56,
   "metadata": {},
   "outputs": [],
   "source": [
    "target_data['target_action'] = target_data['event_name'].map({'show_contacts': '1'})\n",
    "target_data['target_action'] = target_data['target_action'].fillna(0).astype(int)"
   ]
  },
  {
   "cell_type": "code",
   "execution_count": 57,
   "metadata": {},
   "outputs": [
    {
     "data": {
      "text/html": [
       "<div>\n",
       "<style scoped>\n",
       "    .dataframe tbody tr th:only-of-type {\n",
       "        vertical-align: middle;\n",
       "    }\n",
       "\n",
       "    .dataframe tbody tr th {\n",
       "        vertical-align: top;\n",
       "    }\n",
       "\n",
       "    .dataframe thead th {\n",
       "        text-align: right;\n",
       "    }\n",
       "</style>\n",
       "<table border=\"1\" class=\"dataframe\">\n",
       "  <thead>\n",
       "    <tr style=\"text-align: right;\">\n",
       "      <th></th>\n",
       "      <th>event_time</th>\n",
       "      <th>event_name</th>\n",
       "      <th>user_id</th>\n",
       "      <th>source</th>\n",
       "      <th>date</th>\n",
       "      <th>time</th>\n",
       "      <th>target_action</th>\n",
       "    </tr>\n",
       "  </thead>\n",
       "  <tbody>\n",
       "    <tr>\n",
       "      <th>121</th>\n",
       "      <td>2019-10-07 00:02:07.374346</td>\n",
       "      <td>tips_show</td>\n",
       "      <td>8c356c42-3ba9-4cb6-80b8-3f868d0192c3</td>\n",
       "      <td>yandex</td>\n",
       "      <td>2019-10-07</td>\n",
       "      <td>00:02:07.374346</td>\n",
       "      <td>0</td>\n",
       "    </tr>\n",
       "    <tr>\n",
       "      <th>122</th>\n",
       "      <td>2019-10-07 00:05:16.003328</td>\n",
       "      <td>show_contacts</td>\n",
       "      <td>8c356c42-3ba9-4cb6-80b8-3f868d0192c3</td>\n",
       "      <td>yandex</td>\n",
       "      <td>2019-10-07</td>\n",
       "      <td>00:05:16.003328</td>\n",
       "      <td>1</td>\n",
       "    </tr>\n",
       "    <tr>\n",
       "      <th>123</th>\n",
       "      <td>2019-10-07 00:06:01.349291</td>\n",
       "      <td>tips_show</td>\n",
       "      <td>8c356c42-3ba9-4cb6-80b8-3f868d0192c3</td>\n",
       "      <td>yandex</td>\n",
       "      <td>2019-10-07</td>\n",
       "      <td>00:06:01.349291</td>\n",
       "      <td>0</td>\n",
       "    </tr>\n",
       "    <tr>\n",
       "      <th>124</th>\n",
       "      <td>2019-10-07 00:06:56.367054</td>\n",
       "      <td>tips_show</td>\n",
       "      <td>8c356c42-3ba9-4cb6-80b8-3f868d0192c3</td>\n",
       "      <td>yandex</td>\n",
       "      <td>2019-10-07</td>\n",
       "      <td>00:06:56.367054</td>\n",
       "      <td>0</td>\n",
       "    </tr>\n",
       "    <tr>\n",
       "      <th>125</th>\n",
       "      <td>2019-10-07 00:09:24.585200</td>\n",
       "      <td>tips_show</td>\n",
       "      <td>8c356c42-3ba9-4cb6-80b8-3f868d0192c3</td>\n",
       "      <td>yandex</td>\n",
       "      <td>2019-10-07</td>\n",
       "      <td>00:09:24.585200</td>\n",
       "      <td>0</td>\n",
       "    </tr>\n",
       "  </tbody>\n",
       "</table>\n",
       "</div>"
      ],
      "text/plain": [
       "                    event_time     event_name  \\\n",
       "121 2019-10-07 00:02:07.374346      tips_show   \n",
       "122 2019-10-07 00:05:16.003328  show_contacts   \n",
       "123 2019-10-07 00:06:01.349291      tips_show   \n",
       "124 2019-10-07 00:06:56.367054      tips_show   \n",
       "125 2019-10-07 00:09:24.585200      tips_show   \n",
       "\n",
       "                                  user_id  source        date  \\\n",
       "121  8c356c42-3ba9-4cb6-80b8-3f868d0192c3  yandex  2019-10-07   \n",
       "122  8c356c42-3ba9-4cb6-80b8-3f868d0192c3  yandex  2019-10-07   \n",
       "123  8c356c42-3ba9-4cb6-80b8-3f868d0192c3  yandex  2019-10-07   \n",
       "124  8c356c42-3ba9-4cb6-80b8-3f868d0192c3  yandex  2019-10-07   \n",
       "125  8c356c42-3ba9-4cb6-80b8-3f868d0192c3  yandex  2019-10-07   \n",
       "\n",
       "                time  target_action  \n",
       "121  00:02:07.374346              0  \n",
       "122  00:05:16.003328              1  \n",
       "123  00:06:01.349291              0  \n",
       "124  00:06:56.367054              0  \n",
       "125  00:09:24.585200              0  "
      ]
     },
     "metadata": {},
     "output_type": "display_data"
    }
   ],
   "source": [
    "display(target_data.head())"
   ]
  },
  {
   "cell_type": "code",
   "execution_count": 58,
   "metadata": {
    "scrolled": true
   },
   "outputs": [
    {
     "name": "stdout",
     "output_type": "stream",
     "text": [
      "['tips_show' 'show_contacts' 'tips_click' 'search' 'map' 'advert_open'\n",
      " 'photos_show' 'favorites_add' 'contacts_call']\n"
     ]
    }
   ],
   "source": [
    "print(target_data['event_name'].unique())"
   ]
  },
  {
   "cell_type": "code",
   "execution_count": 59,
   "metadata": {},
   "outputs": [],
   "source": [
    "#добавим в код отметку об остальных действиях\n",
    "\n",
    "#для tips_show\n",
    "target_data['tips_show'] = target_data['event_name'].map({'tips_show': '1'})\n",
    "target_data['tips_show'] = target_data['tips_show'].fillna(0).astype(int)\n",
    "\n",
    "#для tips_click\n",
    "target_data['tips_click'] = target_data['event_name'].map({'tips_click': '1'})\n",
    "target_data['tips_click'] = target_data['tips_click'].fillna(0).astype(int)\n",
    "\n",
    "#для search\n",
    "target_data['search'] = target_data['event_name'].map({'search': '1'})\n",
    "target_data['search'] = target_data['search'].fillna(0).astype(int)\n",
    "\n",
    "#для map\n",
    "target_data['map'] = target_data['event_name'].map({'map': '1'})\n",
    "target_data['map'] = target_data['map'].fillna(0).astype(int)\n",
    "\n",
    "#для advert_open\n",
    "target_data['advert_open'] = target_data['event_name'].map({'advert_open': '1'})\n",
    "target_data['advert_open'] = target_data['advert_open'].fillna(0).astype(int)\n",
    "\n",
    "#для photos_show\n",
    "target_data['photos_show'] = target_data['event_name'].map({'photos_show': '1'})\n",
    "target_data['photos_show'] = target_data['photos_show'].fillna(0).astype(int)\n",
    "\n",
    "#для favorites_add\n",
    "target_data['favorites_add'] = target_data['event_name'].map({'favorites_add': '1'})\n",
    "target_data['favorites_add'] = target_data['favorites_add'].fillna(0).astype(int)\n",
    "\n",
    "#для contacts_call\n",
    "target_data['contacts_call'] = target_data['event_name'].map({'contacts_call': '1'})\n",
    "target_data['contacts_call'] = target_data['contacts_call'].fillna(0).astype(int)"
   ]
  },
  {
   "cell_type": "code",
   "execution_count": null,
   "metadata": {},
   "outputs": [],
   "source": [
    "### КОД ТИМЛИДА\n",
    "\n",
    "for event in target_data['event_name'].unique():\n",
    "    target_data[event] = target_data['event_name'].map({event: '1'})\n",
    "    target_data[event] = target_data[event].fillna(0).astype(int)"
   ]
  },
  {
   "cell_type": "code",
   "execution_count": 60,
   "metadata": {},
   "outputs": [
    {
     "data": {
      "text/html": [
       "<div>\n",
       "<style scoped>\n",
       "    .dataframe tbody tr th:only-of-type {\n",
       "        vertical-align: middle;\n",
       "    }\n",
       "\n",
       "    .dataframe tbody tr th {\n",
       "        vertical-align: top;\n",
       "    }\n",
       "\n",
       "    .dataframe thead th {\n",
       "        text-align: right;\n",
       "    }\n",
       "</style>\n",
       "<table border=\"1\" class=\"dataframe\">\n",
       "  <thead>\n",
       "    <tr style=\"text-align: right;\">\n",
       "      <th></th>\n",
       "      <th>event_time</th>\n",
       "      <th>event_name</th>\n",
       "      <th>user_id</th>\n",
       "      <th>source</th>\n",
       "      <th>date</th>\n",
       "      <th>time</th>\n",
       "      <th>target_action</th>\n",
       "      <th>tips_show</th>\n",
       "      <th>tips_click</th>\n",
       "      <th>search</th>\n",
       "      <th>map</th>\n",
       "      <th>advert_open</th>\n",
       "      <th>photos_show</th>\n",
       "      <th>favorites_add</th>\n",
       "      <th>contacts_call</th>\n",
       "    </tr>\n",
       "  </thead>\n",
       "  <tbody>\n",
       "    <tr>\n",
       "      <th>121</th>\n",
       "      <td>2019-10-07 00:02:07.374346</td>\n",
       "      <td>tips_show</td>\n",
       "      <td>8c356c42-3ba9-4cb6-80b8-3f868d0192c3</td>\n",
       "      <td>yandex</td>\n",
       "      <td>2019-10-07</td>\n",
       "      <td>00:02:07.374346</td>\n",
       "      <td>0</td>\n",
       "      <td>1</td>\n",
       "      <td>0</td>\n",
       "      <td>0</td>\n",
       "      <td>0</td>\n",
       "      <td>0</td>\n",
       "      <td>0</td>\n",
       "      <td>0</td>\n",
       "      <td>0</td>\n",
       "    </tr>\n",
       "    <tr>\n",
       "      <th>122</th>\n",
       "      <td>2019-10-07 00:05:16.003328</td>\n",
       "      <td>show_contacts</td>\n",
       "      <td>8c356c42-3ba9-4cb6-80b8-3f868d0192c3</td>\n",
       "      <td>yandex</td>\n",
       "      <td>2019-10-07</td>\n",
       "      <td>00:05:16.003328</td>\n",
       "      <td>1</td>\n",
       "      <td>0</td>\n",
       "      <td>0</td>\n",
       "      <td>0</td>\n",
       "      <td>0</td>\n",
       "      <td>0</td>\n",
       "      <td>0</td>\n",
       "      <td>0</td>\n",
       "      <td>0</td>\n",
       "    </tr>\n",
       "    <tr>\n",
       "      <th>123</th>\n",
       "      <td>2019-10-07 00:06:01.349291</td>\n",
       "      <td>tips_show</td>\n",
       "      <td>8c356c42-3ba9-4cb6-80b8-3f868d0192c3</td>\n",
       "      <td>yandex</td>\n",
       "      <td>2019-10-07</td>\n",
       "      <td>00:06:01.349291</td>\n",
       "      <td>0</td>\n",
       "      <td>1</td>\n",
       "      <td>0</td>\n",
       "      <td>0</td>\n",
       "      <td>0</td>\n",
       "      <td>0</td>\n",
       "      <td>0</td>\n",
       "      <td>0</td>\n",
       "      <td>0</td>\n",
       "    </tr>\n",
       "    <tr>\n",
       "      <th>124</th>\n",
       "      <td>2019-10-07 00:06:56.367054</td>\n",
       "      <td>tips_show</td>\n",
       "      <td>8c356c42-3ba9-4cb6-80b8-3f868d0192c3</td>\n",
       "      <td>yandex</td>\n",
       "      <td>2019-10-07</td>\n",
       "      <td>00:06:56.367054</td>\n",
       "      <td>0</td>\n",
       "      <td>1</td>\n",
       "      <td>0</td>\n",
       "      <td>0</td>\n",
       "      <td>0</td>\n",
       "      <td>0</td>\n",
       "      <td>0</td>\n",
       "      <td>0</td>\n",
       "      <td>0</td>\n",
       "    </tr>\n",
       "    <tr>\n",
       "      <th>125</th>\n",
       "      <td>2019-10-07 00:09:24.585200</td>\n",
       "      <td>tips_show</td>\n",
       "      <td>8c356c42-3ba9-4cb6-80b8-3f868d0192c3</td>\n",
       "      <td>yandex</td>\n",
       "      <td>2019-10-07</td>\n",
       "      <td>00:09:24.585200</td>\n",
       "      <td>0</td>\n",
       "      <td>1</td>\n",
       "      <td>0</td>\n",
       "      <td>0</td>\n",
       "      <td>0</td>\n",
       "      <td>0</td>\n",
       "      <td>0</td>\n",
       "      <td>0</td>\n",
       "      <td>0</td>\n",
       "    </tr>\n",
       "  </tbody>\n",
       "</table>\n",
       "</div>"
      ],
      "text/plain": [
       "                    event_time     event_name  \\\n",
       "121 2019-10-07 00:02:07.374346      tips_show   \n",
       "122 2019-10-07 00:05:16.003328  show_contacts   \n",
       "123 2019-10-07 00:06:01.349291      tips_show   \n",
       "124 2019-10-07 00:06:56.367054      tips_show   \n",
       "125 2019-10-07 00:09:24.585200      tips_show   \n",
       "\n",
       "                                  user_id  source        date  \\\n",
       "121  8c356c42-3ba9-4cb6-80b8-3f868d0192c3  yandex  2019-10-07   \n",
       "122  8c356c42-3ba9-4cb6-80b8-3f868d0192c3  yandex  2019-10-07   \n",
       "123  8c356c42-3ba9-4cb6-80b8-3f868d0192c3  yandex  2019-10-07   \n",
       "124  8c356c42-3ba9-4cb6-80b8-3f868d0192c3  yandex  2019-10-07   \n",
       "125  8c356c42-3ba9-4cb6-80b8-3f868d0192c3  yandex  2019-10-07   \n",
       "\n",
       "                time  target_action  tips_show  tips_click  search  map  \\\n",
       "121  00:02:07.374346              0          1           0       0    0   \n",
       "122  00:05:16.003328              1          0           0       0    0   \n",
       "123  00:06:01.349291              0          1           0       0    0   \n",
       "124  00:06:56.367054              0          1           0       0    0   \n",
       "125  00:09:24.585200              0          1           0       0    0   \n",
       "\n",
       "     advert_open  photos_show  favorites_add  contacts_call  \n",
       "121            0            0              0              0  \n",
       "122            0            0              0              0  \n",
       "123            0            0              0              0  \n",
       "124            0            0              0              0  \n",
       "125            0            0              0              0  "
      ]
     },
     "metadata": {},
     "output_type": "display_data"
    }
   ],
   "source": [
    "display(target_data.head())"
   ]
  },
  {
   "cell_type": "code",
   "execution_count": 61,
   "metadata": {},
   "outputs": [
    {
     "name": "stdout",
     "output_type": "stream",
     "text": [
      "<class 'pandas.core.frame.DataFrame'>\n",
      "Int64Index: 27197 entries, 121 to 74191\n",
      "Data columns (total 15 columns):\n",
      " #   Column         Non-Null Count  Dtype         \n",
      "---  ------         --------------  -----         \n",
      " 0   event_time     27197 non-null  datetime64[ns]\n",
      " 1   event_name     27197 non-null  object        \n",
      " 2   user_id        27197 non-null  object        \n",
      " 3   source         27197 non-null  object        \n",
      " 4   date           27197 non-null  object        \n",
      " 5   time           27197 non-null  object        \n",
      " 6   target_action  27197 non-null  int64         \n",
      " 7   tips_show      27197 non-null  int64         \n",
      " 8   tips_click     27197 non-null  int64         \n",
      " 9   search         27197 non-null  int64         \n",
      " 10  map            27197 non-null  int64         \n",
      " 11  advert_open    27197 non-null  int64         \n",
      " 12  photos_show    27197 non-null  int64         \n",
      " 13  favorites_add  27197 non-null  int64         \n",
      " 14  contacts_call  27197 non-null  int64         \n",
      "dtypes: datetime64[ns](1), int64(9), object(5)\n",
      "memory usage: 3.3+ MB\n"
     ]
    }
   ],
   "source": [
    "target_data.info()"
   ]
  },
  {
   "cell_type": "code",
   "execution_count": 62,
   "metadata": {},
   "outputs": [],
   "source": [
    "#сгруппируем данные пользователей по сессиям и узнаем какие действия в каком количестве они совершали во время каждой сессии\n",
    "\n",
    "data_grouped = target_data.groupby(['user_id', 'date']).agg({'target_action':'sum', 'tips_show':'sum', 'tips_click':'sum','target_action':'sum','search':'sum','map':'sum','advert_open':'sum','photos_show':'sum','favorites_add':'sum','contacts_call':'sum'})\n",
    "data_grouped = data_grouped.reset_index()"
   ]
  },
  {
   "cell_type": "code",
   "execution_count": 63,
   "metadata": {},
   "outputs": [
    {
     "data": {
      "text/html": [
       "<div>\n",
       "<style scoped>\n",
       "    .dataframe tbody tr th:only-of-type {\n",
       "        vertical-align: middle;\n",
       "    }\n",
       "\n",
       "    .dataframe tbody tr th {\n",
       "        vertical-align: top;\n",
       "    }\n",
       "\n",
       "    .dataframe thead th {\n",
       "        text-align: right;\n",
       "    }\n",
       "</style>\n",
       "<table border=\"1\" class=\"dataframe\">\n",
       "  <thead>\n",
       "    <tr style=\"text-align: right;\">\n",
       "      <th></th>\n",
       "      <th>user_id</th>\n",
       "      <th>date</th>\n",
       "      <th>target_action</th>\n",
       "      <th>tips_show</th>\n",
       "      <th>tips_click</th>\n",
       "      <th>search</th>\n",
       "      <th>map</th>\n",
       "      <th>advert_open</th>\n",
       "      <th>photos_show</th>\n",
       "      <th>favorites_add</th>\n",
       "      <th>contacts_call</th>\n",
       "    </tr>\n",
       "  </thead>\n",
       "  <tbody>\n",
       "    <tr>\n",
       "      <th>0</th>\n",
       "      <td>00157779-810c-4498-9e05-a1e9e3cedf93</td>\n",
       "      <td>2019-10-19</td>\n",
       "      <td>0</td>\n",
       "      <td>0</td>\n",
       "      <td>0</td>\n",
       "      <td>4</td>\n",
       "      <td>0</td>\n",
       "      <td>0</td>\n",
       "      <td>5</td>\n",
       "      <td>0</td>\n",
       "      <td>0</td>\n",
       "    </tr>\n",
       "    <tr>\n",
       "      <th>1</th>\n",
       "      <td>00157779-810c-4498-9e05-a1e9e3cedf93</td>\n",
       "      <td>2019-10-20</td>\n",
       "      <td>4</td>\n",
       "      <td>0</td>\n",
       "      <td>0</td>\n",
       "      <td>4</td>\n",
       "      <td>0</td>\n",
       "      <td>0</td>\n",
       "      <td>6</td>\n",
       "      <td>1</td>\n",
       "      <td>3</td>\n",
       "    </tr>\n",
       "    <tr>\n",
       "      <th>2</th>\n",
       "      <td>00157779-810c-4498-9e05-a1e9e3cedf93</td>\n",
       "      <td>2019-10-24</td>\n",
       "      <td>0</td>\n",
       "      <td>0</td>\n",
       "      <td>0</td>\n",
       "      <td>0</td>\n",
       "      <td>0</td>\n",
       "      <td>1</td>\n",
       "      <td>8</td>\n",
       "      <td>0</td>\n",
       "      <td>0</td>\n",
       "    </tr>\n",
       "    <tr>\n",
       "      <th>3</th>\n",
       "      <td>00157779-810c-4498-9e05-a1e9e3cedf93</td>\n",
       "      <td>2019-10-29</td>\n",
       "      <td>4</td>\n",
       "      <td>0</td>\n",
       "      <td>0</td>\n",
       "      <td>4</td>\n",
       "      <td>0</td>\n",
       "      <td>1</td>\n",
       "      <td>8</td>\n",
       "      <td>1</td>\n",
       "      <td>2</td>\n",
       "    </tr>\n",
       "    <tr>\n",
       "      <th>4</th>\n",
       "      <td>00157779-810c-4498-9e05-a1e9e3cedf93</td>\n",
       "      <td>2019-10-30</td>\n",
       "      <td>2</td>\n",
       "      <td>0</td>\n",
       "      <td>0</td>\n",
       "      <td>6</td>\n",
       "      <td>0</td>\n",
       "      <td>0</td>\n",
       "      <td>6</td>\n",
       "      <td>0</td>\n",
       "      <td>0</td>\n",
       "    </tr>\n",
       "  </tbody>\n",
       "</table>\n",
       "</div>"
      ],
      "text/plain": [
       "                                user_id        date  target_action  tips_show  \\\n",
       "0  00157779-810c-4498-9e05-a1e9e3cedf93  2019-10-19              0          0   \n",
       "1  00157779-810c-4498-9e05-a1e9e3cedf93  2019-10-20              4          0   \n",
       "2  00157779-810c-4498-9e05-a1e9e3cedf93  2019-10-24              0          0   \n",
       "3  00157779-810c-4498-9e05-a1e9e3cedf93  2019-10-29              4          0   \n",
       "4  00157779-810c-4498-9e05-a1e9e3cedf93  2019-10-30              2          0   \n",
       "\n",
       "   tips_click  search  map  advert_open  photos_show  favorites_add  \\\n",
       "0           0       4    0            0            5              0   \n",
       "1           0       4    0            0            6              1   \n",
       "2           0       0    0            1            8              0   \n",
       "3           0       4    0            1            8              1   \n",
       "4           0       6    0            0            6              0   \n",
       "\n",
       "   contacts_call  \n",
       "0              0  \n",
       "1              3  \n",
       "2              0  \n",
       "3              2  \n",
       "4              0  "
      ]
     },
     "execution_count": 63,
     "metadata": {},
     "output_type": "execute_result"
    }
   ],
   "source": [
    "#выведем шапку нового датасета на экран\n",
    "\n",
    "data_grouped.head()"
   ]
  },
  {
   "cell_type": "code",
   "execution_count": 64,
   "metadata": {},
   "outputs": [
    {
     "name": "stdout",
     "output_type": "stream",
     "text": [
      "<class 'pandas.core.frame.DataFrame'>\n",
      "RangeIndex: 2475 entries, 0 to 2474\n",
      "Data columns (total 11 columns):\n",
      " #   Column         Non-Null Count  Dtype \n",
      "---  ------         --------------  ----- \n",
      " 0   user_id        2475 non-null   object\n",
      " 1   date           2475 non-null   object\n",
      " 2   target_action  2475 non-null   int64 \n",
      " 3   tips_show      2475 non-null   int64 \n",
      " 4   tips_click     2475 non-null   int64 \n",
      " 5   search         2475 non-null   int64 \n",
      " 6   map            2475 non-null   int64 \n",
      " 7   advert_open    2475 non-null   int64 \n",
      " 8   photos_show    2475 non-null   int64 \n",
      " 9   favorites_add  2475 non-null   int64 \n",
      " 10  contacts_call  2475 non-null   int64 \n",
      "dtypes: int64(9), object(2)\n",
      "memory usage: 212.8+ KB\n"
     ]
    }
   ],
   "source": [
    "data_grouped.info()"
   ]
  },
  {
   "cell_type": "code",
   "execution_count": 65,
   "metadata": {},
   "outputs": [
    {
     "data": {
      "image/png": "[encoded data removed]",
      "text/plain": [
       "<Figure size 1080x1080 with 2 Axes>"
      ]
     },
     "metadata": {
      "needs_background": "light"
     },
     "output_type": "display_data"
    }
   ],
   "source": [
    "#визуализируем данные по корреляции действий пользователей\n",
    "\n",
    "contacts_corr = data_grouped.corr()\n",
    "\n",
    "# нарисуем heatmap\n",
    "\n",
    "plt.figure(figsize = (15,15))\n",
    "sns.heatmap(contacts_corr, square = True, annot = True)\n",
    "#sns.set(rc = {'figure.figsize':(20,20)})\n",
    "plt.show()"
   ]
  },
  {
   "cell_type": "code",
   "execution_count": 66,
   "metadata": {},
   "outputs": [
    {
     "data": {
      "text/html": [
       "<div>\n",
       "<style scoped>\n",
       "    .dataframe tbody tr th:only-of-type {\n",
       "        vertical-align: middle;\n",
       "    }\n",
       "\n",
       "    .dataframe tbody tr th {\n",
       "        vertical-align: top;\n",
       "    }\n",
       "\n",
       "    .dataframe thead th {\n",
       "        text-align: right;\n",
       "    }\n",
       "</style>\n",
       "<table border=\"1\" class=\"dataframe\">\n",
       "  <thead>\n",
       "    <tr style=\"text-align: right;\">\n",
       "      <th></th>\n",
       "      <th>target_action</th>\n",
       "      <th>tips_show</th>\n",
       "      <th>tips_click</th>\n",
       "      <th>search</th>\n",
       "      <th>map</th>\n",
       "      <th>advert_open</th>\n",
       "      <th>photos_show</th>\n",
       "      <th>favorites_add</th>\n",
       "      <th>contacts_call</th>\n",
       "    </tr>\n",
       "  </thead>\n",
       "  <tbody>\n",
       "    <tr>\n",
       "      <th>target_action</th>\n",
       "      <td>1.000000</td>\n",
       "      <td>0.260483</td>\n",
       "      <td>0.077956</td>\n",
       "      <td>-0.013977</td>\n",
       "      <td>0.054874</td>\n",
       "      <td>0.025622</td>\n",
       "      <td>-0.045913</td>\n",
       "      <td>0.034651</td>\n",
       "      <td>0.179861</td>\n",
       "    </tr>\n",
       "    <tr>\n",
       "      <th>tips_show</th>\n",
       "      <td>0.260483</td>\n",
       "      <td>1.000000</td>\n",
       "      <td>0.178817</td>\n",
       "      <td>-0.026357</td>\n",
       "      <td>0.340956</td>\n",
       "      <td>0.250901</td>\n",
       "      <td>-0.159431</td>\n",
       "      <td>0.034829</td>\n",
       "      <td>-0.131476</td>\n",
       "    </tr>\n",
       "    <tr>\n",
       "      <th>tips_click</th>\n",
       "      <td>0.077956</td>\n",
       "      <td>0.178817</td>\n",
       "      <td>1.000000</td>\n",
       "      <td>-0.035347</td>\n",
       "      <td>0.028425</td>\n",
       "      <td>-0.001573</td>\n",
       "      <td>-0.056941</td>\n",
       "      <td>0.097209</td>\n",
       "      <td>-0.047907</td>\n",
       "    </tr>\n",
       "    <tr>\n",
       "      <th>search</th>\n",
       "      <td>-0.013977</td>\n",
       "      <td>-0.026357</td>\n",
       "      <td>-0.035347</td>\n",
       "      <td>1.000000</td>\n",
       "      <td>0.009006</td>\n",
       "      <td>0.115486</td>\n",
       "      <td>0.067999</td>\n",
       "      <td>0.031562</td>\n",
       "      <td>0.038219</td>\n",
       "    </tr>\n",
       "    <tr>\n",
       "      <th>map</th>\n",
       "      <td>0.054874</td>\n",
       "      <td>0.340956</td>\n",
       "      <td>0.028425</td>\n",
       "      <td>0.009006</td>\n",
       "      <td>1.000000</td>\n",
       "      <td>0.185052</td>\n",
       "      <td>-0.079248</td>\n",
       "      <td>0.017923</td>\n",
       "      <td>-0.066368</td>\n",
       "    </tr>\n",
       "    <tr>\n",
       "      <th>advert_open</th>\n",
       "      <td>0.025622</td>\n",
       "      <td>0.250901</td>\n",
       "      <td>-0.001573</td>\n",
       "      <td>0.115486</td>\n",
       "      <td>0.185052</td>\n",
       "      <td>1.000000</td>\n",
       "      <td>-0.017655</td>\n",
       "      <td>0.102906</td>\n",
       "      <td>-0.031631</td>\n",
       "    </tr>\n",
       "    <tr>\n",
       "      <th>photos_show</th>\n",
       "      <td>-0.045913</td>\n",
       "      <td>-0.159431</td>\n",
       "      <td>-0.056941</td>\n",
       "      <td>0.067999</td>\n",
       "      <td>-0.079248</td>\n",
       "      <td>-0.017655</td>\n",
       "      <td>1.000000</td>\n",
       "      <td>0.062808</td>\n",
       "      <td>0.088705</td>\n",
       "    </tr>\n",
       "    <tr>\n",
       "      <th>favorites_add</th>\n",
       "      <td>0.034651</td>\n",
       "      <td>0.034829</td>\n",
       "      <td>0.097209</td>\n",
       "      <td>0.031562</td>\n",
       "      <td>0.017923</td>\n",
       "      <td>0.102906</td>\n",
       "      <td>0.062808</td>\n",
       "      <td>1.000000</td>\n",
       "      <td>0.032673</td>\n",
       "    </tr>\n",
       "    <tr>\n",
       "      <th>contacts_call</th>\n",
       "      <td>0.179861</td>\n",
       "      <td>-0.131476</td>\n",
       "      <td>-0.047907</td>\n",
       "      <td>0.038219</td>\n",
       "      <td>-0.066368</td>\n",
       "      <td>-0.031631</td>\n",
       "      <td>0.088705</td>\n",
       "      <td>0.032673</td>\n",
       "      <td>1.000000</td>\n",
       "    </tr>\n",
       "  </tbody>\n",
       "</table>\n",
       "</div>"
      ],
      "text/plain": [
       "               target_action  tips_show  tips_click    search       map  \\\n",
       "target_action       1.000000   0.260483    0.077956 -0.013977  0.054874   \n",
       "tips_show           0.260483   1.000000    0.178817 -0.026357  0.340956   \n",
       "tips_click          0.077956   0.178817    1.000000 -0.035347  0.028425   \n",
       "search             -0.013977  -0.026357   -0.035347  1.000000  0.009006   \n",
       "map                 0.054874   0.340956    0.028425  0.009006  1.000000   \n",
       "advert_open         0.025622   0.250901   -0.001573  0.115486  0.185052   \n",
       "photos_show        -0.045913  -0.159431   -0.056941  0.067999 -0.079248   \n",
       "favorites_add       0.034651   0.034829    0.097209  0.031562  0.017923   \n",
       "contacts_call       0.179861  -0.131476   -0.047907  0.038219 -0.066368   \n",
       "\n",
       "               advert_open  photos_show  favorites_add  contacts_call  \n",
       "target_action     0.025622    -0.045913       0.034651       0.179861  \n",
       "tips_show         0.250901    -0.159431       0.034829      -0.131476  \n",
       "tips_click       -0.001573    -0.056941       0.097209      -0.047907  \n",
       "search            0.115486     0.067999       0.031562       0.038219  \n",
       "map               0.185052    -0.079248       0.017923      -0.066368  \n",
       "advert_open       1.000000    -0.017655       0.102906      -0.031631  \n",
       "photos_show      -0.017655     1.000000       0.062808       0.088705  \n",
       "favorites_add     0.102906     0.062808       1.000000       0.032673  \n",
       "contacts_call    -0.031631     0.088705       0.032673       1.000000  "
      ]
     },
     "execution_count": 66,
     "metadata": {},
     "output_type": "execute_result"
    }
   ],
   "source": [
    "data_grouped.corr()"
   ]
  },
  {
   "cell_type": "markdown",
   "metadata": {},
   "source": [
    "Видим, что наибольшая корреляция просмотра контактов наблюдается со следующими действиями пользователей:\n",
    "    \n",
    "1.tips_show - показ объявления\n",
    "\n",
    "2.tips_click - клик по рекомендованному объявлению\n",
    "\n",
    "3.map - открытие карты объявлений\n",
    "\n",
    "*4.contacts_call - звонок по объявлению скорее является признаком, который зависит от просмотра контактов. Конечно, косвенно он также может взаимно влиять на просмотр следующих контактов, например, если после разговора с продавцом что-то заставило пользователя отказаться от покупки и возобновить поиски."
   ]
  },
  {
   "cell_type": "markdown",
   "metadata": {},
   "source": [
    "Однако здесь показана прямая зависимость для просмотра контактов. Так если мы пойдем выше по воронке, то при помощи тепловой карты увидим, что действие tips_show наиболее связано с просмотром карты объявлений и открытием рекламного объявления. **Поэтому данные действия пользователя также необходимо включить в анализ воронки событий**"
   ]
  },
  {
   "cell_type": "code",
   "execution_count": 67,
   "metadata": {},
   "outputs": [
    {
     "data": {
      "text/html": [
       "<div>\n",
       "<style scoped>\n",
       "    .dataframe tbody tr th:only-of-type {\n",
       "        vertical-align: middle;\n",
       "    }\n",
       "\n",
       "    .dataframe tbody tr th {\n",
       "        vertical-align: top;\n",
       "    }\n",
       "\n",
       "    .dataframe thead th {\n",
       "        text-align: right;\n",
       "    }\n",
       "</style>\n",
       "<table border=\"1\" class=\"dataframe\">\n",
       "  <thead>\n",
       "    <tr style=\"text-align: right;\">\n",
       "      <th></th>\n",
       "      <th>target_action</th>\n",
       "      <th>tips_show</th>\n",
       "      <th>tips_click</th>\n",
       "      <th>search</th>\n",
       "      <th>map</th>\n",
       "      <th>advert_open</th>\n",
       "      <th>photos_show</th>\n",
       "      <th>favorites_add</th>\n",
       "      <th>contacts_call</th>\n",
       "    </tr>\n",
       "  </thead>\n",
       "  <tbody>\n",
       "    <tr>\n",
       "      <th>count</th>\n",
       "      <td>2475.000000</td>\n",
       "      <td>2475.000000</td>\n",
       "      <td>2475.000000</td>\n",
       "      <td>2475.000000</td>\n",
       "      <td>2475.000000</td>\n",
       "      <td>2475.000000</td>\n",
       "      <td>2475.000000</td>\n",
       "      <td>2475.000000</td>\n",
       "      <td>2475.000000</td>\n",
       "    </tr>\n",
       "    <tr>\n",
       "      <th>mean</th>\n",
       "      <td>1.829899</td>\n",
       "      <td>5.158788</td>\n",
       "      <td>0.134545</td>\n",
       "      <td>0.842020</td>\n",
       "      <td>0.444848</td>\n",
       "      <td>0.642020</td>\n",
       "      <td>1.546667</td>\n",
       "      <td>0.171313</td>\n",
       "      <td>0.218586</td>\n",
       "    </tr>\n",
       "    <tr>\n",
       "      <th>std</th>\n",
       "      <td>3.985188</td>\n",
       "      <td>10.336391</td>\n",
       "      <td>0.739845</td>\n",
       "      <td>2.108154</td>\n",
       "      <td>1.765705</td>\n",
       "      <td>3.053208</td>\n",
       "      <td>4.826553</td>\n",
       "      <td>0.898972</td>\n",
       "      <td>0.830099</td>\n",
       "    </tr>\n",
       "    <tr>\n",
       "      <th>min</th>\n",
       "      <td>0.000000</td>\n",
       "      <td>0.000000</td>\n",
       "      <td>0.000000</td>\n",
       "      <td>0.000000</td>\n",
       "      <td>0.000000</td>\n",
       "      <td>0.000000</td>\n",
       "      <td>0.000000</td>\n",
       "      <td>0.000000</td>\n",
       "      <td>0.000000</td>\n",
       "    </tr>\n",
       "    <tr>\n",
       "      <th>25%</th>\n",
       "      <td>0.000000</td>\n",
       "      <td>0.000000</td>\n",
       "      <td>0.000000</td>\n",
       "      <td>0.000000</td>\n",
       "      <td>0.000000</td>\n",
       "      <td>0.000000</td>\n",
       "      <td>0.000000</td>\n",
       "      <td>0.000000</td>\n",
       "      <td>0.000000</td>\n",
       "    </tr>\n",
       "    <tr>\n",
       "      <th>50%</th>\n",
       "      <td>1.000000</td>\n",
       "      <td>0.000000</td>\n",
       "      <td>0.000000</td>\n",
       "      <td>0.000000</td>\n",
       "      <td>0.000000</td>\n",
       "      <td>0.000000</td>\n",
       "      <td>0.000000</td>\n",
       "      <td>0.000000</td>\n",
       "      <td>0.000000</td>\n",
       "    </tr>\n",
       "    <tr>\n",
       "      <th>75%</th>\n",
       "      <td>2.000000</td>\n",
       "      <td>6.000000</td>\n",
       "      <td>0.000000</td>\n",
       "      <td>1.000000</td>\n",
       "      <td>0.000000</td>\n",
       "      <td>0.000000</td>\n",
       "      <td>1.000000</td>\n",
       "      <td>0.000000</td>\n",
       "      <td>0.000000</td>\n",
       "    </tr>\n",
       "    <tr>\n",
       "      <th>max</th>\n",
       "      <td>67.000000</td>\n",
       "      <td>124.000000</td>\n",
       "      <td>14.000000</td>\n",
       "      <td>51.000000</td>\n",
       "      <td>48.000000</td>\n",
       "      <td>62.000000</td>\n",
       "      <td>98.000000</td>\n",
       "      <td>16.000000</td>\n",
       "      <td>13.000000</td>\n",
       "    </tr>\n",
       "  </tbody>\n",
       "</table>\n",
       "</div>"
      ],
      "text/plain": [
       "       target_action    tips_show   tips_click       search          map  \\\n",
       "count    2475.000000  2475.000000  2475.000000  2475.000000  2475.000000   \n",
       "mean        1.829899     5.158788     0.134545     0.842020     0.444848   \n",
       "std         3.985188    10.336391     0.739845     2.108154     1.765705   \n",
       "min         0.000000     0.000000     0.000000     0.000000     0.000000   \n",
       "25%         0.000000     0.000000     0.000000     0.000000     0.000000   \n",
       "50%         1.000000     0.000000     0.000000     0.000000     0.000000   \n",
       "75%         2.000000     6.000000     0.000000     1.000000     0.000000   \n",
       "max        67.000000   124.000000    14.000000    51.000000    48.000000   \n",
       "\n",
       "       advert_open  photos_show  favorites_add  contacts_call  \n",
       "count  2475.000000  2475.000000    2475.000000    2475.000000  \n",
       "mean      0.642020     1.546667       0.171313       0.218586  \n",
       "std       3.053208     4.826553       0.898972       0.830099  \n",
       "min       0.000000     0.000000       0.000000       0.000000  \n",
       "25%       0.000000     0.000000       0.000000       0.000000  \n",
       "50%       0.000000     0.000000       0.000000       0.000000  \n",
       "75%       0.000000     1.000000       0.000000       0.000000  \n",
       "max      62.000000    98.000000      16.000000      13.000000  "
      ]
     },
     "execution_count": 67,
     "metadata": {},
     "output_type": "execute_result"
    }
   ],
   "source": [
    "#изучим данные по действиям пользователей в сессию (день) \n",
    "\n",
    "data_grouped.describe()"
   ]
  },
  {
   "cell_type": "code",
   "execution_count": 68,
   "metadata": {},
   "outputs": [
    {
     "name": "stdout",
     "output_type": "stream",
     "text": [
      "Статистика по целевым пользователям, хотя бы раз совершившим целевое действие\n",
      "\n",
      "Количество действий по просмотру контактов: 4529\n",
      "Количество действий по просмотру объявлений (верхнеуровневому): 12768\n",
      "Количество действий по клику на объявление: 333\n",
      "Количество действий по поиску в приложении: 2084\n",
      "Количество действий по открытию карты объявлений: 1101\n",
      "Количество действий по открытию объявления: 1589\n",
      "Количество действий по просмотру фото: 3828\n",
      "Количество действий по добавлению объявления в избранное: 424\n",
      "Количество действий по совершению звонка по объявлению: 541\n"
     ]
    }
   ],
   "source": [
    "print('Статистика по целевым пользователям, хотя бы раз совершившим целевое действие')\n",
    "print()\n",
    "print('Количество действий по просмотру контактов:', data_grouped['target_action'].sum())\n",
    "print('Количество действий по просмотру объявлений (верхнеуровневому):',data_grouped['tips_show'].sum())\n",
    "print('Количество действий по клику на объявление:', data_grouped['tips_click'].sum())\n",
    "print('Количество действий по поиску в приложении:', data_grouped['search'].sum())\n",
    "print('Количество действий по открытию карты объявлений:', data_grouped['map'].sum())\n",
    "print('Количество действий по открытию объявления:', data_grouped['advert_open'].sum())\n",
    "print('Количество действий по просмотру фото:', data_grouped['photos_show'].sum())\n",
    "print('Количество действий по добавлению объявления в избранное:', data_grouped['favorites_add'].sum())\n",
    "print('Количество действий по совершению звонка по объявлению:', data_grouped['contacts_call'].sum())"
   ]
  },
  {
   "cell_type": "markdown",
   "metadata": {},
   "source": [
    "Таким образом, мы получили свод по активности среднестатистического целевого пользователя: наши пользователи в среднем за сессию (день) просматривают по два контакта, просматривая при этом 5 рекомендованных объявлений. Видим, что велико число просмотров контактов и рекомендованных объявлений в сравнении с остальными действиями. Это может говорить о том, что многие пользователи переходят к объявлению и контактам, минуя первоначальны интерфейс приложения с поиском (возможно, переходят по ссылке от друзей или с других внешних ресурсов)."
   ]
  },
  {
   "cell_type": "markdown",
   "metadata": {},
   "source": [
    "### Анализ воронок событий"
   ]
  },
  {
   "cell_type": "markdown",
   "metadata": {},
   "source": [
    "Исходя из данных анализа, сделанного выше, мы можем сделать вывод, что большое количество пользователей просматривает контакты, просто перейдя по внешней ссылке (например, получают ссылки на нужное объявление от друзей). Данная воронка, состоящая из одного действия, нас не будет интересовать, так как, во-первых, мы не можем напрямую на неё повлиять, и, во-вторых, ей предшествуют действия как раз того ключевого пользователя, который был вынужден пройти полный пользоватльский путь для поиска объявления. **Именно второй случай нас будет интересовать с точки зрения анализа пути клиента в приложении.**"
   ]
  },
  {
   "cell_type": "markdown",
   "metadata": {},
   "source": [
    "Тогда сравним две воронки событий пользовательского пути по сессиям и наиболее часто встречающимся событиям."
   ]
  },
  {
   "cell_type": "markdown",
   "metadata": {},
   "source": [
    "#### Первый вариант: по дням и наиболее часто повторяющимся событиям"
   ]
  },
  {
   "cell_type": "markdown",
   "metadata": {},
   "source": [
    "Для дальнейшего анализа сгруппируем данные по сессиям, действиям и времени. Далее для опеределения первого действия в сессии, которое чаще всего совершают пользователи, присоединим время начала сессии и узнаем, с какого шага начинался путь каждого пользователя (по сессиям)."
   ]
  },
  {
   "cell_type": "code",
   "execution_count": 69,
   "metadata": {},
   "outputs": [
    {
     "data": {
      "text/html": [
       "<div>\n",
       "<style scoped>\n",
       "    .dataframe tbody tr th:only-of-type {\n",
       "        vertical-align: middle;\n",
       "    }\n",
       "\n",
       "    .dataframe tbody tr th {\n",
       "        vertical-align: top;\n",
       "    }\n",
       "\n",
       "    .dataframe thead th {\n",
       "        text-align: right;\n",
       "    }\n",
       "</style>\n",
       "<table border=\"1\" class=\"dataframe\">\n",
       "  <thead>\n",
       "    <tr style=\"text-align: right;\">\n",
       "      <th></th>\n",
       "      <th></th>\n",
       "      <th>event_time</th>\n",
       "      <th>count</th>\n",
       "    </tr>\n",
       "    <tr>\n",
       "      <th>session_id</th>\n",
       "      <th>event_name</th>\n",
       "      <th></th>\n",
       "      <th></th>\n",
       "    </tr>\n",
       "  </thead>\n",
       "  <tbody>\n",
       "    <tr>\n",
       "      <th rowspan=\"3\" valign=\"top\">1</th>\n",
       "      <th>search</th>\n",
       "      <td>2019-10-30 07:50:45.948358</td>\n",
       "      <td>6</td>\n",
       "    </tr>\n",
       "    <tr>\n",
       "      <th>photos_show</th>\n",
       "      <td>2019-10-30 07:53:12.730053</td>\n",
       "      <td>6</td>\n",
       "    </tr>\n",
       "    <tr>\n",
       "      <th>show_contacts</th>\n",
       "      <td>2019-10-30 08:01:05.420773</td>\n",
       "      <td>1</td>\n",
       "    </tr>\n",
       "    <tr>\n",
       "      <th rowspan=\"2\" valign=\"top\">2</th>\n",
       "      <th>photos_show</th>\n",
       "      <td>2019-10-24 10:50:40.219833</td>\n",
       "      <td>8</td>\n",
       "    </tr>\n",
       "    <tr>\n",
       "      <th>advert_open</th>\n",
       "      <td>2019-10-24 10:52:18.644065</td>\n",
       "      <td>1</td>\n",
       "    </tr>\n",
       "    <tr>\n",
       "      <th>...</th>\n",
       "      <th>...</th>\n",
       "      <td>...</td>\n",
       "      <td>...</td>\n",
       "    </tr>\n",
       "    <tr>\n",
       "      <th>4128</th>\n",
       "      <th>show_contacts</th>\n",
       "      <td>2019-11-02 18:17:41.386651</td>\n",
       "      <td>1</td>\n",
       "    </tr>\n",
       "    <tr>\n",
       "      <th>4129</th>\n",
       "      <th>tips_show</th>\n",
       "      <td>2019-10-16 18:39:40.968592</td>\n",
       "      <td>1</td>\n",
       "    </tr>\n",
       "    <tr>\n",
       "      <th rowspan=\"2\" valign=\"top\">4130</th>\n",
       "      <th>tips_show</th>\n",
       "      <td>2019-10-17 20:09:19.443255</td>\n",
       "      <td>8</td>\n",
       "    </tr>\n",
       "    <tr>\n",
       "      <th>show_contacts</th>\n",
       "      <td>2019-10-27 20:00:53.687128</td>\n",
       "      <td>2</td>\n",
       "    </tr>\n",
       "    <tr>\n",
       "      <th>4131</th>\n",
       "      <th>tips_show</th>\n",
       "      <td>2019-10-16 22:51:41.468371</td>\n",
       "      <td>3</td>\n",
       "    </tr>\n",
       "  </tbody>\n",
       "</table>\n",
       "<p>8018 rows × 2 columns</p>\n",
       "</div>"
      ],
      "text/plain": [
       "                                         event_time  count\n",
       "session_id event_name                                     \n",
       "1          search        2019-10-30 07:50:45.948358      6\n",
       "           photos_show   2019-10-30 07:53:12.730053      6\n",
       "           show_contacts 2019-10-30 08:01:05.420773      1\n",
       "2          photos_show   2019-10-24 10:50:40.219833      8\n",
       "           advert_open   2019-10-24 10:52:18.644065      1\n",
       "...                                             ...    ...\n",
       "4128       show_contacts 2019-11-02 18:17:41.386651      1\n",
       "4129       tips_show     2019-10-16 18:39:40.968592      1\n",
       "4130       tips_show     2019-10-17 20:09:19.443255      8\n",
       "           show_contacts 2019-10-27 20:00:53.687128      2\n",
       "4131       tips_show     2019-10-16 22:51:41.468371      3\n",
       "\n",
       "[8018 rows x 2 columns]"
      ]
     },
     "metadata": {},
     "output_type": "display_data"
    }
   ],
   "source": [
    "sessions_grouped = session_test.groupby(['session_id','event_name']).agg({'event_time':'min', 'count': 'sum', }).sort_values(by = ['session_id', 'event_time'])\n",
    "display(sessions_grouped)"
   ]
  },
  {
   "cell_type": "code",
   "execution_count": 70,
   "metadata": {},
   "outputs": [
    {
     "data": {
      "text/html": [
       "<div>\n",
       "<style scoped>\n",
       "    .dataframe tbody tr th:only-of-type {\n",
       "        vertical-align: middle;\n",
       "    }\n",
       "\n",
       "    .dataframe tbody tr th {\n",
       "        vertical-align: top;\n",
       "    }\n",
       "\n",
       "    .dataframe thead th {\n",
       "        text-align: right;\n",
       "    }\n",
       "</style>\n",
       "<table border=\"1\" class=\"dataframe\">\n",
       "  <thead>\n",
       "    <tr style=\"text-align: right;\">\n",
       "      <th></th>\n",
       "      <th>session_id</th>\n",
       "      <th>event_name</th>\n",
       "      <th>event_time</th>\n",
       "      <th>count</th>\n",
       "      <th>event_time_min</th>\n",
       "      <th>diff</th>\n",
       "    </tr>\n",
       "  </thead>\n",
       "  <tbody>\n",
       "    <tr>\n",
       "      <th>0</th>\n",
       "      <td>1</td>\n",
       "      <td>search</td>\n",
       "      <td>2019-10-30 07:50:45.948358</td>\n",
       "      <td>6</td>\n",
       "      <td>2019-10-30 07:50:45.948358</td>\n",
       "      <td>0 days 00:00:00</td>\n",
       "    </tr>\n",
       "    <tr>\n",
       "      <th>1</th>\n",
       "      <td>1</td>\n",
       "      <td>photos_show</td>\n",
       "      <td>2019-10-30 07:53:12.730053</td>\n",
       "      <td>6</td>\n",
       "      <td>2019-10-30 07:50:45.948358</td>\n",
       "      <td>0 days 00:02:26.781695</td>\n",
       "    </tr>\n",
       "    <tr>\n",
       "      <th>2</th>\n",
       "      <td>1</td>\n",
       "      <td>show_contacts</td>\n",
       "      <td>2019-10-30 08:01:05.420773</td>\n",
       "      <td>1</td>\n",
       "      <td>2019-10-30 07:50:45.948358</td>\n",
       "      <td>0 days 00:10:19.472415</td>\n",
       "    </tr>\n",
       "    <tr>\n",
       "      <th>3</th>\n",
       "      <td>2</td>\n",
       "      <td>photos_show</td>\n",
       "      <td>2019-10-24 10:50:40.219833</td>\n",
       "      <td>8</td>\n",
       "      <td>2019-10-24 10:50:40.219833</td>\n",
       "      <td>0 days 00:00:00</td>\n",
       "    </tr>\n",
       "    <tr>\n",
       "      <th>4</th>\n",
       "      <td>2</td>\n",
       "      <td>advert_open</td>\n",
       "      <td>2019-10-24 10:52:18.644065</td>\n",
       "      <td>1</td>\n",
       "      <td>2019-10-24 10:50:40.219833</td>\n",
       "      <td>0 days 00:01:38.424232</td>\n",
       "    </tr>\n",
       "    <tr>\n",
       "      <th>...</th>\n",
       "      <td>...</td>\n",
       "      <td>...</td>\n",
       "      <td>...</td>\n",
       "      <td>...</td>\n",
       "      <td>...</td>\n",
       "      <td>...</td>\n",
       "    </tr>\n",
       "    <tr>\n",
       "      <th>8012</th>\n",
       "      <td>4128</td>\n",
       "      <td>tips_show</td>\n",
       "      <td>2019-10-16 18:21:08.147694</td>\n",
       "      <td>1</td>\n",
       "      <td>2019-10-16 18:21:08.147694</td>\n",
       "      <td>0 days 00:00:00</td>\n",
       "    </tr>\n",
       "    <tr>\n",
       "      <th>8014</th>\n",
       "      <td>4129</td>\n",
       "      <td>tips_show</td>\n",
       "      <td>2019-10-16 18:39:40.968592</td>\n",
       "      <td>1</td>\n",
       "      <td>2019-10-16 18:39:40.968592</td>\n",
       "      <td>0 days 00:00:00</td>\n",
       "    </tr>\n",
       "    <tr>\n",
       "      <th>8016</th>\n",
       "      <td>4130</td>\n",
       "      <td>show_contacts</td>\n",
       "      <td>2019-10-27 20:00:53.687128</td>\n",
       "      <td>2</td>\n",
       "      <td>2019-10-17 20:09:19.443255</td>\n",
       "      <td>9 days 23:51:34.243873</td>\n",
       "    </tr>\n",
       "    <tr>\n",
       "      <th>8015</th>\n",
       "      <td>4130</td>\n",
       "      <td>tips_show</td>\n",
       "      <td>2019-10-17 20:09:19.443255</td>\n",
       "      <td>8</td>\n",
       "      <td>2019-10-17 20:09:19.443255</td>\n",
       "      <td>0 days 00:00:00</td>\n",
       "    </tr>\n",
       "    <tr>\n",
       "      <th>8017</th>\n",
       "      <td>4131</td>\n",
       "      <td>tips_show</td>\n",
       "      <td>2019-10-16 22:51:41.468371</td>\n",
       "      <td>3</td>\n",
       "      <td>2019-10-16 22:51:41.468371</td>\n",
       "      <td>0 days 00:00:00</td>\n",
       "    </tr>\n",
       "  </tbody>\n",
       "</table>\n",
       "<p>8018 rows × 6 columns</p>\n",
       "</div>"
      ],
      "text/plain": [
       "      session_id     event_name                 event_time  count  \\\n",
       "0              1         search 2019-10-30 07:50:45.948358      6   \n",
       "1              1    photos_show 2019-10-30 07:53:12.730053      6   \n",
       "2              1  show_contacts 2019-10-30 08:01:05.420773      1   \n",
       "3              2    photos_show 2019-10-24 10:50:40.219833      8   \n",
       "4              2    advert_open 2019-10-24 10:52:18.644065      1   \n",
       "...          ...            ...                        ...    ...   \n",
       "8012        4128      tips_show 2019-10-16 18:21:08.147694      1   \n",
       "8014        4129      tips_show 2019-10-16 18:39:40.968592      1   \n",
       "8016        4130  show_contacts 2019-10-27 20:00:53.687128      2   \n",
       "8015        4130      tips_show 2019-10-17 20:09:19.443255      8   \n",
       "8017        4131      tips_show 2019-10-16 22:51:41.468371      3   \n",
       "\n",
       "                 event_time_min                   diff  \n",
       "0    2019-10-30 07:50:45.948358        0 days 00:00:00  \n",
       "1    2019-10-30 07:50:45.948358 0 days 00:02:26.781695  \n",
       "2    2019-10-30 07:50:45.948358 0 days 00:10:19.472415  \n",
       "3    2019-10-24 10:50:40.219833        0 days 00:00:00  \n",
       "4    2019-10-24 10:50:40.219833 0 days 00:01:38.424232  \n",
       "...                         ...                    ...  \n",
       "8012 2019-10-16 18:21:08.147694        0 days 00:00:00  \n",
       "8014 2019-10-16 18:39:40.968592        0 days 00:00:00  \n",
       "8016 2019-10-17 20:09:19.443255 9 days 23:51:34.243873  \n",
       "8015 2019-10-17 20:09:19.443255        0 days 00:00:00  \n",
       "8017 2019-10-16 22:51:41.468371        0 days 00:00:00  \n",
       "\n",
       "[8018 rows x 6 columns]"
      ]
     },
     "metadata": {},
     "output_type": "display_data"
    }
   ],
   "source": [
    "sessions_earliest = session_test.groupby(['session_id']).agg({'event_time':'min'}).reset_index()\n",
    "sessions_grouped_ind = sessions_grouped.reset_index()\n",
    "sessions_earliest = sessions_earliest.rename(columns={'event_time': 'event_time_min'})\n",
    "sessions_new = sessions_grouped_ind.merge(sessions_earliest).sort_values(by = ['session_id'])\n",
    "sessions_new['diff'] = sessions_new['event_time'] - sessions_new['event_time_min']\n",
    "display(sessions_new)\n"
   ]
  },
  {
   "cell_type": "code",
   "execution_count": 71,
   "metadata": {},
   "outputs": [
    {
     "data": {
      "text/plain": [
       "tips_show        1680\n",
       "photos_show       634\n",
       "show_contacts     619\n",
       "search            616\n",
       "map               355\n",
       "advert_open       141\n",
       "favorites_add      53\n",
       "tips_click         33\n",
       "Name: event_name, dtype: int64"
      ]
     },
     "metadata": {},
     "output_type": "display_data"
    }
   ],
   "source": [
    "#выведем действия, с которых чаще всего начиналась сессия\n",
    "\n",
    "first_actions = sessions_new.query('diff == \"0 days 00:00:00\"')\n",
    "display(first_actions['event_name'].value_counts())"
   ]
  },
  {
   "cell_type": "markdown",
   "metadata": {},
   "source": [
    "Видим, что чаще всего сессии начинались с действия tips_show, а некоторые клиенты умудрялись сразу переходить к просмотру фото (возможно, также получали ссылки на фото от кого-то извне)"
   ]
  },
  {
   "cell_type": "code",
   "execution_count": 72,
   "metadata": {},
   "outputs": [
    {
     "data": {
      "text/plain": [
       "tips_show        8392\n",
       "show_contacts    1410\n",
       "advert_open       333\n",
       "map               278\n",
       "tips_click        177\n",
       "search             99\n",
       "favorites_add      45\n",
       "photos_show         6\n",
       "Name: event_name, dtype: int64"
      ]
     },
     "metadata": {},
     "output_type": "display_data"
    }
   ],
   "source": [
    "#проанализиуруем сессии,начинавшиеся с tips_show\n",
    "\n",
    "first_actions_tips = first_actions.query('event_name == \"tips_show\"')\n",
    "id_first_actions_tips = first_actions_tips['session_id']\n",
    "#создадим датасет, в котором будет информация только по сессиям, которые начались с tips_show\n",
    "\n",
    "funnel_first_1 = session_test[session_test['session_id'].isin(id_first_actions_tips)]\n",
    "\n",
    "#target_data = data_full[data_full['user_id'].isin(target_users)]\n",
    "display(funnel_first_1['event_name'].value_counts())"
   ]
  },
  {
   "cell_type": "code",
   "execution_count": 73,
   "metadata": {},
   "outputs": [
    {
     "data": {
      "text/html": [
       "<div>\n",
       "<style scoped>\n",
       "    .dataframe tbody tr th:only-of-type {\n",
       "        vertical-align: middle;\n",
       "    }\n",
       "\n",
       "    .dataframe tbody tr th {\n",
       "        vertical-align: top;\n",
       "    }\n",
       "\n",
       "    .dataframe thead th {\n",
       "        text-align: right;\n",
       "    }\n",
       "</style>\n",
       "<table border=\"1\" class=\"dataframe\">\n",
       "  <thead>\n",
       "    <tr style=\"text-align: right;\">\n",
       "      <th></th>\n",
       "      <th>event_time</th>\n",
       "      <th>event_name</th>\n",
       "      <th>user_id</th>\n",
       "      <th>source</th>\n",
       "      <th>date</th>\n",
       "      <th>time</th>\n",
       "      <th>period</th>\n",
       "      <th>session_id</th>\n",
       "      <th>count</th>\n",
       "    </tr>\n",
       "  </thead>\n",
       "  <tbody>\n",
       "    <tr>\n",
       "      <th>73834</th>\n",
       "      <td>2019-11-03 18:42:59.275533</td>\n",
       "      <td>tips_show</td>\n",
       "      <td>0103a07d-513f-42b9-8d91-d5891d5655fe</td>\n",
       "      <td>yandex</td>\n",
       "      <td>2019-11-03</td>\n",
       "      <td>18:42:59.275533</td>\n",
       "      <td>NaN</td>\n",
       "      <td>16</td>\n",
       "      <td>1</td>\n",
       "    </tr>\n",
       "    <tr>\n",
       "      <th>73835</th>\n",
       "      <td>2019-11-03 18:50:04.133976</td>\n",
       "      <td>show_contacts</td>\n",
       "      <td>0103a07d-513f-42b9-8d91-d5891d5655fe</td>\n",
       "      <td>yandex</td>\n",
       "      <td>2019-11-03</td>\n",
       "      <td>18:50:04.133976</td>\n",
       "      <td>424.0</td>\n",
       "      <td>16</td>\n",
       "      <td>1</td>\n",
       "    </tr>\n",
       "    <tr>\n",
       "      <th>62008</th>\n",
       "      <td>2019-10-27 16:52:54.870118</td>\n",
       "      <td>tips_show</td>\n",
       "      <td>035ae717-a6ae-4569-b952-16be9447832b</td>\n",
       "      <td>yandex</td>\n",
       "      <td>2019-10-27</td>\n",
       "      <td>16:52:54.870118</td>\n",
       "      <td>NaN</td>\n",
       "      <td>22</td>\n",
       "      <td>1</td>\n",
       "    </tr>\n",
       "    <tr>\n",
       "      <th>62009</th>\n",
       "      <td>2019-10-27 16:58:12.318501</td>\n",
       "      <td>show_contacts</td>\n",
       "      <td>035ae717-a6ae-4569-b952-16be9447832b</td>\n",
       "      <td>yandex</td>\n",
       "      <td>2019-10-27</td>\n",
       "      <td>16:58:12.318501</td>\n",
       "      <td>317.0</td>\n",
       "      <td>22</td>\n",
       "      <td>1</td>\n",
       "    </tr>\n",
       "    <tr>\n",
       "      <th>62010</th>\n",
       "      <td>2019-10-27 16:59:59.584416</td>\n",
       "      <td>tips_show</td>\n",
       "      <td>035ae717-a6ae-4569-b952-16be9447832b</td>\n",
       "      <td>yandex</td>\n",
       "      <td>2019-10-27</td>\n",
       "      <td>16:59:59.584416</td>\n",
       "      <td>107.0</td>\n",
       "      <td>22</td>\n",
       "      <td>1</td>\n",
       "    </tr>\n",
       "  </tbody>\n",
       "</table>\n",
       "</div>"
      ],
      "text/plain": [
       "                      event_time     event_name  \\\n",
       "73834 2019-11-03 18:42:59.275533      tips_show   \n",
       "73835 2019-11-03 18:50:04.133976  show_contacts   \n",
       "62008 2019-10-27 16:52:54.870118      tips_show   \n",
       "62009 2019-10-27 16:58:12.318501  show_contacts   \n",
       "62010 2019-10-27 16:59:59.584416      tips_show   \n",
       "\n",
       "                                    user_id  source        date  \\\n",
       "73834  0103a07d-513f-42b9-8d91-d5891d5655fe  yandex  2019-11-03   \n",
       "73835  0103a07d-513f-42b9-8d91-d5891d5655fe  yandex  2019-11-03   \n",
       "62008  035ae717-a6ae-4569-b952-16be9447832b  yandex  2019-10-27   \n",
       "62009  035ae717-a6ae-4569-b952-16be9447832b  yandex  2019-10-27   \n",
       "62010  035ae717-a6ae-4569-b952-16be9447832b  yandex  2019-10-27   \n",
       "\n",
       "                  time  period  session_id  count  \n",
       "73834  18:42:59.275533     NaN          16      1  \n",
       "73835  18:50:04.133976   424.0          16      1  \n",
       "62008  16:52:54.870118     NaN          22      1  \n",
       "62009  16:58:12.318501   317.0          22      1  \n",
       "62010  16:59:59.584416   107.0          22      1  "
      ]
     },
     "metadata": {},
     "output_type": "display_data"
    }
   ],
   "source": [
    "display(funnel_first_1.head())"
   ]
  },
  {
   "cell_type": "markdown",
   "metadata": {},
   "source": [
    "Таким образом, можем предположить, что много сессий целевых пользователей состояли из двух действий - tips_show и show_contacts. Однако для выявления мест для улучшения платформы, нам нужен более подробный анализ, состоящий хотя бы из трех шагов. Поэтому ниже мы проанализируем 2 воронки на основании данных по сессиям:<br>\n",
    "\n",
    "**Первая воронка:** <br>\n",
    "1.tips_show <br>\n",
    "2.advert_open <br>\n",
    "3.show_contacts <br>\n",
    "\n",
    "**Вторая воронка:** <br>\n",
    "1.search <br>\n",
    "2.tips_show <br>\n",
    "3.show_contacts <br>\n"
   ]
  },
  {
   "cell_type": "code",
   "execution_count": 74,
   "metadata": {},
   "outputs": [
    {
     "name": "stdout",
     "output_type": "stream",
     "text": [
      "Количество сессий на первом этапе: 1680\n",
      "Количество сессий на втором этапе: 85\n",
      "Количество сессий на третьем этапе: 26\n",
      "Конверсия в просмотры по первой воронке: 0.02\n"
     ]
    }
   ],
   "source": [
    "#выведем последовательность для первой воронки\n",
    "\n",
    "#второй этап\n",
    "\n",
    "funnel_first_2_list = funnel_first_1.query('event_name == \"advert_open\"')\n",
    "id_first_actions_2 = funnel_first_2_list['session_id']\n",
    "funnel_first_2 = funnel_first_1[session_test['session_id'].isin(id_first_actions_2)]\n",
    "\n",
    "#третий этап\n",
    "funnel_first_3_list = funnel_first_2.query('event_name == \"show_contacts\"')\n",
    "id_first_actions_3 = funnel_first_3_list['session_id']\n",
    "funnel_first_3 = funnel_first_2[session_test['session_id'].isin(id_first_actions_3)]\n",
    "\n",
    "\n",
    "print('Количество сессий на первом этапе:', funnel_first_1['session_id'].nunique())\n",
    "print('Количество сессий на втором этапе:', funnel_first_2['session_id'].nunique())\n",
    "print('Количество сессий на третьем этапе:', funnel_first_3['session_id'].nunique())\n",
    "print('Конверсия в просмотры по первой воронке:', round(funnel_first_3['session_id'].nunique()/funnel_first_1['session_id'].nunique(),2))"
   ]
  },
  {
   "cell_type": "code",
   "execution_count": 122,
   "metadata": {},
   "outputs": [
    {
     "data": {
      "image/png": "[encoded data removed]",
      "text/plain": [
       "<Figure size 432x288 with 1 Axes>"
      ]
     },
     "metadata": {
      "needs_background": "light"
     },
     "output_type": "display_data"
    }
   ],
   "source": [
    "#добавим визуализацию\n",
    "\n",
    "funnel_first_vzl = [['Первый этап', funnel_first_1['session_id'].nunique()],\n",
    "                   ['Второй этап', funnel_first_2['session_id'].nunique()],\n",
    "                   ['Третий этап', funnel_first_3['session_id'].nunique()]]\n",
    "\n",
    "funnel_first_vzl = pd.DataFrame(funnel_first_vzl)\n",
    "funnel_first_vzl = funnel_first_vzl.rename(columns = {0: 'step', 1: 'sessions_number'})\n",
    "funnel_first_vzl.sort_values(by = ['sessions_number']).plot(kind = 'barh', title = 'Число сессий на разных этапах первой воронки')\n",
    "plt.xlabel('Количество уникальных сессий')\n",
    "plt.ylabel('Этап воронки')\n",
    "plt.show()"
   ]
  },
  {
   "cell_type": "code",
   "execution_count": 75,
   "metadata": {},
   "outputs": [
    {
     "name": "stdout",
     "output_type": "stream",
     "text": [
      "Количество сессий на первом этапе: 616\n",
      "Количество сессий на втором этапе: 151\n",
      "Количество сессий на третьем этапе: 73\n",
      "Конверсия в просмотры по первой воронке: 0.12\n"
     ]
    }
   ],
   "source": [
    "#выведем последовательность для второй воронки\n",
    "\n",
    "#проанализиуруем сессии,начинавшиеся с tips_show\n",
    "\n",
    "first_actions_search = first_actions.query('event_name == \"search\"')\n",
    "id_first_actions_search = first_actions_search['session_id']\n",
    "#создадим датасет, в котором будет информация только по сессиям, которые начались с tips_show\n",
    "\n",
    "funnel_second_1 = session_test[session_test['session_id'].isin(id_first_actions_search)]\n",
    "\n",
    "#второй этап\n",
    "\n",
    "funnel_second_2_list = funnel_second_1.query('event_name == \"tips_show\"')\n",
    "id_second_actions_2 = funnel_second_2_list['session_id']\n",
    "funnel_second_2 = funnel_second_1[session_test['session_id'].isin(id_second_actions_2)]\n",
    "\n",
    "#третий этап\n",
    "funnel_second_3_list = funnel_second_2.query('event_name == \"show_contacts\"')\n",
    "id_second_actions_3 = funnel_second_3_list['session_id']\n",
    "funnel_second_3 = funnel_second_2[session_test['session_id'].isin(id_second_actions_3)]\n",
    "\n",
    "\n",
    "print('Количество сессий на первом этапе:', funnel_second_1['session_id'].nunique())\n",
    "print('Количество сессий на втором этапе:', funnel_second_2['session_id'].nunique())\n",
    "print('Количество сессий на третьем этапе:', funnel_second_3['session_id'].nunique())\n",
    "print('Конверсия в просмотры по первой воронке:', round(funnel_second_3['session_id'].nunique()/funnel_second_1['session_id'].nunique(),2))"
   ]
  },
  {
   "cell_type": "code",
   "execution_count": 123,
   "metadata": {},
   "outputs": [
    {
     "data": {
      "image/png": "[encoded data removed]",
      "text/plain": [
       "<Figure size 432x288 with 1 Axes>"
      ]
     },
     "metadata": {
      "needs_background": "light"
     },
     "output_type": "display_data"
    }
   ],
   "source": [
    "#добавим визуализацию\n",
    "\n",
    "funnel_second_vzl = [['Первый этап', funnel_second_1['session_id'].nunique()],\n",
    "                   ['Второй этап', funnel_second_2['session_id'].nunique()],\n",
    "                   ['Третий этап', funnel_second_3['session_id'].nunique()]]\n",
    "\n",
    "funnel_second_vzl = pd.DataFrame(funnel_first_vzl)\n",
    "funnel_second_vzl = funnel_second_vzl.rename(columns = {0: 'step', 1: 'sessions_number'})\n",
    "funnel_second_vzl.sort_values(by = ['sessions_number']).plot(kind = 'barh', title = 'Число сессий на разных этапах первой воронки')\n",
    "plt.xlabel('Количество уникальных сессий')\n",
    "plt.ylabel('Этап воронки')\n",
    "plt.show()"
   ]
  },
  {
   "cell_type": "markdown",
   "metadata": {},
   "source": [
    "**Промежуточный вывод:** таким образом, видим, что конверсия в просмотры по сессиям по второй воронке на целых 10 п.п. превышает конверсию по первой воронке. Также важно отметить, что путь пользователей по многим сессиям довольно короткий и может состоять только из шагов tips_show и show_contacts.  "
   ]
  },
  {
   "cell_type": "markdown",
   "metadata": {},
   "source": [
    "#### Второй вариант: по дням и наиболее часто повторяющимся событиям"
   ]
  },
  {
   "cell_type": "markdown",
   "metadata": {},
   "source": [
    "Исходя из данных анализа, сделанного выше, мы можем сделать вывод, что большое количество пользователей просматривает контакты, просто перейдя по внешней ссылке (например, получают ссылки на нужное объявление от друзей). Данная воронка, состоящая из одного действия, нас не будет интересовать, так как, во-первых, мы не можем напрямую на неё повлиять, и, во-вторых, ей предшествуют действия как раз того ключевого пользователя, который был вынужден пройти полный пользоватльский путь для поиска объявления. **Именно второй случай нас будет интересовать с точки зрения анализа пути клиента в приложении.**"
   ]
  },
  {
   "cell_type": "markdown",
   "metadata": {},
   "source": [
    "Из прошлых разделов мы узнали, что наиболее связанными с целевым событием являются действия по просмотру выплывающего объявления и клик на него. Эти же события связаны с переходом клиента на карту объявления или нажатием на рекламный баннер.\n",
    "\n",
    "Тогда сравним две воронки событий пользовательского пути: <br>\n",
    "\n",
    "В **первой воронке** представим, что наш пользователь прошел следующий путь: <br>\n",
    "1.начал поиск по сайту <br>\n",
    "2.открыл карту объявлений <br>\n",
    "3.увидел рекомендованное объявление <br>\n",
    "4.посмотрел контакты. <br>\n",
    "\n",
    "\n",
    "Пусть путь пользователя по **второй воронке** выглядит следующим образом: <br>\n",
    "1.пользователь поиск по сайту <br>\n",
    "2.увидел рекламное объявление <br>\n",
    "3.увидел рекомендованное объявление <br>\n",
    "4.просмотрел контакты <br>"
   ]
  },
  {
   "cell_type": "code",
   "execution_count": 76,
   "metadata": {},
   "outputs": [
    {
     "name": "stdout",
     "output_type": "stream",
     "text": [
      "981\n"
     ]
    }
   ],
   "source": [
    "#напомним исходное количество целевых пользователей\n",
    "\n",
    "print(data_grouped['user_id'].nunique())"
   ]
  },
  {
   "cell_type": "code",
   "execution_count": 105,
   "metadata": {},
   "outputs": [
    {
     "name": "stdout",
     "output_type": "stream",
     "text": [
      "Количество пользователей на первом этапе: 377\n",
      "Количество пользователей на втором этапе: 82\n",
      "Количество пользователей на третьем этапе: 78\n",
      "Количество пользователей на четвертом этапе: 61\n",
      "Конверсия в просмотры по первой воронке: 0.16\n"
     ]
    }
   ],
   "source": [
    "#проанализируем воронку по первому сценарию\n",
    "\n",
    "first_funnel = data_grouped.query('search >= 1')\n",
    "first_funnel_2 = first_funnel.query('map >= 1')\n",
    "first_funnel_3 = first_funnel_2.query('tips_show >= 1')\n",
    "first_funnel_4 = first_funnel_3.query('target_action >= 1')\n",
    "\n",
    "print('Количество пользователей на первом этапе:', first_funnel['user_id'].nunique())\n",
    "print('Количество пользователей на втором этапе:', first_funnel_2['user_id'].nunique())\n",
    "print('Количество пользователей на третьем этапе:', first_funnel_3['user_id'].nunique())\n",
    "print('Количество пользователей на четвертом этапе:', first_funnel_4['user_id'].nunique())\n",
    "print('Конверсия в просмотры по первой воронке:', round(first_funnel_4['user_id'].nunique()/first_funnel['user_id'].nunique(),2))"
   ]
  },
  {
   "cell_type": "code",
   "execution_count": 119,
   "metadata": {},
   "outputs": [
    {
     "data": {
      "image/png": "[encoded data removed]",
      "text/plain": [
       "<Figure size 432x288 with 1 Axes>"
      ]
     },
     "metadata": {
      "needs_background": "light"
     },
     "output_type": "display_data"
    }
   ],
   "source": [
    "#добавим визуализацию\n",
    "\n",
    "first_funnel_vzl = [['Первый этап', first_funnel['user_id'].nunique()],\n",
    "                   ['Второй этап', first_funnel_2['user_id'].nunique()],\n",
    "                   ['Третий этап', first_funnel_3['user_id'].nunique()],\n",
    "                   ['Четвертый этап', first_funnel_4['user_id'].nunique()]]\n",
    "\n",
    "first_funnel_vzl = pd.DataFrame(first_funnel_vzl)\n",
    "first_funnel_vzl = first_funnel_vzl.rename(columns = {0: 'step', 1: 'users_number'})\n",
    "first_funnel_vzl.sort_values(by = ['users_number']).plot(kind = 'barh', title = 'Число пользователей на разных этапах первой воронки')\n",
    "plt.xlabel('Количество уникальных пользователей')\n",
    "plt.ylabel('Этап воронки')\n",
    "plt.show()"
   ]
  },
  {
   "cell_type": "code",
   "execution_count": 78,
   "metadata": {},
   "outputs": [
    {
     "name": "stdout",
     "output_type": "stream",
     "text": [
      "Количество пользователей на первом этапе: 377\n",
      "Количество пользователей на втором этапе: 67\n",
      "Количество пользователей на третьем этапе: 46\n",
      "Количество пользователей на четвертом этапе: 42\n",
      "Конверсия в просмотры по второй воронке: 0.11\n"
     ]
    }
   ],
   "source": [
    "#проанализируем воронку по второму сценарию\n",
    "\n",
    "second_funnel = data_grouped.query('search >= 1')\n",
    "second_funnel_2 = second_funnel.query('advert_open >= 1')\n",
    "second_funnel_3 = second_funnel_2.query('tips_show >= 1')\n",
    "second_funnel_4 = second_funnel_3.query('target_action >= 1')\n",
    "\n",
    "print('Количество пользователей на первом этапе:', second_funnel['user_id'].nunique())\n",
    "print('Количество пользователей на втором этапе:', second_funnel_2['user_id'].nunique())\n",
    "print('Количество пользователей на третьем этапе:', second_funnel_3['user_id'].nunique())\n",
    "print('Количество пользователей на четвертом этапе:', second_funnel_4['user_id'].nunique())\n",
    "print('Конверсия в просмотры по второй воронке:', round(second_funnel_4['user_id'].nunique()/second_funnel['user_id'].nunique(),2))"
   ]
  },
  {
   "cell_type": "code",
   "execution_count": 120,
   "metadata": {},
   "outputs": [
    {
     "data": {
      "image/png": "[encoded data removed]",
      "text/plain": [
       "<Figure size 432x288 with 1 Axes>"
      ]
     },
     "metadata": {
      "needs_background": "light"
     },
     "output_type": "display_data"
    }
   ],
   "source": [
    "#добавим визуализацию\n",
    "\n",
    "second_funnel_vzl = [['Первый этап', second_funnel['user_id'].nunique()],\n",
    "                   ['Второй этап', second_funnel_2['user_id'].nunique()],\n",
    "                   ['Третий этап', second_funnel_3['user_id'].nunique()],\n",
    "                   ['Четвертый этап', second_funnel_4['user_id'].nunique()]]\n",
    "\n",
    "second_funnel_vzl = pd.DataFrame(second_funnel_vzl)\n",
    "second_funnel_vzl = second_funnel_vzl.rename(columns = {0: 'step', 1: 'users_number'})\n",
    "second_funnel_vzl.sort_values(by = ['users_number']).plot(kind = 'barh', title = 'Число пользователей на разных этапах первой воронки')\n",
    "plt.xlabel('Количество уникальных пользователей')\n",
    "plt.ylabel('Этап воронки')\n",
    "plt.show()"
   ]
  },
  {
   "cell_type": "markdown",
   "metadata": {},
   "source": [
    "Видим, что конверсия по первой воронке выше, чем по второй: соответственно можем сделать предварительный вывод, что карты объявлений работает эффективнее, чем рекламный показ рекомендованного объявления. С одной стороны, это можно объяснить тем, что начиная поиск с карты, пользователь целенаправленно выбирает нужные ему объявления, а на рекомендованные может кликнуть чисто из любопытства. **В качестве рекомендации** здесь можно посоветовать еще раз просмотреть алгоритмы, в соответствии с которыми пользователю показывается рекомендованное объявление.  "
   ]
  },
  {
   "cell_type": "code",
   "execution_count": 79,
   "metadata": {},
   "outputs": [
    {
     "data": {
      "text/html": [
       "<div>\n",
       "<style scoped>\n",
       "    .dataframe tbody tr th:only-of-type {\n",
       "        vertical-align: middle;\n",
       "    }\n",
       "\n",
       "    .dataframe tbody tr th {\n",
       "        vertical-align: top;\n",
       "    }\n",
       "\n",
       "    .dataframe thead th {\n",
       "        text-align: right;\n",
       "    }\n",
       "</style>\n",
       "<table border=\"1\" class=\"dataframe\">\n",
       "  <thead>\n",
       "    <tr style=\"text-align: right;\">\n",
       "      <th></th>\n",
       "      <th>target_action</th>\n",
       "      <th>tips_show</th>\n",
       "      <th>tips_click</th>\n",
       "      <th>search</th>\n",
       "      <th>map</th>\n",
       "      <th>advert_open</th>\n",
       "      <th>photos_show</th>\n",
       "      <th>favorites_add</th>\n",
       "      <th>contacts_call</th>\n",
       "    </tr>\n",
       "  </thead>\n",
       "  <tbody>\n",
       "    <tr>\n",
       "      <th>target_action</th>\n",
       "      <td>1.000000</td>\n",
       "      <td>0.303573</td>\n",
       "      <td>-0.029633</td>\n",
       "      <td>-0.008601</td>\n",
       "      <td>0.022311</td>\n",
       "      <td>0.182563</td>\n",
       "      <td>-0.077107</td>\n",
       "      <td>0.114438</td>\n",
       "      <td>NaN</td>\n",
       "    </tr>\n",
       "    <tr>\n",
       "      <th>tips_show</th>\n",
       "      <td>0.303573</td>\n",
       "      <td>1.000000</td>\n",
       "      <td>0.073513</td>\n",
       "      <td>0.461093</td>\n",
       "      <td>0.281006</td>\n",
       "      <td>0.505855</td>\n",
       "      <td>-0.134830</td>\n",
       "      <td>0.303161</td>\n",
       "      <td>NaN</td>\n",
       "    </tr>\n",
       "    <tr>\n",
       "      <th>tips_click</th>\n",
       "      <td>-0.029633</td>\n",
       "      <td>0.073513</td>\n",
       "      <td>1.000000</td>\n",
       "      <td>-0.087383</td>\n",
       "      <td>-0.121319</td>\n",
       "      <td>-0.117284</td>\n",
       "      <td>-0.034220</td>\n",
       "      <td>-0.067716</td>\n",
       "      <td>NaN</td>\n",
       "    </tr>\n",
       "    <tr>\n",
       "      <th>search</th>\n",
       "      <td>-0.008601</td>\n",
       "      <td>0.461093</td>\n",
       "      <td>-0.087383</td>\n",
       "      <td>1.000000</td>\n",
       "      <td>0.282106</td>\n",
       "      <td>0.246061</td>\n",
       "      <td>-0.048897</td>\n",
       "      <td>0.141916</td>\n",
       "      <td>NaN</td>\n",
       "    </tr>\n",
       "    <tr>\n",
       "      <th>map</th>\n",
       "      <td>0.022311</td>\n",
       "      <td>0.281006</td>\n",
       "      <td>-0.121319</td>\n",
       "      <td>0.282106</td>\n",
       "      <td>1.000000</td>\n",
       "      <td>0.200494</td>\n",
       "      <td>0.215736</td>\n",
       "      <td>0.095243</td>\n",
       "      <td>NaN</td>\n",
       "    </tr>\n",
       "    <tr>\n",
       "      <th>advert_open</th>\n",
       "      <td>0.182563</td>\n",
       "      <td>0.505855</td>\n",
       "      <td>-0.117284</td>\n",
       "      <td>0.246061</td>\n",
       "      <td>0.200494</td>\n",
       "      <td>1.000000</td>\n",
       "      <td>-0.043718</td>\n",
       "      <td>0.039355</td>\n",
       "      <td>NaN</td>\n",
       "    </tr>\n",
       "    <tr>\n",
       "      <th>photos_show</th>\n",
       "      <td>-0.077107</td>\n",
       "      <td>-0.134830</td>\n",
       "      <td>-0.034220</td>\n",
       "      <td>-0.048897</td>\n",
       "      <td>0.215736</td>\n",
       "      <td>-0.043718</td>\n",
       "      <td>1.000000</td>\n",
       "      <td>-0.027108</td>\n",
       "      <td>NaN</td>\n",
       "    </tr>\n",
       "    <tr>\n",
       "      <th>favorites_add</th>\n",
       "      <td>0.114438</td>\n",
       "      <td>0.303161</td>\n",
       "      <td>-0.067716</td>\n",
       "      <td>0.141916</td>\n",
       "      <td>0.095243</td>\n",
       "      <td>0.039355</td>\n",
       "      <td>-0.027108</td>\n",
       "      <td>1.000000</td>\n",
       "      <td>NaN</td>\n",
       "    </tr>\n",
       "    <tr>\n",
       "      <th>contacts_call</th>\n",
       "      <td>NaN</td>\n",
       "      <td>NaN</td>\n",
       "      <td>NaN</td>\n",
       "      <td>NaN</td>\n",
       "      <td>NaN</td>\n",
       "      <td>NaN</td>\n",
       "      <td>NaN</td>\n",
       "      <td>NaN</td>\n",
       "      <td>NaN</td>\n",
       "    </tr>\n",
       "  </tbody>\n",
       "</table>\n",
       "</div>"
      ],
      "text/plain": [
       "               target_action  tips_show  tips_click    search       map  \\\n",
       "target_action       1.000000   0.303573   -0.029633 -0.008601  0.022311   \n",
       "tips_show           0.303573   1.000000    0.073513  0.461093  0.281006   \n",
       "tips_click         -0.029633   0.073513    1.000000 -0.087383 -0.121319   \n",
       "search             -0.008601   0.461093   -0.087383  1.000000  0.282106   \n",
       "map                 0.022311   0.281006   -0.121319  0.282106  1.000000   \n",
       "advert_open         0.182563   0.505855   -0.117284  0.246061  0.200494   \n",
       "photos_show        -0.077107  -0.134830   -0.034220 -0.048897  0.215736   \n",
       "favorites_add       0.114438   0.303161   -0.067716  0.141916  0.095243   \n",
       "contacts_call            NaN        NaN         NaN       NaN       NaN   \n",
       "\n",
       "               advert_open  photos_show  favorites_add  contacts_call  \n",
       "target_action     0.182563    -0.077107       0.114438            NaN  \n",
       "tips_show         0.505855    -0.134830       0.303161            NaN  \n",
       "tips_click       -0.117284    -0.034220      -0.067716            NaN  \n",
       "search            0.246061    -0.048897       0.141916            NaN  \n",
       "map               0.200494     0.215736       0.095243            NaN  \n",
       "advert_open       1.000000    -0.043718       0.039355            NaN  \n",
       "photos_show      -0.043718     1.000000      -0.027108            NaN  \n",
       "favorites_add     0.039355    -0.027108       1.000000            NaN  \n",
       "contacts_call          NaN          NaN            NaN            NaN  "
      ]
     },
     "execution_count": 79,
     "metadata": {},
     "output_type": "execute_result"
    }
   ],
   "source": [
    "first_funnel_4.corr()"
   ]
  },
  {
   "cell_type": "markdown",
   "metadata": {},
   "source": [
    "**Промежуточный вывод:** итого мы видим, что целевые пользователи, которые осуществляли поиск на сайте самостоятельно, чаще всего совершали действие tips_show — увидел рекомендованные объявления, а данное действие,как правило, вытекало из действий map — открыл карту объявлений или advert_open — открыл карточки объявления. Поэтому воронка по основным пользователям должна включать эти действия.\n",
    "\n",
    "Видим, что конверсия по первой воронке выше, чем по второй: соответственно можем сделать предварительный вывод, что карты объявлений работает эффективнее, чем рекламный показ рекомендованного объявления. С одной стороны, это можно объяснить тем, что начиная поиск с карты, пользователь целенаправленно выбирает нужные ему объявления, а на рекомендованные может кликнуть чисто из любопытства. **В качестве рекомендации** здесь можно посоветовать еще раз просмотреть алгоритмы, в соответствии с которыми пользователю показывается рекомендованное объявление. Конверсия в просмотры в перовм случае составила - 16%, во втором - 11%. "
   ]
  },
  {
   "cell_type": "markdown",
   "metadata": {},
   "source": [
    "## Проверка статистических гипотез"
   ]
  },
  {
   "cell_type": "markdown",
   "metadata": {},
   "source": [
    "В ТЗ заказчик поставил задачу по проверке статистических гипотез. \n",
    "\n",
    "**Первая гипотеза:** Одни пользователи совершают действия tips_show и tips_click, другие — только tips_show. Гипотеза: конверсия в просмотры контактов незначимо различается у этих двух групп.\n",
    "\n",
    "Альтернативная гипотеза: конверсия в просмотры контактов значимо различается у этих двух групп."
   ]
  },
  {
   "cell_type": "code",
   "execution_count": 80,
   "metadata": {},
   "outputs": [],
   "source": [
    "#составим две выборки\n",
    "\n",
    "#в первой выборке пользователи, которые совершают действия tips_show и tips_click\n",
    "group_one = data_grouped.query('tips_show >= 1 and tips_click >=1')\n",
    "\n",
    "#во второй выборке пользователи, которые совершают только действия tips_show\n",
    "group_two = data_grouped.query('tips_show >= 1 and tips_click == 0')"
   ]
  },
  {
   "cell_type": "code",
   "execution_count": 81,
   "metadata": {},
   "outputs": [
    {
     "data": {
      "text/html": [
       "<div>\n",
       "<style scoped>\n",
       "    .dataframe tbody tr th:only-of-type {\n",
       "        vertical-align: middle;\n",
       "    }\n",
       "\n",
       "    .dataframe tbody tr th {\n",
       "        vertical-align: top;\n",
       "    }\n",
       "\n",
       "    .dataframe thead th {\n",
       "        text-align: right;\n",
       "    }\n",
       "</style>\n",
       "<table border=\"1\" class=\"dataframe\">\n",
       "  <thead>\n",
       "    <tr style=\"text-align: right;\">\n",
       "      <th></th>\n",
       "      <th>target_action</th>\n",
       "      <th>tips_show</th>\n",
       "      <th>tips_click</th>\n",
       "      <th>search</th>\n",
       "      <th>map</th>\n",
       "      <th>advert_open</th>\n",
       "      <th>photos_show</th>\n",
       "      <th>favorites_add</th>\n",
       "      <th>contacts_call</th>\n",
       "    </tr>\n",
       "  </thead>\n",
       "  <tbody>\n",
       "    <tr>\n",
       "      <th>count</th>\n",
       "      <td>125.000000</td>\n",
       "      <td>125.000000</td>\n",
       "      <td>125.000000</td>\n",
       "      <td>125.000000</td>\n",
       "      <td>125.000000</td>\n",
       "      <td>125.000000</td>\n",
       "      <td>125.000000</td>\n",
       "      <td>125.000000</td>\n",
       "      <td>125.0</td>\n",
       "    </tr>\n",
       "    <tr>\n",
       "      <th>mean</th>\n",
       "      <td>3.392000</td>\n",
       "      <td>16.552000</td>\n",
       "      <td>2.160000</td>\n",
       "      <td>0.512000</td>\n",
       "      <td>1.048000</td>\n",
       "      <td>0.472000</td>\n",
       "      <td>0.064000</td>\n",
       "      <td>0.240000</td>\n",
       "      <td>0.0</td>\n",
       "    </tr>\n",
       "    <tr>\n",
       "      <th>std</th>\n",
       "      <td>5.672367</td>\n",
       "      <td>12.651314</td>\n",
       "      <td>1.738557</td>\n",
       "      <td>1.168236</td>\n",
       "      <td>4.417443</td>\n",
       "      <td>1.945118</td>\n",
       "      <td>0.435223</td>\n",
       "      <td>1.159811</td>\n",
       "      <td>0.0</td>\n",
       "    </tr>\n",
       "    <tr>\n",
       "      <th>min</th>\n",
       "      <td>0.000000</td>\n",
       "      <td>1.000000</td>\n",
       "      <td>1.000000</td>\n",
       "      <td>0.000000</td>\n",
       "      <td>0.000000</td>\n",
       "      <td>0.000000</td>\n",
       "      <td>0.000000</td>\n",
       "      <td>0.000000</td>\n",
       "      <td>0.0</td>\n",
       "    </tr>\n",
       "    <tr>\n",
       "      <th>25%</th>\n",
       "      <td>0.000000</td>\n",
       "      <td>8.000000</td>\n",
       "      <td>1.000000</td>\n",
       "      <td>0.000000</td>\n",
       "      <td>0.000000</td>\n",
       "      <td>0.000000</td>\n",
       "      <td>0.000000</td>\n",
       "      <td>0.000000</td>\n",
       "      <td>0.0</td>\n",
       "    </tr>\n",
       "    <tr>\n",
       "      <th>50%</th>\n",
       "      <td>2.000000</td>\n",
       "      <td>13.000000</td>\n",
       "      <td>2.000000</td>\n",
       "      <td>0.000000</td>\n",
       "      <td>0.000000</td>\n",
       "      <td>0.000000</td>\n",
       "      <td>0.000000</td>\n",
       "      <td>0.000000</td>\n",
       "      <td>0.0</td>\n",
       "    </tr>\n",
       "    <tr>\n",
       "      <th>75%</th>\n",
       "      <td>4.000000</td>\n",
       "      <td>23.000000</td>\n",
       "      <td>3.000000</td>\n",
       "      <td>0.000000</td>\n",
       "      <td>1.000000</td>\n",
       "      <td>0.000000</td>\n",
       "      <td>0.000000</td>\n",
       "      <td>0.000000</td>\n",
       "      <td>0.0</td>\n",
       "    </tr>\n",
       "    <tr>\n",
       "      <th>max</th>\n",
       "      <td>49.000000</td>\n",
       "      <td>75.000000</td>\n",
       "      <td>12.000000</td>\n",
       "      <td>5.000000</td>\n",
       "      <td>48.000000</td>\n",
       "      <td>13.000000</td>\n",
       "      <td>4.000000</td>\n",
       "      <td>9.000000</td>\n",
       "      <td>0.0</td>\n",
       "    </tr>\n",
       "  </tbody>\n",
       "</table>\n",
       "</div>"
      ],
      "text/plain": [
       "       target_action   tips_show  tips_click      search         map  \\\n",
       "count     125.000000  125.000000  125.000000  125.000000  125.000000   \n",
       "mean        3.392000   16.552000    2.160000    0.512000    1.048000   \n",
       "std         5.672367   12.651314    1.738557    1.168236    4.417443   \n",
       "min         0.000000    1.000000    1.000000    0.000000    0.000000   \n",
       "25%         0.000000    8.000000    1.000000    0.000000    0.000000   \n",
       "50%         2.000000   13.000000    2.000000    0.000000    0.000000   \n",
       "75%         4.000000   23.000000    3.000000    0.000000    1.000000   \n",
       "max        49.000000   75.000000   12.000000    5.000000   48.000000   \n",
       "\n",
       "       advert_open  photos_show  favorites_add  contacts_call  \n",
       "count   125.000000   125.000000     125.000000          125.0  \n",
       "mean      0.472000     0.064000       0.240000            0.0  \n",
       "std       1.945118     0.435223       1.159811            0.0  \n",
       "min       0.000000     0.000000       0.000000            0.0  \n",
       "25%       0.000000     0.000000       0.000000            0.0  \n",
       "50%       0.000000     0.000000       0.000000            0.0  \n",
       "75%       0.000000     0.000000       0.000000            0.0  \n",
       "max      13.000000     4.000000       9.000000            0.0  "
      ]
     },
     "execution_count": 81,
     "metadata": {},
     "output_type": "execute_result"
    }
   ],
   "source": [
    "group_one.describe()"
   ]
  },
  {
   "cell_type": "code",
   "execution_count": 82,
   "metadata": {},
   "outputs": [
    {
     "data": {
      "text/html": [
       "<div>\n",
       "<style scoped>\n",
       "    .dataframe tbody tr th:only-of-type {\n",
       "        vertical-align: middle;\n",
       "    }\n",
       "\n",
       "    .dataframe tbody tr th {\n",
       "        vertical-align: top;\n",
       "    }\n",
       "\n",
       "    .dataframe thead th {\n",
       "        text-align: right;\n",
       "    }\n",
       "</style>\n",
       "<table border=\"1\" class=\"dataframe\">\n",
       "  <thead>\n",
       "    <tr style=\"text-align: right;\">\n",
       "      <th></th>\n",
       "      <th>target_action</th>\n",
       "      <th>tips_show</th>\n",
       "      <th>tips_click</th>\n",
       "      <th>search</th>\n",
       "      <th>map</th>\n",
       "      <th>advert_open</th>\n",
       "      <th>photos_show</th>\n",
       "      <th>favorites_add</th>\n",
       "      <th>contacts_call</th>\n",
       "    </tr>\n",
       "  </thead>\n",
       "  <tbody>\n",
       "    <tr>\n",
       "      <th>count</th>\n",
       "      <td>1095.000000</td>\n",
       "      <td>1095.000000</td>\n",
       "      <td>1095.0</td>\n",
       "      <td>1095.000000</td>\n",
       "      <td>1095.000000</td>\n",
       "      <td>1095.000000</td>\n",
       "      <td>1095.000000</td>\n",
       "      <td>1095.000000</td>\n",
       "      <td>1095.0</td>\n",
       "    </tr>\n",
       "    <tr>\n",
       "      <th>mean</th>\n",
       "      <td>2.140639</td>\n",
       "      <td>9.770776</td>\n",
       "      <td>0.0</td>\n",
       "      <td>0.521461</td>\n",
       "      <td>0.836530</td>\n",
       "      <td>1.044749</td>\n",
       "      <td>0.008219</td>\n",
       "      <td>0.098630</td>\n",
       "      <td>0.0</td>\n",
       "    </tr>\n",
       "    <tr>\n",
       "      <th>std</th>\n",
       "      <td>4.735059</td>\n",
       "      <td>12.522793</td>\n",
       "      <td>0.0</td>\n",
       "      <td>1.371306</td>\n",
       "      <td>2.094159</td>\n",
       "      <td>4.147730</td>\n",
       "      <td>0.193415</td>\n",
       "      <td>0.653599</td>\n",
       "      <td>0.0</td>\n",
       "    </tr>\n",
       "    <tr>\n",
       "      <th>min</th>\n",
       "      <td>0.000000</td>\n",
       "      <td>1.000000</td>\n",
       "      <td>0.0</td>\n",
       "      <td>0.000000</td>\n",
       "      <td>0.000000</td>\n",
       "      <td>0.000000</td>\n",
       "      <td>0.000000</td>\n",
       "      <td>0.000000</td>\n",
       "      <td>0.0</td>\n",
       "    </tr>\n",
       "    <tr>\n",
       "      <th>25%</th>\n",
       "      <td>0.000000</td>\n",
       "      <td>2.000000</td>\n",
       "      <td>0.0</td>\n",
       "      <td>0.000000</td>\n",
       "      <td>0.000000</td>\n",
       "      <td>0.000000</td>\n",
       "      <td>0.000000</td>\n",
       "      <td>0.000000</td>\n",
       "      <td>0.0</td>\n",
       "    </tr>\n",
       "    <tr>\n",
       "      <th>50%</th>\n",
       "      <td>1.000000</td>\n",
       "      <td>5.000000</td>\n",
       "      <td>0.0</td>\n",
       "      <td>0.000000</td>\n",
       "      <td>0.000000</td>\n",
       "      <td>0.000000</td>\n",
       "      <td>0.000000</td>\n",
       "      <td>0.000000</td>\n",
       "      <td>0.0</td>\n",
       "    </tr>\n",
       "    <tr>\n",
       "      <th>75%</th>\n",
       "      <td>2.000000</td>\n",
       "      <td>12.000000</td>\n",
       "      <td>0.0</td>\n",
       "      <td>0.000000</td>\n",
       "      <td>1.000000</td>\n",
       "      <td>0.000000</td>\n",
       "      <td>0.000000</td>\n",
       "      <td>0.000000</td>\n",
       "      <td>0.0</td>\n",
       "    </tr>\n",
       "    <tr>\n",
       "      <th>max</th>\n",
       "      <td>67.000000</td>\n",
       "      <td>124.000000</td>\n",
       "      <td>0.0</td>\n",
       "      <td>14.000000</td>\n",
       "      <td>33.000000</td>\n",
       "      <td>62.000000</td>\n",
       "      <td>5.000000</td>\n",
       "      <td>10.000000</td>\n",
       "      <td>0.0</td>\n",
       "    </tr>\n",
       "  </tbody>\n",
       "</table>\n",
       "</div>"
      ],
      "text/plain": [
       "       target_action    tips_show  tips_click       search          map  \\\n",
       "count    1095.000000  1095.000000      1095.0  1095.000000  1095.000000   \n",
       "mean        2.140639     9.770776         0.0     0.521461     0.836530   \n",
       "std         4.735059    12.522793         0.0     1.371306     2.094159   \n",
       "min         0.000000     1.000000         0.0     0.000000     0.000000   \n",
       "25%         0.000000     2.000000         0.0     0.000000     0.000000   \n",
       "50%         1.000000     5.000000         0.0     0.000000     0.000000   \n",
       "75%         2.000000    12.000000         0.0     0.000000     1.000000   \n",
       "max        67.000000   124.000000         0.0    14.000000    33.000000   \n",
       "\n",
       "       advert_open  photos_show  favorites_add  contacts_call  \n",
       "count  1095.000000  1095.000000    1095.000000         1095.0  \n",
       "mean      1.044749     0.008219       0.098630            0.0  \n",
       "std       4.147730     0.193415       0.653599            0.0  \n",
       "min       0.000000     0.000000       0.000000            0.0  \n",
       "25%       0.000000     0.000000       0.000000            0.0  \n",
       "50%       0.000000     0.000000       0.000000            0.0  \n",
       "75%       0.000000     0.000000       0.000000            0.0  \n",
       "max      62.000000     5.000000      10.000000            0.0  "
      ]
     },
     "execution_count": 82,
     "metadata": {},
     "output_type": "execute_result"
    }
   ],
   "source": [
    "group_two.describe()"
   ]
  },
  {
   "cell_type": "markdown",
   "metadata": {},
   "source": [
    "Видим, что по объему выборки различны: пользователей, совершающих оба действия, практически в 9 раз меньше. Поэтому будем это учитывать в анализе ниже, добавив в анализ параметр difference (= p1 - p2), определяющий разницу пропорций в датасетах"
   ]
  },
  {
   "cell_type": "code",
   "execution_count": 83,
   "metadata": {},
   "outputs": [],
   "source": [
    "#выведем переменные для анализа статистической гипотезы 1\n",
    "\n",
    "activity_one = (group_one['tips_show'].sum() + group_one['tips_click'].sum() + group_one['search'].sum() + group_one['map'].sum() + group_one['advert_open'].sum() + group_one['photos_show'].sum() + group_one['favorites_add'].sum())\n",
    "contacts_one = len(group_one.query('target_action >= 1'))\n",
    "\n",
    "activity_two = (group_two['tips_show'].sum() + group_two['tips_click'].sum() + group_two['search'].sum() + group_two['map'].sum() + group_two['advert_open'].sum() + group_two['photos_show'].sum() + group_two['favorites_add'].sum())\n",
    "contacts_two = len(group_two.query('target_action >= 1'))"
   ]
  },
  {
   "cell_type": "code",
   "execution_count": 84,
   "metadata": {},
   "outputs": [
    {
     "name": "stdout",
     "output_type": "stream",
     "text": [
      "Число действий в первой группе: 2631\n",
      "Число просмотров в первой группе: 89\n",
      "Число действий в второй группе: 13447\n",
      "Число просмотров в второй группе: 653\n"
     ]
    }
   ],
   "source": [
    "print('Число действий в первой группе:', activity_one)\n",
    "print('Число просмотров в первой группе:', contacts_one)\n",
    "print('Число действий в второй группе:', activity_two)\n",
    "print('Число просмотров в второй группе:', contacts_two)"
   ]
  },
  {
   "cell_type": "code",
   "execution_count": 85,
   "metadata": {},
   "outputs": [],
   "source": [
    "# создаем функцию определения статистической значимости различий в двух выборках\n",
    "\n",
    "def conv_check(successes, trials):\n",
    "    alpha = 0.05 # определяем критический уровень стат значимости\n",
    "    p1 = successes[0] / trials[0] # считаем пропорцию успехов в первой группе\n",
    "    p2 = successes[1] / trials[1] # считаем пропорцию успехов во второй группе\n",
    "    p_combined = (successes[0] + successes[1]) / (trials[0] + trials[1]) # считаем пропорцию успехов в комбинированном датасете\n",
    "    difference = p1 - p2 # определяем разницу пропорций в выборках\n",
    "    z_value = difference / mt.sqrt(p_combined * (1 - p_combined) * (1 / trials[0] + 1 / trials[1])) # считаем статистику\n",
    "                                                                                                    # в стандартных отклонениях\n",
    "                                                                                                    # стандартного нормального\n",
    "                                                                                                    # распределения\n",
    "    distr = st.norm(0, 1) # задаем стандартное нормальное распределение\n",
    "    p_value = (1 - distr.cdf(abs(z_value))) * 2\n",
    "    if (p_value < alpha):\n",
    "        print('Отвергаем нулевыую гипотезу: между группами есть значимая разница.')\n",
    "    else:\n",
    "        print('Не получилось отвергнуть нулевую гипотезу, нет оснований считать группы разными.')\n",
    "       \n",
    "    return p_value   "
   ]
  },
  {
   "cell_type": "code",
   "execution_count": 86,
   "metadata": {},
   "outputs": [
    {
     "name": "stdout",
     "output_type": "stream",
     "text": [
      "Отвергаем нулевыую гипотезу: между группами есть значимая разница.\n",
      "0.0009873069364119136\n"
     ]
    }
   ],
   "source": [
    "#проведем анализ статистической гипотезы\n",
    "\n",
    "actions_total = np.array([activity_one, activity_two])\n",
    "contacts_total = np.array([contacts_one, contacts_two])\n",
    "\n",
    "print(conv_check(contacts_total, actions_total))"
   ]
  },
  {
   "cell_type": "markdown",
   "metadata": {},
   "source": [
    "**Промежуточный вывод:** таким образом, мы отвергаем нулевую гипотезу и подтверждаем, что конверсия в просмотры у двух групп различна."
   ]
  },
  {
   "cell_type": "markdown",
   "metadata": {},
   "source": [
    "Для планирования рекламного бюджета важно понимать, в какие источники привлечения пользователей лучше вкладываться. Нашими основными источниками являются Yandex и Google, поэтому интересно проверить, различается ли конверсия в просмотры между этими двумя группами.\n",
    "\n",
    "**Вторая гипотеза:** просмотр контактов группы пользователей, пришедших из Yandex, незначимо отличается от пользователей, пришедших из Google\n",
    "\n",
    "Альтернативная гипотеза: просмотр контактов группы пользователей, пришедших из Yandex, незначимо отличается от пользователей, пришедших из Google"
   ]
  },
  {
   "cell_type": "code",
   "execution_count": 87,
   "metadata": {},
   "outputs": [],
   "source": [
    "#добавим к нашему датасету с сессиями данные по источнику\n",
    "\n",
    "sources_data = sources_data.rename(columns={'userId': 'user_id'})\n",
    "users_by_sources = data_grouped.merge(sources_data)\n",
    "\n",
    "#разделим датасет на две группы\n",
    "users_yandex = users_by_sources.query('source == \"yandex\"')\n",
    "users_google = users_by_sources.query('source == \"google\"')\n",
    "\n",
    "#выведем переменные для анализа статистической гипотезы 2\n",
    "\n",
    "activity_yandex = (users_yandex['tips_show'].sum() + users_yandex['tips_click'].sum() + users_yandex['search'].sum() + users_yandex['map'].sum() + users_yandex['advert_open'].sum() + users_yandex['photos_show'].sum() + users_yandex['favorites_add'].sum())\n",
    "contacts_yandex = len(users_yandex.query('target_action >= 1'))\n",
    "\n",
    "activity_google = (users_google['tips_show'].sum() + users_google['tips_click'].sum() + users_google['search'].sum() + users_google['map'].sum() + users_google['advert_open'].sum() + users_google['photos_show'].sum() + users_google['favorites_add'].sum())\n",
    "contacts_google = len(users_google.query('target_action >= 1'))"
   ]
  },
  {
   "cell_type": "code",
   "execution_count": 88,
   "metadata": {},
   "outputs": [
    {
     "name": "stdout",
     "output_type": "stream",
     "text": [
      "Число действий в группе пользователей Yandex: 10238\n",
      "Число просмотров в группе пользователей Yandex: 657\n",
      "Число действий в группе пользователей Google: 6910\n",
      "Число просмотров в группе пользователей Yandex: 433\n"
     ]
    }
   ],
   "source": [
    "print('Число действий в группе пользователей Yandex:', activity_yandex)\n",
    "print('Число просмотров в группе пользователей Yandex:', contacts_yandex)\n",
    "print('Число действий в группе пользователей Google:', activity_google)\n",
    "print('Число просмотров в группе пользователей Yandex:', contacts_google)"
   ]
  },
  {
   "cell_type": "code",
   "execution_count": 89,
   "metadata": {},
   "outputs": [
    {
     "name": "stdout",
     "output_type": "stream",
     "text": [
      "Не получилось отвергнуть нулевую гипотезу, нет оснований считать группы разными.\n",
      "0.6909985483111853\n"
     ]
    }
   ],
   "source": [
    "#проведем анализ статистической гипотезы\n",
    "\n",
    "actions_by_sources = np.array([activity_yandex, activity_google])\n",
    "contacts_by_sources = np.array([contacts_yandex, contacts_google])\n",
    "\n",
    "print(conv_check(contacts_by_sources, actions_by_sources))"
   ]
  },
  {
   "cell_type": "markdown",
   "metadata": {},
   "source": [
    "**Промежуточный вывод:** таким образом, проверка статистической гипотезы показала, что источник привлечения значимо не влияет на долю просмотров, то есть, все наши пользователи одинаково важны, вне зависимости от источника :)"
   ]
  },
  {
   "cell_type": "markdown",
   "metadata": {},
   "source": [
    "## Общие выводы"
   ]
  },
  {
   "cell_type": "markdown",
   "metadata": {},
   "source": [
    "**Ключевые выводы:** <br>\n",
    "\n",
    "1.Всего за анлизируемые период приложение \"Ненужные вещи\" посетило 4293 пользователя, 981 из которых совершил целевое действие, которое мы считаем индикатором эффективности использования приложения - просмотр контактов. Всего мы имеем три вида источников привлечения пользователей: yandex (45% пользователей), google (26%) и другие (29%). <br>\n",
    "\n",
    "2.В целом за рассматриваемый период по приложению наблюдается **положительная динамика**: аудитория растет, причем, как в целом, так и по числу целевых пользователей, которые хотя бы раз совершили целевое действие - просмотр контактов. Темпы роста числа целевых пользователей выше, чем по всей выборке. <br>\n",
    "\n",
    "3.При сравнении пользователей из целевой выборки, который хотя бы раз просмотрели контакты, и выборкой пользователей, ни разу этого не сделавших, можно отметить **следующие отличия**: <br>\n",
    "\n",
    "А.Нецелевые пользователи гораздо чаще открывают карту объявлений (действие map) - в среднем, на 16% чаще <br>\n",
    "\n",
    "Б.Целевые пользователи вдвое чаще добавляют объявление в избранное и в полтора раза чаще просматривают фотографии и кликают по рекомендованному объявлению <br>\n",
    "\n",
    "В.Целевые пользователи реже открывают рекламную карточку объявления (advert_open) <br>\n",
    "\n",
    "4.Анализ выявил, что пользователи в среднем за сессию (день) просматривают по два контакта, просматривая при этом 5 рекомендованных объявлений. Число просмотров контактов и рекомендованных объявлений выше по сравнению с остальными действиями. Это может говорить о том, что **многие пользователи переходят к объявлению и контактам, минуя первоначальны интерфейс приложения с поиском (возможно, переходят по ссылке от друзей или с других внешних ресурсов)**.\n",
    "<br>\n",
    "\n",
    "5.Целевые пользователи, которые осуществляли поиск на сайте самостоятельно, чаще всего совершали действие tips_show — увидел рекомендованные объявления, а данное действие,как правило, вытекало из действий map — открыл карту объявлений или advert_open — открыл карточки объявления. Поэтому воронка по основным пользователям должна включать эти действия. <br>\n",
    "\n",
    "Проведенный анализ показал, что карта объявлений работает эффективнее, чем рекламный показ рекомендованного объявления. С одной стороны, это можно объяснить тем, что начиная поиск с карты, пользователь целенаправленно выбирает нужные ему объявления, а на рекомендованные может кликнуть чисто из любопытства. **В качестве рекомендации** здесь можно посоветовать еще раз просмотреть алгоритмы, в соответствии с которыми пользователю показывается рекомендованное объявление. Конверсия в просмотры в перовм случае составила - 16%, во втором - 11%. <br>\n",
    "\n",
    "Конверсия в просмотры по сессиям по второй воронке на целых 10 п.п. превышает конверсию по первой воронке. Также важно отметить, что путь пользователей по многим сессиям довольно короткий и может состоять только из шагов tips_show и show_contacts. <br>\n",
    "\n",
    "6.Проверка статистических гипотез позволила нам сделать несколько выводов:\n",
    "\n",
    "А.Конверсия в просмотры у групп, совершающих действия и tips_show, и tips_click значимо отличается от конверсии группы, которая совершают только tips_show. \n",
    "\n",
    "Б.Исследование показало отсутствие значимой связи между источником и совершением целевого действия.Однако следует отметить, что доля пользователей из Google в целевой выборке немного выше, чем в среднем по всему датасету.\n"
   ]
  }
 ],
 "metadata": {
  "ExecuteTimeLog": [
   {
    "duration": 1231,
    "start_time": "2022-08-04T20:19:12.254Z"
   },
   {
    "duration": 4,
    "start_time": "2022-08-04T20:19:30.584Z"
   },
   {
    "duration": 523,
    "start_time": "2022-08-04T20:23:24.523Z"
   },
   {
    "duration": 184,
    "start_time": "2022-08-04T20:23:36.243Z"
   },
   {
    "duration": 7,
    "start_time": "2022-08-04T20:24:36.920Z"
   },
   {
    "duration": 11,
    "start_time": "2022-08-04T20:24:56.183Z"
   },
   {
    "duration": 8,
    "start_time": "2022-08-04T20:25:36.423Z"
   },
   {
    "duration": 13,
    "start_time": "2022-08-04T20:49:53.903Z"
   },
   {
    "duration": 8,
    "start_time": "2022-08-04T20:49:57.863Z"
   },
   {
    "duration": 11,
    "start_time": "2022-08-04T20:52:50.295Z"
   },
   {
    "duration": 8,
    "start_time": "2022-08-04T20:53:23.595Z"
   },
   {
    "duration": 12,
    "start_time": "2022-08-04T20:55:28.943Z"
   },
   {
    "duration": 13,
    "start_time": "2022-08-04T20:58:28.503Z"
   },
   {
    "duration": 12,
    "start_time": "2022-08-04T21:00:15.364Z"
   },
   {
    "duration": 15,
    "start_time": "2022-08-04T21:00:44.384Z"
   },
   {
    "duration": 4,
    "start_time": "2022-08-04T21:02:36.430Z"
   },
   {
    "duration": 10,
    "start_time": "2022-08-04T21:03:57.235Z"
   },
   {
    "duration": 9,
    "start_time": "2022-08-04T21:04:19.527Z"
   },
   {
    "duration": 3,
    "start_time": "2022-08-04T21:05:02.320Z"
   },
   {
    "duration": 7,
    "start_time": "2022-08-04T21:05:49.325Z"
   },
   {
    "duration": 4,
    "start_time": "2022-08-04T21:05:56.462Z"
   },
   {
    "duration": 780,
    "start_time": "2022-08-04T21:06:05.583Z"
   },
   {
    "duration": 5,
    "start_time": "2022-08-04T21:06:24.333Z"
   },
   {
    "duration": 4,
    "start_time": "2022-08-04T21:06:53.083Z"
   },
   {
    "duration": 10,
    "start_time": "2022-08-04T21:12:15.874Z"
   },
   {
    "duration": 7,
    "start_time": "2022-08-04T21:12:18.665Z"
   },
   {
    "duration": 13,
    "start_time": "2022-08-04T21:18:43.049Z"
   },
   {
    "duration": 19,
    "start_time": "2022-08-04T21:20:37.949Z"
   },
   {
    "duration": 8,
    "start_time": "2022-08-04T21:20:53.262Z"
   },
   {
    "duration": 8,
    "start_time": "2022-08-04T21:20:57.141Z"
   },
   {
    "duration": 7,
    "start_time": "2022-08-04T21:23:21.019Z"
   },
   {
    "duration": 8,
    "start_time": "2022-08-04T21:23:35.941Z"
   },
   {
    "duration": 8,
    "start_time": "2022-08-04T21:23:59.169Z"
   },
   {
    "duration": 7,
    "start_time": "2022-08-04T21:24:00.591Z"
   },
   {
    "duration": 1283,
    "start_time": "2022-08-05T19:57:39.341Z"
   },
   {
    "duration": 208,
    "start_time": "2022-08-05T19:57:40.626Z"
   },
   {
    "duration": 17,
    "start_time": "2022-08-05T19:57:42.003Z"
   },
   {
    "duration": 11,
    "start_time": "2022-08-05T19:57:43.044Z"
   },
   {
    "duration": 4,
    "start_time": "2022-08-05T19:57:44.959Z"
   },
   {
    "duration": 13,
    "start_time": "2022-08-05T19:57:45.437Z"
   },
   {
    "duration": 7,
    "start_time": "2022-08-05T19:57:46.347Z"
   },
   {
    "duration": 11,
    "start_time": "2022-08-05T19:57:46.945Z"
   },
   {
    "duration": 9,
    "start_time": "2022-08-05T19:57:48.440Z"
   },
   {
    "duration": 7,
    "start_time": "2022-08-05T19:57:48.845Z"
   },
   {
    "duration": 3,
    "start_time": "2022-08-05T19:57:49.787Z"
   },
   {
    "duration": 6,
    "start_time": "2022-08-05T19:57:50.153Z"
   },
   {
    "duration": 7,
    "start_time": "2022-08-05T19:57:50.500Z"
   },
   {
    "duration": 24,
    "start_time": "2022-08-05T19:57:51.200Z"
   },
   {
    "duration": 7,
    "start_time": "2022-08-05T19:57:51.445Z"
   },
   {
    "duration": 7,
    "start_time": "2022-08-05T19:57:51.729Z"
   },
   {
    "duration": 8,
    "start_time": "2022-08-05T19:57:51.999Z"
   },
   {
    "duration": 12,
    "start_time": "2022-08-05T19:58:02.780Z"
   },
   {
    "duration": 10,
    "start_time": "2022-08-05T19:58:06.349Z"
   },
   {
    "duration": 7,
    "start_time": "2022-08-05T19:58:06.837Z"
   },
   {
    "duration": 3,
    "start_time": "2022-08-05T19:58:07.971Z"
   },
   {
    "duration": 5,
    "start_time": "2022-08-05T19:58:08.381Z"
   },
   {
    "duration": 5,
    "start_time": "2022-08-05T19:58:08.939Z"
   },
   {
    "duration": 20,
    "start_time": "2022-08-05T19:58:11.872Z"
   },
   {
    "duration": 8,
    "start_time": "2022-08-05T19:58:12.672Z"
   },
   {
    "duration": 6,
    "start_time": "2022-08-05T19:58:13.399Z"
   },
   {
    "duration": 8,
    "start_time": "2022-08-05T19:58:16.511Z"
   },
   {
    "duration": 91,
    "start_time": "2022-08-05T20:01:53.968Z"
   },
   {
    "duration": 66,
    "start_time": "2022-08-05T20:02:37.968Z"
   },
   {
    "duration": 9,
    "start_time": "2022-08-05T20:03:15.172Z"
   },
   {
    "duration": 17,
    "start_time": "2022-08-05T20:07:35.000Z"
   },
   {
    "duration": 65,
    "start_time": "2022-08-05T20:08:47.342Z"
   },
   {
    "duration": 37,
    "start_time": "2022-08-05T20:08:57.659Z"
   },
   {
    "duration": 40,
    "start_time": "2022-08-05T20:17:09.492Z"
   },
   {
    "duration": 17,
    "start_time": "2022-08-05T20:17:49.572Z"
   },
   {
    "duration": 10,
    "start_time": "2022-08-05T20:18:11.992Z"
   },
   {
    "duration": 10,
    "start_time": "2022-08-05T20:18:15.380Z"
   },
   {
    "duration": 9,
    "start_time": "2022-08-05T20:31:03.291Z"
   },
   {
    "duration": 5,
    "start_time": "2022-08-05T20:31:17.967Z"
   },
   {
    "duration": 9,
    "start_time": "2022-08-05T20:31:53.379Z"
   },
   {
    "duration": 12,
    "start_time": "2022-08-05T20:32:58.901Z"
   },
   {
    "duration": 9,
    "start_time": "2022-08-05T20:33:00.340Z"
   },
   {
    "duration": 4,
    "start_time": "2022-08-05T20:33:00.707Z"
   },
   {
    "duration": 5,
    "start_time": "2022-08-05T20:33:00.835Z"
   },
   {
    "duration": 7,
    "start_time": "2022-08-05T20:33:00.991Z"
   },
   {
    "duration": 21,
    "start_time": "2022-08-05T20:33:01.279Z"
   },
   {
    "duration": 8,
    "start_time": "2022-08-05T20:33:01.411Z"
   },
   {
    "duration": 6,
    "start_time": "2022-08-05T20:33:01.579Z"
   },
   {
    "duration": 8,
    "start_time": "2022-08-05T20:33:01.742Z"
   },
   {
    "duration": 58,
    "start_time": "2022-08-05T20:33:03.300Z"
   },
   {
    "duration": 9,
    "start_time": "2022-08-05T20:33:03.872Z"
   },
   {
    "duration": 26,
    "start_time": "2022-08-05T20:33:04.999Z"
   },
   {
    "duration": 53,
    "start_time": "2022-08-05T20:33:05.471Z"
   },
   {
    "duration": 35,
    "start_time": "2022-08-05T20:34:55.940Z"
   },
   {
    "duration": 71,
    "start_time": "2022-08-05T20:55:28.272Z"
   },
   {
    "duration": 11,
    "start_time": "2022-08-05T20:55:32.112Z"
   },
   {
    "duration": 7,
    "start_time": "2022-08-05T20:59:48.473Z"
   },
   {
    "duration": 4,
    "start_time": "2022-08-05T21:00:06.061Z"
   },
   {
    "duration": 7,
    "start_time": "2022-08-05T21:00:56.641Z"
   },
   {
    "duration": 2,
    "start_time": "2022-08-05T21:02:10.880Z"
   },
   {
    "duration": 7,
    "start_time": "2022-08-05T21:02:13.588Z"
   },
   {
    "duration": 3,
    "start_time": "2022-08-05T21:02:44.541Z"
   },
   {
    "duration": 10,
    "start_time": "2022-08-05T21:02:50.001Z"
   },
   {
    "duration": 7,
    "start_time": "2022-08-05T21:07:04.160Z"
   },
   {
    "duration": 7,
    "start_time": "2022-08-05T21:07:14.492Z"
   },
   {
    "duration": 11,
    "start_time": "2022-08-05T21:08:31.200Z"
   },
   {
    "duration": 173,
    "start_time": "2022-08-05T21:12:53.108Z"
   },
   {
    "duration": 173,
    "start_time": "2022-08-05T21:13:01.633Z"
   },
   {
    "duration": 7,
    "start_time": "2022-08-05T21:13:12.292Z"
   },
   {
    "duration": 7,
    "start_time": "2022-08-05T21:13:16.801Z"
   },
   {
    "duration": 9,
    "start_time": "2022-08-05T21:18:10.002Z"
   },
   {
    "duration": 6,
    "start_time": "2022-08-05T21:20:29.162Z"
   },
   {
    "duration": 10,
    "start_time": "2022-08-05T21:20:38.019Z"
   },
   {
    "duration": 16,
    "start_time": "2022-08-05T21:21:12.841Z"
   },
   {
    "duration": 11,
    "start_time": "2022-08-05T21:22:02.881Z"
   },
   {
    "duration": 10,
    "start_time": "2022-08-05T21:22:08.061Z"
   },
   {
    "duration": 14,
    "start_time": "2022-08-05T21:22:26.141Z"
   },
   {
    "duration": 11,
    "start_time": "2022-08-05T21:22:41.449Z"
   },
   {
    "duration": 19,
    "start_time": "2022-08-05T21:37:10.973Z"
   },
   {
    "duration": 7,
    "start_time": "2022-08-05T21:37:30.221Z"
   },
   {
    "duration": 322,
    "start_time": "2022-08-05T21:45:04.780Z"
   },
   {
    "duration": 128,
    "start_time": "2022-08-05T21:45:54.741Z"
   },
   {
    "duration": 312,
    "start_time": "2022-08-05T21:46:13.100Z"
   },
   {
    "duration": 290,
    "start_time": "2022-08-05T21:47:59.301Z"
   },
   {
    "duration": 2,
    "start_time": "2022-08-05T21:48:22.181Z"
   },
   {
    "duration": 1279,
    "start_time": "2022-08-06T16:49:03.195Z"
   },
   {
    "duration": 499,
    "start_time": "2022-08-06T16:49:05.647Z"
   },
   {
    "duration": 19,
    "start_time": "2022-08-06T16:49:06.927Z"
   },
   {
    "duration": 12,
    "start_time": "2022-08-06T16:49:07.587Z"
   },
   {
    "duration": 3,
    "start_time": "2022-08-06T16:49:08.199Z"
   },
   {
    "duration": 14,
    "start_time": "2022-08-06T16:49:08.915Z"
   },
   {
    "duration": 9,
    "start_time": "2022-08-06T16:49:11.494Z"
   },
   {
    "duration": 13,
    "start_time": "2022-08-06T16:49:12.287Z"
   },
   {
    "duration": 25,
    "start_time": "2022-08-06T16:49:13.768Z"
   },
   {
    "duration": 8,
    "start_time": "2022-08-06T16:49:14.699Z"
   },
   {
    "duration": 6,
    "start_time": "2022-08-06T16:49:15.039Z"
   },
   {
    "duration": 4,
    "start_time": "2022-08-06T16:49:15.938Z"
   },
   {
    "duration": 4,
    "start_time": "2022-08-06T16:49:16.299Z"
   },
   {
    "duration": 5,
    "start_time": "2022-08-06T16:49:16.818Z"
   },
   {
    "duration": 24,
    "start_time": "2022-08-06T16:49:17.846Z"
   },
   {
    "duration": 8,
    "start_time": "2022-08-06T16:49:18.207Z"
   },
   {
    "duration": 7,
    "start_time": "2022-08-06T16:49:18.807Z"
   },
   {
    "duration": 9,
    "start_time": "2022-08-06T16:49:19.326Z"
   },
   {
    "duration": 69,
    "start_time": "2022-08-06T16:49:20.278Z"
   },
   {
    "duration": 10,
    "start_time": "2022-08-06T16:49:20.838Z"
   },
   {
    "duration": 21,
    "start_time": "2022-08-06T16:49:22.408Z"
   },
   {
    "duration": 53,
    "start_time": "2022-08-06T16:49:32.306Z"
   },
   {
    "duration": 21,
    "start_time": "2022-08-06T16:49:35.519Z"
   },
   {
    "duration": 3,
    "start_time": "2022-08-06T16:49:36.439Z"
   },
   {
    "duration": 7,
    "start_time": "2022-08-06T16:49:36.959Z"
   },
   {
    "duration": 4,
    "start_time": "2022-08-06T16:49:37.280Z"
   },
   {
    "duration": 7,
    "start_time": "2022-08-06T16:49:37.588Z"
   },
   {
    "duration": 7,
    "start_time": "2022-08-06T16:49:38.060Z"
   },
   {
    "duration": 11,
    "start_time": "2022-08-06T16:49:38.279Z"
   },
   {
    "duration": 13,
    "start_time": "2022-08-06T16:49:38.799Z"
   },
   {
    "duration": 12,
    "start_time": "2022-08-06T16:55:20.086Z"
   },
   {
    "duration": 5,
    "start_time": "2022-08-06T16:55:29.745Z"
   },
   {
    "duration": 14,
    "start_time": "2022-08-06T16:57:19.725Z"
   },
   {
    "duration": 5,
    "start_time": "2022-08-06T16:57:21.020Z"
   },
   {
    "duration": 12,
    "start_time": "2022-08-06T16:57:26.146Z"
   },
   {
    "duration": 5,
    "start_time": "2022-08-06T16:57:26.597Z"
   },
   {
    "duration": 22,
    "start_time": "2022-08-06T16:57:53.406Z"
   },
   {
    "duration": 6,
    "start_time": "2022-08-06T16:57:55.878Z"
   },
   {
    "duration": 112,
    "start_time": "2022-08-06T17:02:09.966Z"
   },
   {
    "duration": 228,
    "start_time": "2022-08-06T17:02:23.845Z"
   },
   {
    "duration": 206,
    "start_time": "2022-08-06T17:02:30.146Z"
   },
   {
    "duration": 225,
    "start_time": "2022-08-06T17:02:57.697Z"
   },
   {
    "duration": 1217,
    "start_time": "2022-08-06T21:20:16.875Z"
   },
   {
    "duration": 528,
    "start_time": "2022-08-06T21:20:18.094Z"
   },
   {
    "duration": 18,
    "start_time": "2022-08-06T21:20:18.624Z"
   },
   {
    "duration": 11,
    "start_time": "2022-08-06T21:20:19.236Z"
   },
   {
    "duration": 3,
    "start_time": "2022-08-06T21:20:20.155Z"
   },
   {
    "duration": 14,
    "start_time": "2022-08-06T21:20:20.874Z"
   },
   {
    "duration": 7,
    "start_time": "2022-08-06T21:20:21.395Z"
   },
   {
    "duration": 13,
    "start_time": "2022-08-06T21:20:21.915Z"
   },
   {
    "duration": 24,
    "start_time": "2022-08-06T21:20:23.427Z"
   },
   {
    "duration": 10,
    "start_time": "2022-08-06T21:20:24.454Z"
   },
   {
    "duration": 7,
    "start_time": "2022-08-06T21:20:24.966Z"
   },
   {
    "duration": 3,
    "start_time": "2022-08-06T21:20:25.835Z"
   },
   {
    "duration": 4,
    "start_time": "2022-08-06T21:20:26.175Z"
   },
   {
    "duration": 6,
    "start_time": "2022-08-06T21:20:26.574Z"
   },
   {
    "duration": 23,
    "start_time": "2022-08-06T21:20:27.556Z"
   },
   {
    "duration": 9,
    "start_time": "2022-08-06T21:20:27.926Z"
   },
   {
    "duration": 7,
    "start_time": "2022-08-06T21:20:28.535Z"
   },
   {
    "duration": 11,
    "start_time": "2022-08-06T21:20:29.035Z"
   },
   {
    "duration": 72,
    "start_time": "2022-08-06T21:20:30.254Z"
   },
   {
    "duration": 11,
    "start_time": "2022-08-06T21:20:30.694Z"
   },
   {
    "duration": 21,
    "start_time": "2022-08-06T21:20:31.731Z"
   },
   {
    "duration": 45,
    "start_time": "2022-08-06T21:20:32.255Z"
   },
   {
    "duration": 20,
    "start_time": "2022-08-06T21:20:35.219Z"
   },
   {
    "duration": 2,
    "start_time": "2022-08-06T21:20:35.935Z"
   },
   {
    "duration": 7,
    "start_time": "2022-08-06T21:20:36.254Z"
   },
   {
    "duration": 3,
    "start_time": "2022-08-06T21:20:36.563Z"
   },
   {
    "duration": 7,
    "start_time": "2022-08-06T21:20:36.935Z"
   },
   {
    "duration": 8,
    "start_time": "2022-08-06T21:20:37.714Z"
   },
   {
    "duration": 11,
    "start_time": "2022-08-06T21:20:38.154Z"
   },
   {
    "duration": 13,
    "start_time": "2022-08-06T21:20:39.395Z"
   },
   {
    "duration": 1242,
    "start_time": "2022-08-07T17:35:10.257Z"
   },
   {
    "duration": 500,
    "start_time": "2022-08-07T17:35:12.320Z"
   },
   {
    "duration": 16,
    "start_time": "2022-08-07T17:35:13.516Z"
   },
   {
    "duration": 10,
    "start_time": "2022-08-07T17:35:14.524Z"
   },
   {
    "duration": 2,
    "start_time": "2022-08-07T17:35:15.219Z"
   },
   {
    "duration": 14,
    "start_time": "2022-08-07T17:35:15.819Z"
   },
   {
    "duration": 8,
    "start_time": "2022-08-07T17:35:16.159Z"
   },
   {
    "duration": 11,
    "start_time": "2022-08-07T17:35:16.457Z"
   },
   {
    "duration": 24,
    "start_time": "2022-08-07T17:35:17.139Z"
   },
   {
    "duration": 9,
    "start_time": "2022-08-07T17:35:17.689Z"
   },
   {
    "duration": 6,
    "start_time": "2022-08-07T17:35:18.046Z"
   },
   {
    "duration": 3,
    "start_time": "2022-08-07T17:35:19.211Z"
   },
   {
    "duration": 5,
    "start_time": "2022-08-07T17:35:19.561Z"
   },
   {
    "duration": 6,
    "start_time": "2022-08-07T17:35:20.017Z"
   },
   {
    "duration": 22,
    "start_time": "2022-08-07T17:35:20.872Z"
   },
   {
    "duration": 8,
    "start_time": "2022-08-07T17:35:21.209Z"
   },
   {
    "duration": 7,
    "start_time": "2022-08-07T17:35:21.688Z"
   },
   {
    "duration": 8,
    "start_time": "2022-08-07T17:35:22.103Z"
   },
   {
    "duration": 63,
    "start_time": "2022-08-07T17:35:22.967Z"
   },
   {
    "duration": 9,
    "start_time": "2022-08-07T17:35:24.145Z"
   },
   {
    "duration": 19,
    "start_time": "2022-08-07T17:35:24.886Z"
   },
   {
    "duration": 46,
    "start_time": "2022-08-07T17:35:25.294Z"
   },
   {
    "duration": 21,
    "start_time": "2022-08-07T17:35:26.956Z"
   },
   {
    "duration": 2,
    "start_time": "2022-08-07T17:35:27.492Z"
   },
   {
    "duration": 7,
    "start_time": "2022-08-07T17:35:27.804Z"
   },
   {
    "duration": 4,
    "start_time": "2022-08-07T17:35:28.048Z"
   },
   {
    "duration": 9,
    "start_time": "2022-08-07T17:35:28.399Z"
   },
   {
    "duration": 7,
    "start_time": "2022-08-07T17:35:29.083Z"
   },
   {
    "duration": 11,
    "start_time": "2022-08-07T17:35:29.385Z"
   },
   {
    "duration": 13,
    "start_time": "2022-08-07T17:35:30.034Z"
   },
   {
    "duration": 16,
    "start_time": "2022-08-07T17:37:36.172Z"
   },
   {
    "duration": 5,
    "start_time": "2022-08-07T17:37:36.190Z"
   },
   {
    "duration": 345,
    "start_time": "2022-08-07T17:37:36.197Z"
   },
   {
    "duration": 0,
    "start_time": "2022-08-07T17:37:36.546Z"
   },
   {
    "duration": 7,
    "start_time": "2022-08-07T17:37:40.966Z"
   },
   {
    "duration": 104,
    "start_time": "2022-08-07T17:38:07.858Z"
   },
   {
    "duration": 149,
    "start_time": "2022-08-07T17:38:51.163Z"
   },
   {
    "duration": 28,
    "start_time": "2022-08-07T17:39:58.737Z"
   },
   {
    "duration": 5,
    "start_time": "2022-08-07T17:40:00.686Z"
   },
   {
    "duration": 303,
    "start_time": "2022-08-07T17:40:02.600Z"
   },
   {
    "duration": 319,
    "start_time": "2022-08-07T17:40:13.445Z"
   },
   {
    "duration": 6,
    "start_time": "2022-08-07T17:46:07.199Z"
   },
   {
    "duration": 16,
    "start_time": "2022-08-07T17:46:38.955Z"
   },
   {
    "duration": 11,
    "start_time": "2022-08-07T17:47:13.213Z"
   },
   {
    "duration": 12,
    "start_time": "2022-08-07T17:47:27.334Z"
   },
   {
    "duration": 9,
    "start_time": "2022-08-07T17:47:35.812Z"
   },
   {
    "duration": 11,
    "start_time": "2022-08-07T17:47:37.247Z"
   },
   {
    "duration": 4,
    "start_time": "2022-08-07T17:48:44.618Z"
   },
   {
    "duration": 46,
    "start_time": "2022-08-07T17:54:43.138Z"
   },
   {
    "duration": 16,
    "start_time": "2022-08-07T17:55:02.355Z"
   },
   {
    "duration": 5,
    "start_time": "2022-08-07T17:55:23.940Z"
   },
   {
    "duration": 9,
    "start_time": "2022-08-07T17:55:45.160Z"
   },
   {
    "duration": 22,
    "start_time": "2022-08-07T17:56:21.115Z"
   },
   {
    "duration": 11,
    "start_time": "2022-08-07T17:57:24.778Z"
   },
   {
    "duration": 13,
    "start_time": "2022-08-07T17:57:28.195Z"
   },
   {
    "duration": 22,
    "start_time": "2022-08-07T17:57:33.477Z"
   },
   {
    "duration": 53,
    "start_time": "2022-08-07T17:58:16.356Z"
   },
   {
    "duration": 13,
    "start_time": "2022-08-07T17:58:28.553Z"
   },
   {
    "duration": 17,
    "start_time": "2022-08-07T17:58:56.138Z"
   },
   {
    "duration": 23,
    "start_time": "2022-08-07T17:59:15.569Z"
   },
   {
    "duration": 22,
    "start_time": "2022-08-07T18:00:24.308Z"
   },
   {
    "duration": 56,
    "start_time": "2022-08-07T18:02:51.943Z"
   },
   {
    "duration": 48,
    "start_time": "2022-08-07T18:03:11.154Z"
   },
   {
    "duration": 11,
    "start_time": "2022-08-07T18:03:23.513Z"
   },
   {
    "duration": 9,
    "start_time": "2022-08-07T18:03:31.288Z"
   },
   {
    "duration": 20,
    "start_time": "2022-08-07T18:06:15.139Z"
   },
   {
    "duration": 8,
    "start_time": "2022-08-07T18:06:19.119Z"
   },
   {
    "duration": 10,
    "start_time": "2022-08-07T18:07:19.420Z"
   },
   {
    "duration": 12,
    "start_time": "2022-08-07T18:07:53.853Z"
   },
   {
    "duration": 10,
    "start_time": "2022-08-07T18:15:34.169Z"
   },
   {
    "duration": 3,
    "start_time": "2022-08-07T18:15:48.987Z"
   },
   {
    "duration": 690,
    "start_time": "2022-08-07T18:15:54.881Z"
   },
   {
    "duration": 751,
    "start_time": "2022-08-07T18:17:45.360Z"
   },
   {
    "duration": 929,
    "start_time": "2022-08-07T18:17:57.638Z"
   },
   {
    "duration": 855,
    "start_time": "2022-08-07T18:18:50.016Z"
   },
   {
    "duration": 13,
    "start_time": "2022-08-07T18:19:22.918Z"
   },
   {
    "duration": 58,
    "start_time": "2022-08-07T18:31:39.796Z"
   },
   {
    "duration": 18,
    "start_time": "2022-08-07T18:32:04.911Z"
   },
   {
    "duration": 9,
    "start_time": "2022-08-07T18:32:15.948Z"
   },
   {
    "duration": 30,
    "start_time": "2022-08-07T18:43:46.252Z"
   },
   {
    "duration": 739,
    "start_time": "2022-08-07T18:46:16.744Z"
   },
   {
    "duration": 7,
    "start_time": "2022-08-07T18:46:32.045Z"
   },
   {
    "duration": 9,
    "start_time": "2022-08-07T18:49:43.476Z"
   },
   {
    "duration": 9,
    "start_time": "2022-08-07T18:50:12.015Z"
   },
   {
    "duration": 38,
    "start_time": "2022-08-07T18:51:30.337Z"
   },
   {
    "duration": 8,
    "start_time": "2022-08-07T18:52:09.665Z"
   },
   {
    "duration": 10,
    "start_time": "2022-08-07T18:52:23.248Z"
   },
   {
    "duration": 682,
    "start_time": "2022-08-07T18:53:53.641Z"
   },
   {
    "duration": 977,
    "start_time": "2022-08-07T18:54:13.717Z"
   },
   {
    "duration": 11,
    "start_time": "2022-08-07T18:58:48.515Z"
   },
   {
    "duration": 1255,
    "start_time": "2022-08-07T19:01:26.056Z"
   },
   {
    "duration": 18,
    "start_time": "2022-08-07T19:01:38.346Z"
   },
   {
    "duration": 446,
    "start_time": "2022-08-07T19:02:47.977Z"
   },
   {
    "duration": 363,
    "start_time": "2022-08-07T19:03:51.487Z"
   },
   {
    "duration": 375,
    "start_time": "2022-08-07T19:03:57.763Z"
   },
   {
    "duration": 323,
    "start_time": "2022-08-07T19:04:05.496Z"
   },
   {
    "duration": 269,
    "start_time": "2022-08-07T19:04:17.963Z"
   },
   {
    "duration": 298,
    "start_time": "2022-08-07T19:05:47.410Z"
   },
   {
    "duration": 251,
    "start_time": "2022-08-07T19:05:52.727Z"
   },
   {
    "duration": 286,
    "start_time": "2022-08-07T19:06:03.281Z"
   },
   {
    "duration": 245,
    "start_time": "2022-08-07T19:06:53.725Z"
   },
   {
    "duration": 392,
    "start_time": "2022-08-07T19:07:16.602Z"
   },
   {
    "duration": 259,
    "start_time": "2022-08-07T19:08:15.041Z"
   },
   {
    "duration": 53,
    "start_time": "2022-08-07T19:08:51.962Z"
   },
   {
    "duration": 268,
    "start_time": "2022-08-07T19:09:22.725Z"
   },
   {
    "duration": 380,
    "start_time": "2022-08-07T19:09:40.168Z"
   },
   {
    "duration": 343,
    "start_time": "2022-08-07T19:10:18.243Z"
   },
   {
    "duration": 7,
    "start_time": "2022-08-07T19:42:44.693Z"
   },
   {
    "duration": 7,
    "start_time": "2022-08-07T19:43:07.598Z"
   },
   {
    "duration": 7,
    "start_time": "2022-08-07T19:44:36.052Z"
   },
   {
    "duration": 6,
    "start_time": "2022-08-07T19:46:26.393Z"
   },
   {
    "duration": 6,
    "start_time": "2022-08-07T19:46:46.597Z"
   },
   {
    "duration": 6,
    "start_time": "2022-08-07T19:47:05.032Z"
   },
   {
    "duration": 6,
    "start_time": "2022-08-07T19:47:16.914Z"
   },
   {
    "duration": 6,
    "start_time": "2022-08-07T19:47:44.686Z"
   },
   {
    "duration": 6,
    "start_time": "2022-08-07T19:48:26.651Z"
   },
   {
    "duration": 7,
    "start_time": "2022-08-07T19:48:39.726Z"
   },
   {
    "duration": 7,
    "start_time": "2022-08-07T19:50:32.195Z"
   },
   {
    "duration": 8,
    "start_time": "2022-08-07T19:51:36.126Z"
   },
   {
    "duration": 8,
    "start_time": "2022-08-07T19:51:49.161Z"
   },
   {
    "duration": 7,
    "start_time": "2022-08-07T19:51:56.389Z"
   },
   {
    "duration": 7,
    "start_time": "2022-08-07T19:52:25.282Z"
   },
   {
    "duration": 7,
    "start_time": "2022-08-07T19:53:18.753Z"
   },
   {
    "duration": 5,
    "start_time": "2022-08-07T19:54:28.899Z"
   },
   {
    "duration": 3,
    "start_time": "2022-08-07T19:55:06.237Z"
   },
   {
    "duration": 14,
    "start_time": "2022-08-07T19:55:46.108Z"
   },
   {
    "duration": 7,
    "start_time": "2022-08-07T19:56:56.502Z"
   },
   {
    "duration": 7,
    "start_time": "2022-08-07T19:57:22.075Z"
   },
   {
    "duration": 6,
    "start_time": "2022-08-07T19:57:27.641Z"
   },
   {
    "duration": 6,
    "start_time": "2022-08-07T19:57:52.149Z"
   },
   {
    "duration": 28,
    "start_time": "2022-08-07T19:58:01.991Z"
   },
   {
    "duration": 6,
    "start_time": "2022-08-07T19:58:12.359Z"
   },
   {
    "duration": 6,
    "start_time": "2022-08-07T19:58:20.895Z"
   },
   {
    "duration": 9,
    "start_time": "2022-08-07T20:18:09.860Z"
   },
   {
    "duration": 3,
    "start_time": "2022-08-07T20:18:43.683Z"
   },
   {
    "duration": 10,
    "start_time": "2022-08-07T20:19:48.622Z"
   },
   {
    "duration": 23,
    "start_time": "2022-08-07T20:22:05.143Z"
   },
   {
    "duration": 10,
    "start_time": "2022-08-07T20:22:07.499Z"
   },
   {
    "duration": 15,
    "start_time": "2022-08-07T20:22:12.515Z"
   },
   {
    "duration": 776,
    "start_time": "2022-08-07T20:22:19.165Z"
   },
   {
    "duration": 240,
    "start_time": "2022-08-07T20:22:53.443Z"
   },
   {
    "duration": 777,
    "start_time": "2022-08-07T20:23:07.363Z"
   },
   {
    "duration": 16,
    "start_time": "2022-08-07T20:23:12.633Z"
   },
   {
    "duration": 28,
    "start_time": "2022-08-07T20:23:19.057Z"
   },
   {
    "duration": 8,
    "start_time": "2022-08-07T20:23:22.925Z"
   },
   {
    "duration": 5,
    "start_time": "2022-08-07T20:24:00.376Z"
   },
   {
    "duration": 14,
    "start_time": "2022-08-07T20:25:23.603Z"
   },
   {
    "duration": 8,
    "start_time": "2022-08-07T20:25:30.647Z"
   },
   {
    "duration": 4,
    "start_time": "2022-08-07T20:31:38.725Z"
   },
   {
    "duration": 17,
    "start_time": "2022-08-07T20:33:02.140Z"
   },
   {
    "duration": 15,
    "start_time": "2022-08-07T20:33:32.344Z"
   },
   {
    "duration": 15,
    "start_time": "2022-08-07T20:34:59.032Z"
   },
   {
    "duration": 5,
    "start_time": "2022-08-07T20:38:00.191Z"
   },
   {
    "duration": 5,
    "start_time": "2022-08-07T20:38:11.221Z"
   },
   {
    "duration": 8,
    "start_time": "2022-08-07T20:38:34.231Z"
   },
   {
    "duration": 11,
    "start_time": "2022-08-07T20:38:44.835Z"
   },
   {
    "duration": 7,
    "start_time": "2022-08-07T20:38:57.739Z"
   },
   {
    "duration": 14,
    "start_time": "2022-08-07T20:41:30.653Z"
   },
   {
    "duration": 12,
    "start_time": "2022-08-07T20:41:52.436Z"
   },
   {
    "duration": 6,
    "start_time": "2022-08-07T20:42:16.081Z"
   },
   {
    "duration": 6,
    "start_time": "2022-08-07T20:42:21.911Z"
   },
   {
    "duration": 12,
    "start_time": "2022-08-07T20:44:32.127Z"
   },
   {
    "duration": 20,
    "start_time": "2022-08-07T20:44:46.483Z"
   },
   {
    "duration": 18,
    "start_time": "2022-08-07T20:45:16.311Z"
   },
   {
    "duration": 12,
    "start_time": "2022-08-07T20:45:24.899Z"
   },
   {
    "duration": 16,
    "start_time": "2022-08-07T20:45:32.552Z"
   },
   {
    "duration": 10,
    "start_time": "2022-08-07T20:45:47.097Z"
   },
   {
    "duration": 10,
    "start_time": "2022-08-07T20:46:29.386Z"
   },
   {
    "duration": 9,
    "start_time": "2022-08-07T20:47:35.737Z"
   },
   {
    "duration": 9,
    "start_time": "2022-08-07T20:47:54.857Z"
   },
   {
    "duration": 11,
    "start_time": "2022-08-07T20:48:00.559Z"
   },
   {
    "duration": 12,
    "start_time": "2022-08-07T20:48:05.928Z"
   },
   {
    "duration": 177,
    "start_time": "2022-08-07T20:48:24.384Z"
   },
   {
    "duration": 77,
    "start_time": "2022-08-07T20:48:29.703Z"
   },
   {
    "duration": 10,
    "start_time": "2022-08-07T20:48:37.342Z"
   },
   {
    "duration": 254,
    "start_time": "2022-08-07T20:52:50.682Z"
   },
   {
    "duration": 250,
    "start_time": "2022-08-07T20:54:46.322Z"
   },
   {
    "duration": 159,
    "start_time": "2022-08-07T20:55:01.476Z"
   },
   {
    "duration": 363,
    "start_time": "2022-08-07T20:55:50.015Z"
   },
   {
    "duration": 262,
    "start_time": "2022-08-07T21:00:24.327Z"
   },
   {
    "duration": 254,
    "start_time": "2022-08-07T21:00:44.953Z"
   },
   {
    "duration": 21,
    "start_time": "2022-08-07T21:01:49.338Z"
   },
   {
    "duration": 265,
    "start_time": "2022-08-07T21:04:56.873Z"
   },
   {
    "duration": 342,
    "start_time": "2022-08-07T21:05:01.834Z"
   },
   {
    "duration": 38,
    "start_time": "2022-08-07T21:06:26.896Z"
   },
   {
    "duration": 30,
    "start_time": "2022-08-07T21:06:45.235Z"
   },
   {
    "duration": 30,
    "start_time": "2022-08-07T21:07:35.918Z"
   },
   {
    "duration": 36,
    "start_time": "2022-08-07T21:07:46.743Z"
   },
   {
    "duration": 16,
    "start_time": "2022-08-07T21:11:29.730Z"
   },
   {
    "duration": 8,
    "start_time": "2022-08-07T21:14:43.194Z"
   },
   {
    "duration": 283,
    "start_time": "2022-08-07T21:16:29.333Z"
   },
   {
    "duration": 328,
    "start_time": "2022-08-07T21:17:30.148Z"
   },
   {
    "duration": 338,
    "start_time": "2022-08-07T21:17:54.915Z"
   },
   {
    "duration": 354,
    "start_time": "2022-08-07T21:22:28.854Z"
   },
   {
    "duration": 355,
    "start_time": "2022-08-07T21:23:11.319Z"
   },
   {
    "duration": 76,
    "start_time": "2022-08-07T21:23:37.981Z"
   },
   {
    "duration": 160,
    "start_time": "2022-08-07T21:30:28.721Z"
   },
   {
    "duration": 255,
    "start_time": "2022-08-07T21:32:56.968Z"
   },
   {
    "duration": 324,
    "start_time": "2022-08-07T21:33:16.066Z"
   },
   {
    "duration": 14,
    "start_time": "2022-08-07T21:34:21.167Z"
   },
   {
    "duration": 32,
    "start_time": "2022-08-07T21:36:07.460Z"
   },
   {
    "duration": 18,
    "start_time": "2022-08-07T21:36:56.781Z"
   },
   {
    "duration": 338,
    "start_time": "2022-08-07T21:38:44.192Z"
   },
   {
    "duration": 12,
    "start_time": "2022-08-07T21:39:17.611Z"
   },
   {
    "duration": 20,
    "start_time": "2022-08-07T21:47:09.351Z"
   },
   {
    "duration": 50,
    "start_time": "2022-08-07T21:50:24.282Z"
   },
   {
    "duration": 56,
    "start_time": "2022-08-07T21:51:04.351Z"
   },
   {
    "duration": 51,
    "start_time": "2022-08-07T21:51:10.897Z"
   },
   {
    "duration": 27,
    "start_time": "2022-08-07T21:51:26.077Z"
   },
   {
    "duration": 28,
    "start_time": "2022-08-07T21:51:29.655Z"
   },
   {
    "duration": 39,
    "start_time": "2022-08-07T21:52:34.420Z"
   },
   {
    "duration": 13,
    "start_time": "2022-08-07T21:52:39.323Z"
   },
   {
    "duration": 12,
    "start_time": "2022-08-07T21:53:21.164Z"
   },
   {
    "duration": 15,
    "start_time": "2022-08-07T21:54:47.427Z"
   },
   {
    "duration": 16,
    "start_time": "2022-08-07T21:55:03.032Z"
   },
   {
    "duration": 17,
    "start_time": "2022-08-07T21:55:26.476Z"
   },
   {
    "duration": 17,
    "start_time": "2022-08-07T21:55:41.454Z"
   },
   {
    "duration": 28,
    "start_time": "2022-08-07T21:57:04.913Z"
   },
   {
    "duration": 22,
    "start_time": "2022-08-07T21:59:11.334Z"
   },
   {
    "duration": 9,
    "start_time": "2022-08-07T22:00:45.118Z"
   },
   {
    "duration": 10,
    "start_time": "2022-08-07T22:01:43.620Z"
   },
   {
    "duration": 6,
    "start_time": "2022-08-07T22:02:48.429Z"
   },
   {
    "duration": 51,
    "start_time": "2022-08-07T22:05:39.999Z"
   },
   {
    "duration": 18,
    "start_time": "2022-08-07T22:05:47.881Z"
   },
   {
    "duration": 18,
    "start_time": "2022-08-07T22:06:04.649Z"
   },
   {
    "duration": 61,
    "start_time": "2022-08-07T22:07:10.428Z"
   },
   {
    "duration": 61,
    "start_time": "2022-08-07T22:07:19.653Z"
   },
   {
    "duration": 25,
    "start_time": "2022-08-07T22:07:45.927Z"
   },
   {
    "duration": 30,
    "start_time": "2022-08-07T22:08:03.732Z"
   },
   {
    "duration": 29,
    "start_time": "2022-08-07T22:13:58.437Z"
   },
   {
    "duration": 29,
    "start_time": "2022-08-07T22:14:18.000Z"
   },
   {
    "duration": 14,
    "start_time": "2022-08-07T22:14:53.056Z"
   },
   {
    "duration": 1226,
    "start_time": "2022-08-08T16:54:47.506Z"
   },
   {
    "duration": 251,
    "start_time": "2022-08-08T16:54:48.734Z"
   },
   {
    "duration": 17,
    "start_time": "2022-08-08T16:54:48.987Z"
   },
   {
    "duration": 11,
    "start_time": "2022-08-08T16:54:50.137Z"
   },
   {
    "duration": 4,
    "start_time": "2022-08-08T16:54:51.020Z"
   },
   {
    "duration": 20,
    "start_time": "2022-08-08T16:54:51.481Z"
   },
   {
    "duration": 7,
    "start_time": "2022-08-08T16:54:51.936Z"
   },
   {
    "duration": 11,
    "start_time": "2022-08-08T16:54:52.281Z"
   },
   {
    "duration": 21,
    "start_time": "2022-08-08T16:54:53.473Z"
   },
   {
    "duration": 31,
    "start_time": "2022-08-08T16:54:54.538Z"
   },
   {
    "duration": 9,
    "start_time": "2022-08-08T16:54:55.545Z"
   },
   {
    "duration": 14,
    "start_time": "2022-08-08T16:54:57.465Z"
   },
   {
    "duration": 4,
    "start_time": "2022-08-08T16:54:58.469Z"
   },
   {
    "duration": 5,
    "start_time": "2022-08-08T16:54:58.785Z"
   },
   {
    "duration": 13,
    "start_time": "2022-08-08T16:54:59.162Z"
   },
   {
    "duration": 144,
    "start_time": "2022-08-08T16:54:59.969Z"
   },
   {
    "duration": 17,
    "start_time": "2022-08-08T16:55:01.180Z"
   },
   {
    "duration": 8,
    "start_time": "2022-08-08T16:55:01.907Z"
   },
   {
    "duration": 4,
    "start_time": "2022-08-08T16:55:02.484Z"
   },
   {
    "duration": 9,
    "start_time": "2022-08-08T16:55:03.042Z"
   },
   {
    "duration": 62,
    "start_time": "2022-08-08T16:55:04.140Z"
   },
   {
    "duration": 12,
    "start_time": "2022-08-08T16:55:04.653Z"
   },
   {
    "duration": 18,
    "start_time": "2022-08-08T16:55:05.914Z"
   },
   {
    "duration": 48,
    "start_time": "2022-08-08T16:55:06.539Z"
   },
   {
    "duration": 86,
    "start_time": "2022-08-08T16:55:09.839Z"
   },
   {
    "duration": 270,
    "start_time": "2022-08-08T16:55:10.533Z"
   },
   {
    "duration": 313,
    "start_time": "2022-08-08T16:55:11.101Z"
   },
   {
    "duration": 316,
    "start_time": "2022-08-08T16:55:13.105Z"
   },
   {
    "duration": 24,
    "start_time": "2022-08-08T16:55:16.689Z"
   },
   {
    "duration": 2,
    "start_time": "2022-08-08T16:55:17.836Z"
   },
   {
    "duration": 6,
    "start_time": "2022-08-08T16:55:18.311Z"
   },
   {
    "duration": 6,
    "start_time": "2022-08-08T16:55:19.019Z"
   },
   {
    "duration": 7,
    "start_time": "2022-08-08T16:55:19.793Z"
   },
   {
    "duration": 14,
    "start_time": "2022-08-08T16:55:21.915Z"
   },
   {
    "duration": 7,
    "start_time": "2022-08-08T16:55:22.798Z"
   },
   {
    "duration": 8,
    "start_time": "2022-08-08T16:55:24.075Z"
   },
   {
    "duration": 14,
    "start_time": "2022-08-08T16:55:27.324Z"
   },
   {
    "duration": 16,
    "start_time": "2022-08-08T16:55:27.785Z"
   },
   {
    "duration": 34,
    "start_time": "2022-08-08T16:55:28.169Z"
   },
   {
    "duration": 12,
    "start_time": "2022-08-08T16:55:29.234Z"
   },
   {
    "duration": 104,
    "start_time": "2022-08-08T16:55:29.781Z"
   },
   {
    "duration": 275,
    "start_time": "2022-08-08T16:55:30.312Z"
   },
   {
    "duration": 303,
    "start_time": "2022-08-08T16:55:30.589Z"
   },
   {
    "duration": 323,
    "start_time": "2022-08-08T16:55:30.893Z"
   },
   {
    "duration": 204,
    "start_time": "2022-08-08T16:55:31.509Z"
   },
   {
    "duration": 9,
    "start_time": "2022-08-08T16:55:32.001Z"
   },
   {
    "duration": 17,
    "start_time": "2022-08-08T16:55:32.251Z"
   },
   {
    "duration": 4,
    "start_time": "2022-08-08T16:55:32.486Z"
   },
   {
    "duration": 56,
    "start_time": "2022-08-08T16:55:32.733Z"
   },
   {
    "duration": 14,
    "start_time": "2022-08-08T16:55:32.991Z"
   },
   {
    "duration": 15,
    "start_time": "2022-08-08T16:55:33.236Z"
   },
   {
    "duration": 21,
    "start_time": "2022-08-08T16:55:33.472Z"
   },
   {
    "duration": 24,
    "start_time": "2022-08-08T16:55:33.719Z"
   },
   {
    "duration": 9,
    "start_time": "2022-08-08T16:55:33.932Z"
   },
   {
    "duration": 11,
    "start_time": "2022-08-08T16:55:34.169Z"
   },
   {
    "duration": 716,
    "start_time": "2022-08-08T16:55:34.379Z"
   },
   {
    "duration": 13,
    "start_time": "2022-08-08T16:55:35.097Z"
   },
   {
    "duration": 33,
    "start_time": "2022-08-08T16:55:35.851Z"
   },
   {
    "duration": 9,
    "start_time": "2022-08-08T16:55:36.213Z"
   },
   {
    "duration": 5,
    "start_time": "2022-08-08T16:55:40.564Z"
   },
   {
    "duration": 16,
    "start_time": "2022-08-08T16:55:40.820Z"
   },
   {
    "duration": 14,
    "start_time": "2022-08-08T16:55:41.118Z"
   },
   {
    "duration": 12,
    "start_time": "2022-08-08T16:55:41.418Z"
   },
   {
    "duration": 7,
    "start_time": "2022-08-08T17:08:55.504Z"
   },
   {
    "duration": 33,
    "start_time": "2022-08-08T17:09:38.009Z"
   },
   {
    "duration": 36,
    "start_time": "2022-08-08T17:09:50.541Z"
   },
   {
    "duration": 11,
    "start_time": "2022-08-08T17:24:38.495Z"
   },
   {
    "duration": 4,
    "start_time": "2022-08-08T17:25:07.484Z"
   },
   {
    "duration": 5,
    "start_time": "2022-08-08T17:26:04.822Z"
   },
   {
    "duration": 7,
    "start_time": "2022-08-08T17:26:38.688Z"
   },
   {
    "duration": 3,
    "start_time": "2022-08-08T17:27:46.261Z"
   },
   {
    "duration": 6,
    "start_time": "2022-08-08T17:30:24.302Z"
   },
   {
    "duration": 7,
    "start_time": "2022-08-08T17:31:09.825Z"
   },
   {
    "duration": 7,
    "start_time": "2022-08-08T17:34:40.646Z"
   },
   {
    "duration": 8,
    "start_time": "2022-08-08T17:34:52.329Z"
   },
   {
    "duration": 8,
    "start_time": "2022-08-08T17:36:15.460Z"
   },
   {
    "duration": 97,
    "start_time": "2022-08-08T17:40:47.123Z"
   },
   {
    "duration": 9,
    "start_time": "2022-08-08T17:40:53.887Z"
   },
   {
    "duration": 6,
    "start_time": "2022-08-08T17:40:54.845Z"
   },
   {
    "duration": 7,
    "start_time": "2022-08-08T17:41:34.258Z"
   },
   {
    "duration": 5,
    "start_time": "2022-08-08T17:41:43.893Z"
   },
   {
    "duration": 12,
    "start_time": "2022-08-08T17:48:42.257Z"
   },
   {
    "duration": 2,
    "start_time": "2022-08-08T17:49:23.513Z"
   },
   {
    "duration": 5,
    "start_time": "2022-08-08T17:49:31.486Z"
   },
   {
    "duration": 4,
    "start_time": "2022-08-08T17:49:33.794Z"
   },
   {
    "duration": 5,
    "start_time": "2022-08-08T17:50:45.935Z"
   },
   {
    "duration": 5,
    "start_time": "2022-08-08T17:52:31.068Z"
   },
   {
    "duration": 8,
    "start_time": "2022-08-08T17:52:40.134Z"
   },
   {
    "duration": 4,
    "start_time": "2022-08-08T17:52:40.459Z"
   },
   {
    "duration": 5,
    "start_time": "2022-08-08T17:54:46.943Z"
   },
   {
    "duration": 5,
    "start_time": "2022-08-08T17:54:47.279Z"
   },
   {
    "duration": 107,
    "start_time": "2022-08-08T18:29:36.015Z"
   },
   {
    "duration": 105,
    "start_time": "2022-08-08T18:30:02.533Z"
   },
   {
    "duration": 779,
    "start_time": "2022-08-08T18:30:34.766Z"
   },
   {
    "duration": 14,
    "start_time": "2022-08-08T18:34:18.024Z"
   },
   {
    "duration": 5,
    "start_time": "2022-08-08T18:34:33.777Z"
   },
   {
    "duration": 9,
    "start_time": "2022-08-08T18:35:20.605Z"
   },
   {
    "duration": 31,
    "start_time": "2022-08-08T18:36:40.531Z"
   },
   {
    "duration": 88,
    "start_time": "2022-08-08T18:37:17.948Z"
   },
   {
    "duration": 18,
    "start_time": "2022-08-08T18:39:57.804Z"
   },
   {
    "duration": 5,
    "start_time": "2022-08-08T18:41:13.600Z"
   },
   {
    "duration": 19,
    "start_time": "2022-08-08T18:43:06.144Z"
   },
   {
    "duration": 5,
    "start_time": "2022-08-08T18:43:07.382Z"
   },
   {
    "duration": 5,
    "start_time": "2022-08-08T18:44:22.099Z"
   },
   {
    "duration": 3,
    "start_time": "2022-08-08T18:50:55.656Z"
   },
   {
    "duration": 46,
    "start_time": "2022-08-08T18:53:13.472Z"
   },
   {
    "duration": 3,
    "start_time": "2022-08-08T21:00:32.516Z"
   },
   {
    "duration": 130,
    "start_time": "2022-08-08T21:00:32.815Z"
   },
   {
    "duration": 19,
    "start_time": "2022-08-08T21:00:33.195Z"
   },
   {
    "duration": 8,
    "start_time": "2022-08-08T21:00:33.634Z"
   },
   {
    "duration": 3,
    "start_time": "2022-08-08T21:00:34.140Z"
   },
   {
    "duration": 11,
    "start_time": "2022-08-08T21:00:34.695Z"
   },
   {
    "duration": 8,
    "start_time": "2022-08-08T21:00:35.145Z"
   },
   {
    "duration": 12,
    "start_time": "2022-08-08T21:00:35.584Z"
   },
   {
    "duration": 21,
    "start_time": "2022-08-08T21:00:37.726Z"
   },
   {
    "duration": 17,
    "start_time": "2022-08-08T21:00:41.731Z"
   },
   {
    "duration": 10,
    "start_time": "2022-08-08T21:00:42.377Z"
   },
   {
    "duration": 6,
    "start_time": "2022-08-08T21:00:42.701Z"
   },
   {
    "duration": 3,
    "start_time": "2022-08-08T21:00:43.393Z"
   },
   {
    "duration": 4,
    "start_time": "2022-08-08T21:00:43.703Z"
   },
   {
    "duration": 5,
    "start_time": "2022-08-08T21:00:43.978Z"
   },
   {
    "duration": 113,
    "start_time": "2022-08-08T21:00:44.268Z"
   },
   {
    "duration": 16,
    "start_time": "2022-08-08T21:17:12.788Z"
   },
   {
    "duration": 9,
    "start_time": "2022-08-08T21:17:13.404Z"
   },
   {
    "duration": 4,
    "start_time": "2022-08-08T21:17:13.863Z"
   },
   {
    "duration": 8,
    "start_time": "2022-08-08T21:17:14.305Z"
   },
   {
    "duration": 52,
    "start_time": "2022-08-08T21:17:15.154Z"
   },
   {
    "duration": 9,
    "start_time": "2022-08-08T21:17:15.493Z"
   },
   {
    "duration": 18,
    "start_time": "2022-08-08T21:17:16.106Z"
   },
   {
    "duration": 42,
    "start_time": "2022-08-08T21:17:16.413Z"
   },
   {
    "duration": 103,
    "start_time": "2022-08-08T21:17:17.978Z"
   },
   {
    "duration": 239,
    "start_time": "2022-08-08T21:17:18.170Z"
   },
   {
    "duration": 329,
    "start_time": "2022-08-08T21:17:18.411Z"
   },
   {
    "duration": 370,
    "start_time": "2022-08-08T21:17:26.519Z"
   },
   {
    "duration": 18,
    "start_time": "2022-08-08T21:17:27.581Z"
   },
   {
    "duration": 2,
    "start_time": "2022-08-08T21:17:27.987Z"
   },
   {
    "duration": 7,
    "start_time": "2022-08-08T21:17:28.159Z"
   },
   {
    "duration": 4,
    "start_time": "2022-08-08T21:17:28.329Z"
   },
   {
    "duration": 8,
    "start_time": "2022-08-08T21:17:28.513Z"
   },
   {
    "duration": 13,
    "start_time": "2022-08-08T21:17:29.082Z"
   },
   {
    "duration": 6,
    "start_time": "2022-08-08T21:17:29.268Z"
   },
   {
    "duration": 8,
    "start_time": "2022-08-08T21:17:29.453Z"
   },
   {
    "duration": 9,
    "start_time": "2022-08-08T21:17:29.639Z"
   },
   {
    "duration": 13,
    "start_time": "2022-08-08T21:17:29.811Z"
   },
   {
    "duration": 27,
    "start_time": "2022-08-08T21:17:30.022Z"
   },
   {
    "duration": 12,
    "start_time": "2022-08-08T21:17:30.934Z"
   },
   {
    "duration": 230,
    "start_time": "2022-08-08T21:17:31.539Z"
   },
   {
    "duration": 236,
    "start_time": "2022-08-08T21:17:32.754Z"
   },
   {
    "duration": 328,
    "start_time": "2022-08-08T21:17:33.318Z"
   },
   {
    "duration": 320,
    "start_time": "2022-08-08T21:17:33.936Z"
   },
   {
    "duration": 172,
    "start_time": "2022-08-08T21:17:36.092Z"
   },
   {
    "duration": 179,
    "start_time": "2022-08-08T21:17:56.393Z"
   },
   {
    "duration": 10,
    "start_time": "2022-08-08T21:17:58.687Z"
   },
   {
    "duration": 9,
    "start_time": "2022-08-08T21:18:04.832Z"
   },
   {
    "duration": 10,
    "start_time": "2022-08-08T21:18:05.191Z"
   },
   {
    "duration": 5,
    "start_time": "2022-08-08T21:18:05.837Z"
   },
   {
    "duration": 134,
    "start_time": "2022-08-08T21:18:06.328Z"
   },
   {
    "duration": 11,
    "start_time": "2022-08-08T21:18:06.864Z"
   },
   {
    "duration": 15,
    "start_time": "2022-08-08T21:18:07.498Z"
   },
   {
    "duration": 18,
    "start_time": "2022-08-08T21:18:08.422Z"
   },
   {
    "duration": 23,
    "start_time": "2022-08-08T21:18:08.915Z"
   },
   {
    "duration": 8,
    "start_time": "2022-08-08T21:18:09.310Z"
   },
   {
    "duration": 10,
    "start_time": "2022-08-08T21:18:09.687Z"
   },
   {
    "duration": 766,
    "start_time": "2022-08-08T21:18:10.248Z"
   },
   {
    "duration": 12,
    "start_time": "2022-08-08T21:18:11.152Z"
   },
   {
    "duration": 28,
    "start_time": "2022-08-08T21:18:12.728Z"
   },
   {
    "duration": 9,
    "start_time": "2022-08-08T21:18:13.339Z"
   },
   {
    "duration": 4,
    "start_time": "2022-08-08T21:18:19.787Z"
   },
   {
    "duration": 15,
    "start_time": "2022-08-08T21:18:20.114Z"
   },
   {
    "duration": 15,
    "start_time": "2022-08-08T21:18:20.372Z"
   },
   {
    "duration": 11,
    "start_time": "2022-08-08T21:18:20.642Z"
   },
   {
    "duration": 31,
    "start_time": "2022-08-08T21:31:30.351Z"
   },
   {
    "duration": 14,
    "start_time": "2022-08-08T21:31:55.202Z"
   },
   {
    "duration": 16,
    "start_time": "2022-08-08T21:32:15.674Z"
   },
   {
    "duration": 15,
    "start_time": "2022-08-08T21:32:44.679Z"
   },
   {
    "duration": 13,
    "start_time": "2022-08-08T21:34:12.735Z"
   },
   {
    "duration": 13,
    "start_time": "2022-08-08T21:34:48.255Z"
   },
   {
    "duration": 6,
    "start_time": "2022-08-08T21:35:04.811Z"
   },
   {
    "duration": 13,
    "start_time": "2022-08-08T21:43:30.390Z"
   },
   {
    "duration": 12,
    "start_time": "2022-08-08T21:52:42.624Z"
   },
   {
    "duration": 145,
    "start_time": "2022-08-08T21:56:21.177Z"
   },
   {
    "duration": 73,
    "start_time": "2022-08-08T22:00:07.719Z"
   },
   {
    "duration": 9,
    "start_time": "2022-08-08T22:40:19.885Z"
   },
   {
    "duration": 239,
    "start_time": "2022-08-08T22:41:04.522Z"
   },
   {
    "duration": 7,
    "start_time": "2022-08-08T22:41:21.942Z"
   },
   {
    "duration": 8,
    "start_time": "2022-08-08T22:41:51.854Z"
   },
   {
    "duration": 8,
    "start_time": "2022-08-08T22:42:14.755Z"
   },
   {
    "duration": 237,
    "start_time": "2022-08-08T22:42:19.368Z"
   },
   {
    "duration": 258,
    "start_time": "2022-08-08T22:42:42.191Z"
   },
   {
    "duration": 234,
    "start_time": "2022-08-08T22:42:50.704Z"
   },
   {
    "duration": 109,
    "start_time": "2022-08-08T23:01:34.129Z"
   },
   {
    "duration": 262,
    "start_time": "2022-08-08T23:15:09.985Z"
   },
   {
    "duration": 1261,
    "start_time": "2022-08-09T21:05:37.335Z"
   },
   {
    "duration": 492,
    "start_time": "2022-08-09T21:05:38.598Z"
   },
   {
    "duration": 19,
    "start_time": "2022-08-09T21:05:39.092Z"
   },
   {
    "duration": 11,
    "start_time": "2022-08-09T21:05:39.113Z"
   },
   {
    "duration": 3,
    "start_time": "2022-08-09T21:05:39.126Z"
   },
   {
    "duration": 16,
    "start_time": "2022-08-09T21:05:39.131Z"
   },
   {
    "duration": 7,
    "start_time": "2022-08-09T21:05:39.150Z"
   },
   {
    "duration": 14,
    "start_time": "2022-08-09T21:05:39.186Z"
   },
   {
    "duration": 26,
    "start_time": "2022-08-09T21:05:39.202Z"
   },
   {
    "duration": 19,
    "start_time": "2022-08-09T21:05:39.230Z"
   },
   {
    "duration": 12,
    "start_time": "2022-08-09T21:05:39.251Z"
   },
   {
    "duration": 30,
    "start_time": "2022-08-09T21:05:39.265Z"
   },
   {
    "duration": 11,
    "start_time": "2022-08-09T21:05:39.296Z"
   },
   {
    "duration": 8,
    "start_time": "2022-08-09T21:05:39.309Z"
   },
   {
    "duration": 7,
    "start_time": "2022-08-09T21:05:39.319Z"
   },
   {
    "duration": 145,
    "start_time": "2022-08-09T21:05:39.328Z"
   },
   {
    "duration": 26,
    "start_time": "2022-08-09T21:05:39.474Z"
   },
   {
    "duration": 8,
    "start_time": "2022-08-09T21:05:39.502Z"
   },
   {
    "duration": 9,
    "start_time": "2022-08-09T21:05:39.512Z"
   },
   {
    "duration": 8,
    "start_time": "2022-08-09T21:05:39.523Z"
   },
   {
    "duration": 78,
    "start_time": "2022-08-09T21:05:39.533Z"
   },
   {
    "duration": 10,
    "start_time": "2022-08-09T21:05:39.612Z"
   },
   {
    "duration": 24,
    "start_time": "2022-08-09T21:05:39.623Z"
   },
   {
    "duration": 67,
    "start_time": "2022-08-09T21:05:39.648Z"
   },
   {
    "duration": 77,
    "start_time": "2022-08-09T21:05:39.717Z"
   },
   {
    "duration": 0,
    "start_time": "2022-08-09T21:05:39.798Z"
   },
   {
    "duration": 0,
    "start_time": "2022-08-09T21:05:39.799Z"
   },
   {
    "duration": 0,
    "start_time": "2022-08-09T21:05:39.801Z"
   },
   {
    "duration": 0,
    "start_time": "2022-08-09T21:05:39.802Z"
   },
   {
    "duration": 0,
    "start_time": "2022-08-09T21:05:39.802Z"
   },
   {
    "duration": 0,
    "start_time": "2022-08-09T21:05:39.803Z"
   },
   {
    "duration": 0,
    "start_time": "2022-08-09T21:05:39.804Z"
   },
   {
    "duration": 0,
    "start_time": "2022-08-09T21:05:39.805Z"
   },
   {
    "duration": 0,
    "start_time": "2022-08-09T21:05:39.806Z"
   },
   {
    "duration": 0,
    "start_time": "2022-08-09T21:05:39.806Z"
   },
   {
    "duration": 0,
    "start_time": "2022-08-09T21:05:39.807Z"
   },
   {
    "duration": 0,
    "start_time": "2022-08-09T21:05:39.808Z"
   },
   {
    "duration": 0,
    "start_time": "2022-08-09T21:05:39.809Z"
   },
   {
    "duration": 0,
    "start_time": "2022-08-09T21:05:39.812Z"
   },
   {
    "duration": 0,
    "start_time": "2022-08-09T21:05:39.813Z"
   },
   {
    "duration": 0,
    "start_time": "2022-08-09T21:05:39.814Z"
   },
   {
    "duration": 0,
    "start_time": "2022-08-09T21:05:39.815Z"
   },
   {
    "duration": 0,
    "start_time": "2022-08-09T21:05:39.816Z"
   },
   {
    "duration": 0,
    "start_time": "2022-08-09T21:05:39.817Z"
   },
   {
    "duration": 0,
    "start_time": "2022-08-09T21:05:39.818Z"
   },
   {
    "duration": 0,
    "start_time": "2022-08-09T21:05:39.818Z"
   },
   {
    "duration": 0,
    "start_time": "2022-08-09T21:05:39.819Z"
   },
   {
    "duration": 0,
    "start_time": "2022-08-09T21:05:39.820Z"
   },
   {
    "duration": 0,
    "start_time": "2022-08-09T21:05:39.821Z"
   },
   {
    "duration": 0,
    "start_time": "2022-08-09T21:05:39.822Z"
   },
   {
    "duration": 0,
    "start_time": "2022-08-09T21:05:39.823Z"
   },
   {
    "duration": 0,
    "start_time": "2022-08-09T21:05:39.824Z"
   },
   {
    "duration": 0,
    "start_time": "2022-08-09T21:05:39.826Z"
   },
   {
    "duration": 0,
    "start_time": "2022-08-09T21:05:39.828Z"
   },
   {
    "duration": 0,
    "start_time": "2022-08-09T21:05:39.829Z"
   },
   {
    "duration": 0,
    "start_time": "2022-08-09T21:05:39.830Z"
   },
   {
    "duration": 0,
    "start_time": "2022-08-09T21:05:39.832Z"
   },
   {
    "duration": 0,
    "start_time": "2022-08-09T21:05:39.833Z"
   },
   {
    "duration": 0,
    "start_time": "2022-08-09T21:05:39.834Z"
   },
   {
    "duration": 0,
    "start_time": "2022-08-09T21:05:39.836Z"
   },
   {
    "duration": 0,
    "start_time": "2022-08-09T21:05:39.887Z"
   },
   {
    "duration": 0,
    "start_time": "2022-08-09T21:05:39.888Z"
   },
   {
    "duration": 0,
    "start_time": "2022-08-09T21:05:39.889Z"
   },
   {
    "duration": 0,
    "start_time": "2022-08-09T21:05:39.891Z"
   },
   {
    "duration": 0,
    "start_time": "2022-08-09T21:05:39.892Z"
   },
   {
    "duration": 0,
    "start_time": "2022-08-09T21:05:39.893Z"
   },
   {
    "duration": 0,
    "start_time": "2022-08-09T21:05:39.895Z"
   },
   {
    "duration": 0,
    "start_time": "2022-08-09T21:05:39.896Z"
   },
   {
    "duration": 0,
    "start_time": "2022-08-09T21:05:39.897Z"
   },
   {
    "duration": 0,
    "start_time": "2022-08-09T21:05:39.899Z"
   },
   {
    "duration": 0,
    "start_time": "2022-08-09T21:05:39.900Z"
   },
   {
    "duration": 0,
    "start_time": "2022-08-09T21:05:39.901Z"
   },
   {
    "duration": 287,
    "start_time": "2022-08-09T21:06:08.368Z"
   },
   {
    "duration": 331,
    "start_time": "2022-08-09T21:06:08.657Z"
   },
   {
    "duration": 349,
    "start_time": "2022-08-09T21:06:08.990Z"
   },
   {
    "duration": 23,
    "start_time": "2022-08-09T21:06:09.341Z"
   },
   {
    "duration": 4,
    "start_time": "2022-08-09T21:06:09.365Z"
   },
   {
    "duration": 25,
    "start_time": "2022-08-09T21:06:09.371Z"
   },
   {
    "duration": 5,
    "start_time": "2022-08-09T21:06:09.398Z"
   },
   {
    "duration": 12,
    "start_time": "2022-08-09T21:06:09.404Z"
   },
   {
    "duration": 23,
    "start_time": "2022-08-09T21:06:09.417Z"
   },
   {
    "duration": 7,
    "start_time": "2022-08-09T21:06:09.443Z"
   },
   {
    "duration": 14,
    "start_time": "2022-08-09T21:06:09.452Z"
   },
   {
    "duration": 25,
    "start_time": "2022-08-09T21:06:09.467Z"
   },
   {
    "duration": 15,
    "start_time": "2022-08-09T21:06:09.493Z"
   },
   {
    "duration": 30,
    "start_time": "2022-08-09T21:06:09.509Z"
   },
   {
    "duration": 13,
    "start_time": "2022-08-09T21:06:09.541Z"
   },
   {
    "duration": 158,
    "start_time": "2022-08-09T21:06:09.555Z"
   },
   {
    "duration": 276,
    "start_time": "2022-08-09T21:06:09.714Z"
   },
   {
    "duration": 337,
    "start_time": "2022-08-09T21:06:09.992Z"
   },
   {
    "duration": 336,
    "start_time": "2022-08-09T21:06:10.331Z"
   },
   {
    "duration": 209,
    "start_time": "2022-08-09T21:06:10.669Z"
   },
   {
    "duration": 11,
    "start_time": "2022-08-09T21:06:10.880Z"
   },
   {
    "duration": 16,
    "start_time": "2022-08-09T21:06:10.892Z"
   },
   {
    "duration": 7,
    "start_time": "2022-08-09T21:06:10.910Z"
   },
   {
    "duration": 68,
    "start_time": "2022-08-09T21:06:10.919Z"
   },
   {
    "duration": 12,
    "start_time": "2022-08-09T21:06:10.988Z"
   },
   {
    "duration": 18,
    "start_time": "2022-08-09T21:06:11.002Z"
   },
   {
    "duration": 24,
    "start_time": "2022-08-09T21:06:11.021Z"
   },
   {
    "duration": 9,
    "start_time": "2022-08-09T21:06:11.049Z"
   },
   {
    "duration": 34,
    "start_time": "2022-08-09T21:06:11.060Z"
   },
   {
    "duration": 777,
    "start_time": "2022-08-09T21:06:11.096Z"
   },
   {
    "duration": 20,
    "start_time": "2022-08-09T21:06:11.874Z"
   },
   {
    "duration": 33,
    "start_time": "2022-08-09T21:06:11.896Z"
   },
   {
    "duration": 7,
    "start_time": "2022-08-09T21:06:11.931Z"
   },
   {
    "duration": 6,
    "start_time": "2022-08-09T21:06:11.940Z"
   },
   {
    "duration": 41,
    "start_time": "2022-08-09T21:06:11.948Z"
   },
   {
    "duration": 16,
    "start_time": "2022-08-09T21:06:11.991Z"
   },
   {
    "duration": 14,
    "start_time": "2022-08-09T21:06:12.009Z"
   },
   {
    "duration": 14,
    "start_time": "2022-08-09T21:06:12.025Z"
   },
   {
    "duration": 49,
    "start_time": "2022-08-09T21:06:12.041Z"
   },
   {
    "duration": 32,
    "start_time": "2022-08-09T21:06:12.093Z"
   },
   {
    "duration": 9,
    "start_time": "2022-08-09T21:06:12.127Z"
   },
   {
    "duration": 7,
    "start_time": "2022-08-09T21:06:12.137Z"
   },
   {
    "duration": 5,
    "start_time": "2022-08-09T21:06:12.146Z"
   },
   {
    "duration": 12,
    "start_time": "2022-08-09T21:06:12.152Z"
   },
   {
    "duration": 21,
    "start_time": "2022-08-09T21:06:12.188Z"
   },
   {
    "duration": 7,
    "start_time": "2022-08-09T21:06:12.211Z"
   },
   {
    "duration": 7,
    "start_time": "2022-08-09T21:06:12.220Z"
   },
   {
    "duration": 87,
    "start_time": "2022-08-09T21:34:10.822Z"
   },
   {
    "duration": 8995,
    "start_time": "2022-08-10T19:02:36.202Z"
   },
   {
    "duration": 237,
    "start_time": "2022-08-10T19:02:45.199Z"
   },
   {
    "duration": 15,
    "start_time": "2022-08-10T19:02:45.438Z"
   },
   {
    "duration": 10,
    "start_time": "2022-08-10T19:02:45.454Z"
   },
   {
    "duration": 3,
    "start_time": "2022-08-10T19:02:45.465Z"
   },
   {
    "duration": 14,
    "start_time": "2022-08-10T19:02:45.469Z"
   },
   {
    "duration": 7,
    "start_time": "2022-08-10T19:02:45.485Z"
   },
   {
    "duration": 16,
    "start_time": "2022-08-10T19:02:45.493Z"
   },
   {
    "duration": 36,
    "start_time": "2022-08-10T19:02:49.603Z"
   },
   {
    "duration": 14,
    "start_time": "2022-08-10T19:13:48.689Z"
   },
   {
    "duration": 8,
    "start_time": "2022-08-10T19:14:01.733Z"
   },
   {
    "duration": 18,
    "start_time": "2022-08-10T19:15:46.230Z"
   },
   {
    "duration": 8,
    "start_time": "2022-08-10T19:15:46.620Z"
   },
   {
    "duration": 26,
    "start_time": "2022-08-10T19:15:49.617Z"
   },
   {
    "duration": 14,
    "start_time": "2022-08-10T19:15:50.802Z"
   },
   {
    "duration": 7,
    "start_time": "2022-08-10T19:15:51.390Z"
   },
   {
    "duration": 3,
    "start_time": "2022-08-10T19:15:52.557Z"
   },
   {
    "duration": 6,
    "start_time": "2022-08-10T19:15:53.131Z"
   },
   {
    "duration": 6,
    "start_time": "2022-08-10T19:15:53.442Z"
   },
   {
    "duration": 130,
    "start_time": "2022-08-10T19:15:54.355Z"
   },
   {
    "duration": 17,
    "start_time": "2022-08-10T19:15:55.748Z"
   },
   {
    "duration": 15,
    "start_time": "2022-08-10T19:15:56.698Z"
   },
   {
    "duration": 6,
    "start_time": "2022-08-10T19:15:57.992Z"
   },
   {
    "duration": 3,
    "start_time": "2022-08-10T19:20:55.674Z"
   },
   {
    "duration": 8,
    "start_time": "2022-08-10T19:21:12.737Z"
   },
   {
    "duration": 12,
    "start_time": "2022-08-10T19:22:05.759Z"
   },
   {
    "duration": 55,
    "start_time": "2022-08-10T19:22:07.888Z"
   },
   {
    "duration": 9,
    "start_time": "2022-08-10T19:22:08.485Z"
   },
   {
    "duration": 19,
    "start_time": "2022-08-10T19:22:11.237Z"
   },
   {
    "duration": 46,
    "start_time": "2022-08-10T19:22:11.411Z"
   },
   {
    "duration": 285,
    "start_time": "2022-08-10T19:22:15.486Z"
   },
   {
    "duration": 348,
    "start_time": "2022-08-10T19:22:16.344Z"
   },
   {
    "duration": 382,
    "start_time": "2022-08-10T19:22:19.852Z"
   },
   {
    "duration": 24,
    "start_time": "2022-08-10T19:22:22.045Z"
   },
   {
    "duration": 3,
    "start_time": "2022-08-10T19:22:22.751Z"
   },
   {
    "duration": 4,
    "start_time": "2022-08-10T19:22:23.182Z"
   },
   {
    "duration": 4,
    "start_time": "2022-08-10T19:22:24.550Z"
   },
   {
    "duration": 5,
    "start_time": "2022-08-10T19:22:25.854Z"
   },
   {
    "duration": 18,
    "start_time": "2022-08-10T19:22:27.621Z"
   },
   {
    "duration": 5,
    "start_time": "2022-08-10T19:22:28.595Z"
   },
   {
    "duration": 13,
    "start_time": "2022-08-10T19:22:29.078Z"
   },
   {
    "duration": 13,
    "start_time": "2022-08-10T19:22:29.747Z"
   },
   {
    "duration": 9,
    "start_time": "2022-08-10T19:22:30.323Z"
   },
   {
    "duration": 122,
    "start_time": "2022-08-10T19:22:30.844Z"
   },
   {
    "duration": 47,
    "start_time": "2022-08-10T19:22:58.822Z"
   },
   {
    "duration": 30,
    "start_time": "2022-08-10T19:23:24.762Z"
   },
   {
    "duration": 3,
    "start_time": "2022-08-10T19:24:53.884Z"
   },
   {
    "duration": 121,
    "start_time": "2022-08-10T19:24:56.799Z"
   },
   {
    "duration": 17,
    "start_time": "2022-08-10T19:24:57.996Z"
   },
   {
    "duration": 8,
    "start_time": "2022-08-10T19:24:58.893Z"
   },
   {
    "duration": 3,
    "start_time": "2022-08-10T19:25:04.120Z"
   },
   {
    "duration": 12,
    "start_time": "2022-08-10T19:25:09.282Z"
   },
   {
    "duration": 9,
    "start_time": "2022-08-10T19:25:10.295Z"
   },
   {
    "duration": 11,
    "start_time": "2022-08-10T19:25:11.262Z"
   },
   {
    "duration": 3,
    "start_time": "2022-08-10T19:40:45.000Z"
   },
   {
    "duration": 3,
    "start_time": "2022-08-10T19:41:08.302Z"
   },
   {
    "duration": 4,
    "start_time": "2022-08-10T19:42:40.660Z"
   },
   {
    "duration": 122,
    "start_time": "2022-08-10T19:42:42.101Z"
   },
   {
    "duration": 24,
    "start_time": "2022-08-10T19:42:43.181Z"
   },
   {
    "duration": 11,
    "start_time": "2022-08-10T19:42:44.340Z"
   },
   {
    "duration": 4,
    "start_time": "2022-08-10T19:42:45.480Z"
   },
   {
    "duration": 13,
    "start_time": "2022-08-10T19:42:46.250Z"
   },
   {
    "duration": 7,
    "start_time": "2022-08-10T19:42:46.944Z"
   },
   {
    "duration": 13,
    "start_time": "2022-08-10T19:42:47.473Z"
   },
   {
    "duration": 23,
    "start_time": "2022-08-10T19:42:50.354Z"
   },
   {
    "duration": 16,
    "start_time": "2022-08-10T19:43:00.277Z"
   },
   {
    "duration": 12,
    "start_time": "2022-08-10T19:43:00.858Z"
   },
   {
    "duration": 19,
    "start_time": "2022-08-10T19:43:11.052Z"
   },
   {
    "duration": 10,
    "start_time": "2022-08-10T19:43:12.163Z"
   },
   {
    "duration": 8,
    "start_time": "2022-08-10T19:43:12.703Z"
   },
   {
    "duration": 4,
    "start_time": "2022-08-10T19:43:13.769Z"
   },
   {
    "duration": 6,
    "start_time": "2022-08-10T19:43:14.150Z"
   },
   {
    "duration": 6,
    "start_time": "2022-08-10T19:43:14.479Z"
   },
   {
    "duration": 130,
    "start_time": "2022-08-10T19:43:15.101Z"
   },
   {
    "duration": 22,
    "start_time": "2022-08-10T19:43:16.601Z"
   },
   {
    "duration": 8,
    "start_time": "2022-08-10T19:43:16.993Z"
   },
   {
    "duration": 3,
    "start_time": "2022-08-10T19:43:17.403Z"
   },
   {
    "duration": 9,
    "start_time": "2022-08-10T19:43:18.052Z"
   },
   {
    "duration": 11,
    "start_time": "2022-08-10T19:43:21.650Z"
   },
   {
    "duration": 9,
    "start_time": "2022-08-10T19:43:51.845Z"
   },
   {
    "duration": 178,
    "start_time": "2022-08-10T19:43:52.469Z"
   },
   {
    "duration": 9,
    "start_time": "2022-08-10T19:43:53.189Z"
   },
   {
    "duration": 20,
    "start_time": "2022-08-10T19:43:54.378Z"
   },
   {
    "duration": 42,
    "start_time": "2022-08-10T19:43:54.950Z"
   },
   {
    "duration": 214,
    "start_time": "2022-08-10T19:43:58.559Z"
   },
   {
    "duration": 16,
    "start_time": "2022-08-10T19:44:00.048Z"
   },
   {
    "duration": 33,
    "start_time": "2022-08-10T19:44:27.049Z"
   },
   {
    "duration": 6,
    "start_time": "2022-08-10T19:46:33.673Z"
   },
   {
    "duration": 9,
    "start_time": "2022-08-10T19:46:35.141Z"
   },
   {
    "duration": 9,
    "start_time": "2022-08-10T19:46:39.673Z"
   },
   {
    "duration": 60,
    "start_time": "2022-08-10T19:46:40.617Z"
   },
   {
    "duration": 9,
    "start_time": "2022-08-10T19:46:41.077Z"
   },
   {
    "duration": 18,
    "start_time": "2022-08-10T19:46:42.090Z"
   },
   {
    "duration": 48,
    "start_time": "2022-08-10T19:46:42.608Z"
   },
   {
    "duration": 215,
    "start_time": "2022-08-10T19:46:46.357Z"
   },
   {
    "duration": 19,
    "start_time": "2022-08-10T19:46:47.453Z"
   },
   {
    "duration": 311,
    "start_time": "2022-08-10T19:46:48.037Z"
   },
   {
    "duration": 343,
    "start_time": "2022-08-10T19:46:52.537Z"
   },
   {
    "duration": 17,
    "start_time": "2022-08-10T19:46:55.838Z"
   },
   {
    "duration": 15,
    "start_time": "2022-08-10T19:47:56.649Z"
   },
   {
    "duration": 8,
    "start_time": "2022-08-10T19:47:57.601Z"
   },
   {
    "duration": 320,
    "start_time": "2022-08-10T19:48:07.789Z"
   },
   {
    "duration": 7,
    "start_time": "2022-08-10T19:48:13.352Z"
   },
   {
    "duration": 6,
    "start_time": "2022-08-10T19:48:52.589Z"
   },
   {
    "duration": 14,
    "start_time": "2022-08-10T19:49:39.619Z"
   },
   {
    "duration": 10,
    "start_time": "2022-08-10T19:49:40.054Z"
   },
   {
    "duration": 4,
    "start_time": "2022-08-10T19:49:40.985Z"
   },
   {
    "duration": 13,
    "start_time": "2022-08-10T19:49:41.644Z"
   },
   {
    "duration": 8,
    "start_time": "2022-08-10T19:49:42.044Z"
   },
   {
    "duration": 3,
    "start_time": "2022-08-10T19:49:43.064Z"
   },
   {
    "duration": 5,
    "start_time": "2022-08-10T19:49:43.997Z"
   },
   {
    "duration": 6,
    "start_time": "2022-08-10T19:49:44.565Z"
   },
   {
    "duration": 125,
    "start_time": "2022-08-10T19:49:45.149Z"
   },
   {
    "duration": 24,
    "start_time": "2022-08-10T19:49:46.565Z"
   },
   {
    "duration": 9,
    "start_time": "2022-08-10T19:49:47.244Z"
   },
   {
    "duration": 5,
    "start_time": "2022-08-10T19:49:47.640Z"
   },
   {
    "duration": 9,
    "start_time": "2022-08-10T19:49:48.052Z"
   },
   {
    "duration": 9,
    "start_time": "2022-08-10T19:49:49.452Z"
   },
   {
    "duration": 125,
    "start_time": "2022-08-10T19:49:50.169Z"
   },
   {
    "duration": 9,
    "start_time": "2022-08-10T19:49:50.766Z"
   },
   {
    "duration": 18,
    "start_time": "2022-08-10T19:49:51.950Z"
   },
   {
    "duration": 44,
    "start_time": "2022-08-10T19:49:52.444Z"
   },
   {
    "duration": 210,
    "start_time": "2022-08-10T19:49:55.350Z"
   },
   {
    "duration": 20,
    "start_time": "2022-08-10T19:49:55.748Z"
   },
   {
    "duration": 371,
    "start_time": "2022-08-10T19:49:57.267Z"
   },
   {
    "duration": 362,
    "start_time": "2022-08-10T19:50:00.187Z"
   },
   {
    "duration": 9,
    "start_time": "2022-08-10T19:50:02.889Z"
   },
   {
    "duration": 14,
    "start_time": "2022-08-10T19:50:04.173Z"
   },
   {
    "duration": 10,
    "start_time": "2022-08-10T19:50:13.241Z"
   },
   {
    "duration": 3,
    "start_time": "2022-08-10T19:50:14.702Z"
   },
   {
    "duration": 8,
    "start_time": "2022-08-10T19:50:16.283Z"
   },
   {
    "duration": 6,
    "start_time": "2022-08-10T19:50:16.948Z"
   },
   {
    "duration": 7,
    "start_time": "2022-08-10T19:50:17.759Z"
   },
   {
    "duration": 23,
    "start_time": "2022-08-10T19:50:21.353Z"
   },
   {
    "duration": 11,
    "start_time": "2022-08-10T19:50:22.580Z"
   },
   {
    "duration": 8,
    "start_time": "2022-08-10T19:50:26.659Z"
   },
   {
    "duration": 10,
    "start_time": "2022-08-10T19:50:28.772Z"
   },
   {
    "duration": 16,
    "start_time": "2022-08-10T19:50:30.004Z"
   },
   {
    "duration": 27,
    "start_time": "2022-08-10T19:50:34.319Z"
   },
   {
    "duration": 13,
    "start_time": "2022-08-10T19:50:45.586Z"
   },
   {
    "duration": 132,
    "start_time": "2022-08-10T19:50:48.846Z"
   },
   {
    "duration": 231,
    "start_time": "2022-08-10T19:50:50.049Z"
   },
   {
    "duration": 320,
    "start_time": "2022-08-10T19:50:50.544Z"
   },
   {
    "duration": 348,
    "start_time": "2022-08-10T19:50:51.554Z"
   },
   {
    "duration": 117,
    "start_time": "2022-08-10T19:55:50.567Z"
   },
   {
    "duration": 40,
    "start_time": "2022-08-10T20:01:59.374Z"
   },
   {
    "duration": 24,
    "start_time": "2022-08-10T20:07:48.018Z"
   },
   {
    "duration": 14,
    "start_time": "2022-08-10T20:10:18.157Z"
   },
   {
    "duration": 541,
    "start_time": "2022-08-10T20:12:18.606Z"
   },
   {
    "duration": 8,
    "start_time": "2022-08-10T20:17:52.648Z"
   },
   {
    "duration": 5859,
    "start_time": "2022-08-10T20:18:07.432Z"
   },
   {
    "duration": 17,
    "start_time": "2022-08-10T20:18:46.610Z"
   },
   {
    "duration": 12,
    "start_time": "2022-08-10T20:19:31.590Z"
   },
   {
    "duration": 11,
    "start_time": "2022-08-10T20:19:46.506Z"
   },
   {
    "duration": 11,
    "start_time": "2022-08-10T20:20:14.310Z"
   },
   {
    "duration": 10,
    "start_time": "2022-08-10T20:20:19.867Z"
   },
   {
    "duration": 10,
    "start_time": "2022-08-10T20:20:26.253Z"
   },
   {
    "duration": 18,
    "start_time": "2022-08-10T20:21:49.646Z"
   },
   {
    "duration": 10,
    "start_time": "2022-08-10T20:21:56.568Z"
   },
   {
    "duration": 18,
    "start_time": "2022-08-10T20:21:59.629Z"
   },
   {
    "duration": 10,
    "start_time": "2022-08-10T20:22:06.877Z"
   },
   {
    "duration": 11,
    "start_time": "2022-08-10T20:22:24.053Z"
   },
   {
    "duration": 10,
    "start_time": "2022-08-10T20:23:18.326Z"
   },
   {
    "duration": 198,
    "start_time": "2022-08-10T20:23:20.755Z"
   },
   {
    "duration": 224,
    "start_time": "2022-08-10T20:25:37.523Z"
   },
   {
    "duration": 260,
    "start_time": "2022-08-10T20:27:59.393Z"
   },
   {
    "duration": 183,
    "start_time": "2022-08-10T20:28:58.538Z"
   },
   {
    "duration": 10,
    "start_time": "2022-08-10T20:29:06.369Z"
   },
   {
    "duration": 26,
    "start_time": "2022-08-10T20:29:27.893Z"
   },
   {
    "duration": 177,
    "start_time": "2022-08-10T20:30:03.772Z"
   },
   {
    "duration": 12,
    "start_time": "2022-08-10T20:30:37.626Z"
   },
   {
    "duration": 263,
    "start_time": "2022-08-10T20:32:08.017Z"
   },
   {
    "duration": 177,
    "start_time": "2022-08-10T20:32:25.098Z"
   },
   {
    "duration": 11,
    "start_time": "2022-08-10T20:32:29.017Z"
   },
   {
    "duration": 3,
    "start_time": "2022-08-10T20:32:38.768Z"
   },
   {
    "duration": 110,
    "start_time": "2022-08-10T20:32:39.178Z"
   },
   {
    "duration": 19,
    "start_time": "2022-08-10T20:32:39.829Z"
   },
   {
    "duration": 7,
    "start_time": "2022-08-10T20:32:40.550Z"
   },
   {
    "duration": 3,
    "start_time": "2022-08-10T20:32:41.253Z"
   },
   {
    "duration": 11,
    "start_time": "2022-08-10T20:32:42.008Z"
   },
   {
    "duration": 9,
    "start_time": "2022-08-10T20:32:42.430Z"
   },
   {
    "duration": 16,
    "start_time": "2022-08-10T20:32:42.800Z"
   },
   {
    "duration": 19,
    "start_time": "2022-08-10T20:32:43.583Z"
   },
   {
    "duration": 14,
    "start_time": "2022-08-10T20:32:44.026Z"
   },
   {
    "duration": 7,
    "start_time": "2022-08-10T20:32:44.181Z"
   },
   {
    "duration": 17,
    "start_time": "2022-08-10T20:32:44.480Z"
   },
   {
    "duration": 10,
    "start_time": "2022-08-10T20:32:44.811Z"
   },
   {
    "duration": 7,
    "start_time": "2022-08-10T20:32:44.972Z"
   },
   {
    "duration": 3,
    "start_time": "2022-08-10T20:32:45.301Z"
   },
   {
    "duration": 5,
    "start_time": "2022-08-10T20:32:45.466Z"
   },
   {
    "duration": 6,
    "start_time": "2022-08-10T20:32:45.629Z"
   },
   {
    "duration": 103,
    "start_time": "2022-08-10T20:32:45.784Z"
   },
   {
    "duration": 20,
    "start_time": "2022-08-10T20:32:46.508Z"
   },
   {
    "duration": 9,
    "start_time": "2022-08-10T20:32:46.673Z"
   },
   {
    "duration": 5,
    "start_time": "2022-08-10T20:32:47.019Z"
   },
   {
    "duration": 8,
    "start_time": "2022-08-10T20:32:47.226Z"
   },
   {
    "duration": 9,
    "start_time": "2022-08-10T20:32:49.029Z"
   },
   {
    "duration": 49,
    "start_time": "2022-08-10T20:32:50.634Z"
   },
   {
    "duration": 14,
    "start_time": "2022-08-10T20:32:51.279Z"
   },
   {
    "duration": 18,
    "start_time": "2022-08-10T20:32:52.028Z"
   },
   {
    "duration": 48,
    "start_time": "2022-08-10T20:32:52.337Z"
   },
   {
    "duration": 257,
    "start_time": "2022-08-10T20:32:54.303Z"
   },
   {
    "duration": 24,
    "start_time": "2022-08-10T20:32:54.561Z"
   },
   {
    "duration": 362,
    "start_time": "2022-08-10T20:32:54.631Z"
   },
   {
    "duration": 417,
    "start_time": "2022-08-10T20:32:55.471Z"
   },
   {
    "duration": 19,
    "start_time": "2022-08-10T20:32:56.751Z"
   },
   {
    "duration": 3,
    "start_time": "2022-08-10T20:32:57.299Z"
   },
   {
    "duration": 7,
    "start_time": "2022-08-10T20:32:57.594Z"
   },
   {
    "duration": 4,
    "start_time": "2022-08-10T20:32:57.881Z"
   },
   {
    "duration": 8,
    "start_time": "2022-08-10T20:32:58.427Z"
   },
   {
    "duration": 15,
    "start_time": "2022-08-10T20:32:59.351Z"
   },
   {
    "duration": 11,
    "start_time": "2022-08-10T20:32:59.527Z"
   },
   {
    "duration": 11,
    "start_time": "2022-08-10T20:32:59.685Z"
   },
   {
    "duration": 10,
    "start_time": "2022-08-10T20:33:00.262Z"
   },
   {
    "duration": 14,
    "start_time": "2022-08-10T20:33:00.641Z"
   },
   {
    "duration": 27,
    "start_time": "2022-08-10T20:33:01.148Z"
   },
   {
    "duration": 12,
    "start_time": "2022-08-10T20:33:03.327Z"
   },
   {
    "duration": 132,
    "start_time": "2022-08-10T20:33:04.359Z"
   },
   {
    "duration": 187,
    "start_time": "2022-08-10T20:33:05.229Z"
   },
   {
    "duration": 293,
    "start_time": "2022-08-10T20:33:05.580Z"
   },
   {
    "duration": 358,
    "start_time": "2022-08-10T20:33:06.042Z"
   },
   {
    "duration": 39,
    "start_time": "2022-08-10T20:33:12.375Z"
   },
   {
    "duration": 10,
    "start_time": "2022-08-10T20:33:17.685Z"
   },
   {
    "duration": 175,
    "start_time": "2022-08-10T20:33:44.479Z"
   },
   {
    "duration": 1264,
    "start_time": "2022-08-10T20:33:57.126Z"
   },
   {
    "duration": 10719,
    "start_time": "2022-08-10T20:35:06.925Z"
   },
   {
    "duration": 25,
    "start_time": "2022-08-10T20:36:53.022Z"
   },
   {
    "duration": 19,
    "start_time": "2022-08-10T20:37:04.166Z"
   },
   {
    "duration": 235,
    "start_time": "2022-08-10T20:37:28.288Z"
   },
   {
    "duration": 4,
    "start_time": "2022-08-10T20:42:33.629Z"
   },
   {
    "duration": 14,
    "start_time": "2022-08-10T20:42:49.028Z"
   },
   {
    "duration": 163,
    "start_time": "2022-08-10T20:43:35.781Z"
   },
   {
    "duration": 10,
    "start_time": "2022-08-10T20:43:50.130Z"
   },
   {
    "duration": 3,
    "start_time": "2022-08-10T20:43:53.485Z"
   },
   {
    "duration": 11,
    "start_time": "2022-08-10T20:43:54.337Z"
   },
   {
    "duration": 14,
    "start_time": "2022-08-10T20:43:58.741Z"
   },
   {
    "duration": 11,
    "start_time": "2022-08-10T20:44:09.525Z"
   },
   {
    "duration": 13,
    "start_time": "2022-08-10T20:46:53.272Z"
   },
   {
    "duration": 13,
    "start_time": "2022-08-10T20:47:20.989Z"
   },
   {
    "duration": 5,
    "start_time": "2022-08-10T20:47:26.454Z"
   },
   {
    "duration": 1312,
    "start_time": "2022-08-10T20:47:32.932Z"
   },
   {
    "duration": 18,
    "start_time": "2022-08-10T20:48:27.425Z"
   },
   {
    "duration": 1293,
    "start_time": "2022-08-10T20:51:58.068Z"
   },
   {
    "duration": 16,
    "start_time": "2022-08-10T20:52:08.783Z"
   },
   {
    "duration": 15,
    "start_time": "2022-08-10T20:52:26.975Z"
   },
   {
    "duration": 15,
    "start_time": "2022-08-10T20:52:38.551Z"
   },
   {
    "duration": 11,
    "start_time": "2022-08-10T20:53:43.200Z"
   },
   {
    "duration": 166,
    "start_time": "2022-08-10T20:58:35.427Z"
   },
   {
    "duration": 193,
    "start_time": "2022-08-10T20:58:45.564Z"
   },
   {
    "duration": 230,
    "start_time": "2022-08-10T20:58:52.567Z"
   },
   {
    "duration": 10,
    "start_time": "2022-08-10T21:09:29.235Z"
   },
   {
    "duration": 199,
    "start_time": "2022-08-10T21:09:58.734Z"
   },
   {
    "duration": 171,
    "start_time": "2022-08-10T21:10:27.834Z"
   },
   {
    "duration": 205,
    "start_time": "2022-08-10T21:11:19.893Z"
   },
   {
    "duration": 105,
    "start_time": "2022-08-10T21:15:45.397Z"
   },
   {
    "duration": 979,
    "start_time": "2022-08-10T21:15:52.948Z"
   },
   {
    "duration": 79,
    "start_time": "2022-08-10T21:18:24.785Z"
   },
   {
    "duration": 13,
    "start_time": "2022-08-10T21:18:33.138Z"
   },
   {
    "duration": 904,
    "start_time": "2022-08-10T21:19:20.060Z"
   },
   {
    "duration": 14682,
    "start_time": "2022-08-10T21:19:40.523Z"
   },
   {
    "duration": 1667,
    "start_time": "2022-08-10T21:21:43.900Z"
   },
   {
    "duration": 968,
    "start_time": "2022-08-10T21:24:10.551Z"
   },
   {
    "duration": 924,
    "start_time": "2022-08-10T21:28:22.758Z"
   },
   {
    "duration": 1447,
    "start_time": "2022-08-10T21:29:11.131Z"
   },
   {
    "duration": 3569,
    "start_time": "2022-08-10T21:29:23.711Z"
   },
   {
    "duration": 78,
    "start_time": "2022-08-10T21:29:47.066Z"
   },
   {
    "duration": 1252,
    "start_time": "2022-08-10T21:29:54.731Z"
   },
   {
    "duration": 9,
    "start_time": "2022-08-10T21:30:08.645Z"
   },
   {
    "duration": 2858,
    "start_time": "2022-08-10T21:30:25.995Z"
   },
   {
    "duration": 5494,
    "start_time": "2022-08-10T21:34:30.567Z"
   },
   {
    "duration": 180,
    "start_time": "2022-08-10T21:37:11.568Z"
   },
   {
    "duration": 159,
    "start_time": "2022-08-10T21:37:23.347Z"
   },
   {
    "duration": 183,
    "start_time": "2022-08-10T21:38:20.190Z"
   },
   {
    "duration": 164,
    "start_time": "2022-08-10T21:38:23.424Z"
   },
   {
    "duration": 80,
    "start_time": "2022-08-10T21:38:45.493Z"
   },
   {
    "duration": 252,
    "start_time": "2022-08-10T21:39:00.582Z"
   },
   {
    "duration": 117,
    "start_time": "2022-08-10T21:39:42.055Z"
   },
   {
    "duration": 199,
    "start_time": "2022-08-10T21:40:00.017Z"
   },
   {
    "duration": 203,
    "start_time": "2022-08-10T21:44:34.121Z"
   },
   {
    "duration": 13,
    "start_time": "2022-08-10T21:44:35.099Z"
   },
   {
    "duration": 9,
    "start_time": "2022-08-10T21:44:36.983Z"
   },
   {
    "duration": 5,
    "start_time": "2022-08-10T21:44:37.579Z"
   },
   {
    "duration": 47,
    "start_time": "2022-08-10T21:44:38.358Z"
   },
   {
    "duration": 12,
    "start_time": "2022-08-10T21:44:39.375Z"
   },
   {
    "duration": 18,
    "start_time": "2022-08-10T21:44:40.340Z"
   },
   {
    "duration": 26,
    "start_time": "2022-08-10T21:44:41.170Z"
   },
   {
    "duration": 9,
    "start_time": "2022-08-10T21:44:41.970Z"
   },
   {
    "duration": 11,
    "start_time": "2022-08-10T21:44:42.622Z"
   },
   {
    "duration": 769,
    "start_time": "2022-08-10T21:44:43.603Z"
   },
   {
    "duration": 13,
    "start_time": "2022-08-10T21:44:45.652Z"
   },
   {
    "duration": 746,
    "start_time": "2022-08-10T21:45:08.634Z"
   },
   {
    "duration": 12,
    "start_time": "2022-08-10T21:47:13.978Z"
   },
   {
    "duration": 29,
    "start_time": "2022-08-10T21:47:16.153Z"
   },
   {
    "duration": 8,
    "start_time": "2022-08-10T21:47:16.747Z"
   },
   {
    "duration": 20,
    "start_time": "2022-08-10T21:49:19.727Z"
   },
   {
    "duration": 190,
    "start_time": "2022-08-10T21:50:00.155Z"
   },
   {
    "duration": 193,
    "start_time": "2022-08-10T21:50:14.917Z"
   },
   {
    "duration": 239,
    "start_time": "2022-08-10T21:51:41.721Z"
   },
   {
    "duration": 179,
    "start_time": "2022-08-10T21:52:22.899Z"
   },
   {
    "duration": 194,
    "start_time": "2022-08-10T21:52:31.038Z"
   },
   {
    "duration": 172,
    "start_time": "2022-08-10T21:54:39.359Z"
   },
   {
    "duration": 196,
    "start_time": "2022-08-10T21:55:29.248Z"
   },
   {
    "duration": 191,
    "start_time": "2022-08-10T21:56:02.606Z"
   },
   {
    "duration": 247,
    "start_time": "2022-08-10T21:56:58.318Z"
   },
   {
    "duration": 165,
    "start_time": "2022-08-10T21:58:52.594Z"
   },
   {
    "duration": 196,
    "start_time": "2022-08-10T21:59:06.460Z"
   },
   {
    "duration": 181,
    "start_time": "2022-08-10T21:59:48.012Z"
   },
   {
    "duration": 163,
    "start_time": "2022-08-10T22:00:03.317Z"
   },
   {
    "duration": 8885,
    "start_time": "2022-08-10T22:08:18.748Z"
   },
   {
    "duration": 169,
    "start_time": "2022-08-10T22:09:16.692Z"
   },
   {
    "duration": 219,
    "start_time": "2022-08-10T22:09:26.865Z"
   },
   {
    "duration": 14,
    "start_time": "2022-08-10T22:11:02.142Z"
   },
   {
    "duration": 12,
    "start_time": "2022-08-10T22:11:11.792Z"
   },
   {
    "duration": 3,
    "start_time": "2022-08-10T22:11:25.088Z"
   },
   {
    "duration": 107,
    "start_time": "2022-08-10T22:11:25.223Z"
   },
   {
    "duration": 15,
    "start_time": "2022-08-10T22:11:25.357Z"
   },
   {
    "duration": 7,
    "start_time": "2022-08-10T22:11:25.486Z"
   },
   {
    "duration": 4,
    "start_time": "2022-08-10T22:11:25.619Z"
   },
   {
    "duration": 12,
    "start_time": "2022-08-10T22:11:25.777Z"
   },
   {
    "duration": 7,
    "start_time": "2022-08-10T22:11:25.914Z"
   },
   {
    "duration": 11,
    "start_time": "2022-08-10T22:11:25.985Z"
   },
   {
    "duration": 21,
    "start_time": "2022-08-10T22:11:26.503Z"
   },
   {
    "duration": 13,
    "start_time": "2022-08-10T22:11:26.869Z"
   },
   {
    "duration": 7,
    "start_time": "2022-08-10T22:11:26.966Z"
   },
   {
    "duration": 16,
    "start_time": "2022-08-10T22:11:27.237Z"
   },
   {
    "duration": 9,
    "start_time": "2022-08-10T22:11:27.499Z"
   },
   {
    "duration": 7,
    "start_time": "2022-08-10T22:11:27.629Z"
   },
   {
    "duration": 4,
    "start_time": "2022-08-10T22:11:27.892Z"
   },
   {
    "duration": 5,
    "start_time": "2022-08-10T22:11:28.026Z"
   },
   {
    "duration": 5,
    "start_time": "2022-08-10T22:11:28.165Z"
   },
   {
    "duration": 97,
    "start_time": "2022-08-10T22:11:28.313Z"
   },
   {
    "duration": 15,
    "start_time": "2022-08-10T22:11:28.749Z"
   },
   {
    "duration": 8,
    "start_time": "2022-08-10T22:11:28.881Z"
   },
   {
    "duration": 5,
    "start_time": "2022-08-10T22:11:29.120Z"
   },
   {
    "duration": 8,
    "start_time": "2022-08-10T22:11:29.272Z"
   },
   {
    "duration": 8,
    "start_time": "2022-08-10T22:11:29.726Z"
   },
   {
    "duration": 63,
    "start_time": "2022-08-10T22:11:30.022Z"
   },
   {
    "duration": 10,
    "start_time": "2022-08-10T22:11:30.169Z"
   },
   {
    "duration": 19,
    "start_time": "2022-08-10T22:11:30.474Z"
   },
   {
    "duration": 48,
    "start_time": "2022-08-10T22:11:30.613Z"
   },
   {
    "duration": 282,
    "start_time": "2022-08-10T22:11:31.943Z"
   },
   {
    "duration": 24,
    "start_time": "2022-08-10T22:11:32.226Z"
   },
   {
    "duration": 389,
    "start_time": "2022-08-10T22:11:32.252Z"
   },
   {
    "duration": 342,
    "start_time": "2022-08-10T22:11:32.668Z"
   },
   {
    "duration": 18,
    "start_time": "2022-08-10T22:11:33.606Z"
   },
   {
    "duration": 3,
    "start_time": "2022-08-10T22:11:33.998Z"
   },
   {
    "duration": 8,
    "start_time": "2022-08-10T22:11:34.187Z"
   },
   {
    "duration": 3,
    "start_time": "2022-08-10T22:11:34.367Z"
   },
   {
    "duration": 7,
    "start_time": "2022-08-10T22:11:34.523Z"
   },
   {
    "duration": 14,
    "start_time": "2022-08-10T22:11:35.014Z"
   },
   {
    "duration": 7,
    "start_time": "2022-08-10T22:11:35.195Z"
   },
   {
    "duration": 9,
    "start_time": "2022-08-10T22:11:35.368Z"
   },
   {
    "duration": 10,
    "start_time": "2022-08-10T22:11:35.528Z"
   },
   {
    "duration": 14,
    "start_time": "2022-08-10T22:11:35.707Z"
   },
   {
    "duration": 25,
    "start_time": "2022-08-10T22:11:35.919Z"
   },
   {
    "duration": 13,
    "start_time": "2022-08-10T22:11:37.828Z"
   },
   {
    "duration": 136,
    "start_time": "2022-08-10T22:11:38.617Z"
   },
   {
    "duration": 230,
    "start_time": "2022-08-10T22:11:39.535Z"
   },
   {
    "duration": 318,
    "start_time": "2022-08-10T22:11:39.830Z"
   },
   {
    "duration": 350,
    "start_time": "2022-08-10T22:11:40.150Z"
   },
   {
    "duration": 42,
    "start_time": "2022-08-10T22:11:45.919Z"
   },
   {
    "duration": 9,
    "start_time": "2022-08-10T22:11:47.506Z"
   },
   {
    "duration": 226,
    "start_time": "2022-08-10T22:11:49.554Z"
   },
   {
    "duration": 3,
    "start_time": "2022-08-10T22:11:54.727Z"
   },
   {
    "duration": 15,
    "start_time": "2022-08-10T22:11:58.866Z"
   },
   {
    "duration": 181,
    "start_time": "2022-08-10T22:12:02.696Z"
   },
   {
    "duration": 153,
    "start_time": "2022-08-10T22:12:12.421Z"
   },
   {
    "duration": 3,
    "start_time": "2022-08-10T22:12:51.269Z"
   },
   {
    "duration": 2,
    "start_time": "2022-08-10T22:13:03.501Z"
   },
   {
    "duration": 16,
    "start_time": "2022-08-10T22:13:57.072Z"
   },
   {
    "duration": 11,
    "start_time": "2022-08-10T22:17:58.497Z"
   },
   {
    "duration": 193,
    "start_time": "2022-08-10T22:18:56.886Z"
   },
   {
    "duration": 76,
    "start_time": "2022-08-10T22:19:23.926Z"
   },
   {
    "duration": 17,
    "start_time": "2022-08-10T22:19:40.742Z"
   },
   {
    "duration": 23,
    "start_time": "2022-08-10T22:20:59.350Z"
   },
   {
    "duration": 19,
    "start_time": "2022-08-10T22:21:26.902Z"
   },
   {
    "duration": 21,
    "start_time": "2022-08-10T22:22:11.676Z"
   },
   {
    "duration": 23,
    "start_time": "2022-08-10T22:22:24.807Z"
   },
   {
    "duration": 8,
    "start_time": "2022-08-10T22:23:57.201Z"
   },
   {
    "duration": 8,
    "start_time": "2022-08-10T22:24:02.755Z"
   },
   {
    "duration": 22,
    "start_time": "2022-08-10T22:24:46.310Z"
   },
   {
    "duration": 9,
    "start_time": "2022-08-10T22:24:49.512Z"
   },
   {
    "duration": 13,
    "start_time": "2022-08-10T22:26:31.594Z"
   },
   {
    "duration": 17,
    "start_time": "2022-08-10T22:28:13.256Z"
   },
   {
    "duration": 14,
    "start_time": "2022-08-10T22:29:54.946Z"
   },
   {
    "duration": 15,
    "start_time": "2022-08-10T22:30:38.137Z"
   },
   {
    "duration": 13,
    "start_time": "2022-08-10T22:31:12.817Z"
   },
   {
    "duration": 9,
    "start_time": "2022-08-10T22:31:21.784Z"
   },
   {
    "duration": 9,
    "start_time": "2022-08-10T22:31:48.797Z"
   },
   {
    "duration": 10,
    "start_time": "2022-08-10T22:32:06.440Z"
   },
   {
    "duration": 15,
    "start_time": "2022-08-10T22:32:37.074Z"
   },
   {
    "duration": 16,
    "start_time": "2022-08-10T22:33:07.032Z"
   },
   {
    "duration": 16,
    "start_time": "2022-08-10T22:33:49.933Z"
   },
   {
    "duration": 16,
    "start_time": "2022-08-10T22:36:07.004Z"
   },
   {
    "duration": 16,
    "start_time": "2022-08-10T22:36:22.409Z"
   },
   {
    "duration": 22,
    "start_time": "2022-08-10T22:37:54.776Z"
   },
   {
    "duration": 21,
    "start_time": "2022-08-10T22:38:13.786Z"
   },
   {
    "duration": 27,
    "start_time": "2022-08-10T22:42:30.065Z"
   },
   {
    "duration": 16,
    "start_time": "2022-08-10T22:43:55.844Z"
   },
   {
    "duration": 15,
    "start_time": "2022-08-10T22:45:05.865Z"
   },
   {
    "duration": 8,
    "start_time": "2022-08-10T22:45:18.695Z"
   },
   {
    "duration": 8,
    "start_time": "2022-08-10T22:47:38.582Z"
   },
   {
    "duration": 11,
    "start_time": "2022-08-10T22:49:33.023Z"
   },
   {
    "duration": 11,
    "start_time": "2022-08-10T22:51:37.299Z"
   },
   {
    "duration": 11,
    "start_time": "2022-08-10T22:51:43.745Z"
   },
   {
    "duration": 10,
    "start_time": "2022-08-10T22:51:51.648Z"
   },
   {
    "duration": 11,
    "start_time": "2022-08-10T22:52:05.596Z"
   },
   {
    "duration": 13,
    "start_time": "2022-08-10T22:52:17.239Z"
   },
   {
    "duration": 11,
    "start_time": "2022-08-10T22:52:29.353Z"
   },
   {
    "duration": 12,
    "start_time": "2022-08-10T22:52:51.234Z"
   },
   {
    "duration": 23,
    "start_time": "2022-08-10T23:14:58.927Z"
   },
   {
    "duration": 26,
    "start_time": "2022-08-10T23:15:01.206Z"
   },
   {
    "duration": 12,
    "start_time": "2022-08-10T23:16:04.042Z"
   },
   {
    "duration": 7,
    "start_time": "2022-08-10T23:21:47.525Z"
   },
   {
    "duration": 9,
    "start_time": "2022-08-10T23:22:47.377Z"
   },
   {
    "duration": 12,
    "start_time": "2022-08-10T23:27:10.521Z"
   },
   {
    "duration": 14,
    "start_time": "2022-08-10T23:27:36.090Z"
   },
   {
    "duration": 12,
    "start_time": "2022-08-10T23:28:32.298Z"
   },
   {
    "duration": 11,
    "start_time": "2022-08-10T23:28:58.971Z"
   },
   {
    "duration": 11,
    "start_time": "2022-08-10T23:29:25.630Z"
   },
   {
    "duration": 4,
    "start_time": "2022-08-10T23:29:59.677Z"
   },
   {
    "duration": 4,
    "start_time": "2022-08-10T23:30:17.760Z"
   },
   {
    "duration": 10,
    "start_time": "2022-08-10T23:30:50.100Z"
   },
   {
    "duration": 15,
    "start_time": "2022-08-10T23:33:29.572Z"
   },
   {
    "duration": 12,
    "start_time": "2022-08-10T23:45:06.577Z"
   },
   {
    "duration": 13,
    "start_time": "2022-08-10T23:45:15.730Z"
   },
   {
    "duration": 13,
    "start_time": "2022-08-10T23:45:58.900Z"
   },
   {
    "duration": 13,
    "start_time": "2022-08-10T23:46:16.802Z"
   },
   {
    "duration": 13,
    "start_time": "2022-08-10T23:46:33.801Z"
   },
   {
    "duration": 14,
    "start_time": "2022-08-10T23:47:57.426Z"
   },
   {
    "duration": 15,
    "start_time": "2022-08-10T23:50:22.073Z"
   },
   {
    "duration": 18,
    "start_time": "2022-08-10T23:54:35.828Z"
   },
   {
    "duration": 3,
    "start_time": "2022-08-11T00:12:15.425Z"
   },
   {
    "duration": 108,
    "start_time": "2022-08-11T00:12:16.146Z"
   },
   {
    "duration": 15,
    "start_time": "2022-08-11T00:12:16.919Z"
   },
   {
    "duration": 7,
    "start_time": "2022-08-11T00:12:17.420Z"
   },
   {
    "duration": 3,
    "start_time": "2022-08-11T00:12:17.891Z"
   },
   {
    "duration": 11,
    "start_time": "2022-08-11T00:12:18.201Z"
   },
   {
    "duration": 7,
    "start_time": "2022-08-11T00:12:18.422Z"
   },
   {
    "duration": 14,
    "start_time": "2022-08-11T00:12:18.643Z"
   },
   {
    "duration": 20,
    "start_time": "2022-08-11T00:12:19.574Z"
   },
   {
    "duration": 14,
    "start_time": "2022-08-11T00:12:20.484Z"
   },
   {
    "duration": 7,
    "start_time": "2022-08-11T00:12:20.817Z"
   },
   {
    "duration": 17,
    "start_time": "2022-08-11T00:12:21.971Z"
   },
   {
    "duration": 9,
    "start_time": "2022-08-11T00:12:23.010Z"
   },
   {
    "duration": 7,
    "start_time": "2022-08-11T00:12:23.641Z"
   },
   {
    "duration": 4,
    "start_time": "2022-08-11T00:12:24.318Z"
   },
   {
    "duration": 4,
    "start_time": "2022-08-11T00:12:24.572Z"
   },
   {
    "duration": 5,
    "start_time": "2022-08-11T00:12:24.857Z"
   },
   {
    "duration": 99,
    "start_time": "2022-08-11T00:12:25.169Z"
   },
   {
    "duration": 17,
    "start_time": "2022-08-11T00:12:26.280Z"
   },
   {
    "duration": 9,
    "start_time": "2022-08-11T00:12:26.527Z"
   },
   {
    "duration": 5,
    "start_time": "2022-08-11T00:12:26.768Z"
   },
   {
    "duration": 8,
    "start_time": "2022-08-11T00:12:27.005Z"
   },
   {
    "duration": 9,
    "start_time": "2022-08-11T00:12:27.741Z"
   },
   {
    "duration": 105,
    "start_time": "2022-08-11T00:12:28.189Z"
   },
   {
    "duration": 10,
    "start_time": "2022-08-11T00:12:28.411Z"
   },
   {
    "duration": 17,
    "start_time": "2022-08-11T00:12:28.866Z"
   },
   {
    "duration": 42,
    "start_time": "2022-08-11T00:12:29.113Z"
   },
   {
    "duration": 256,
    "start_time": "2022-08-11T00:12:31.412Z"
   },
   {
    "duration": 21,
    "start_time": "2022-08-11T00:12:31.781Z"
   },
   {
    "duration": 379,
    "start_time": "2022-08-11T00:12:32.324Z"
   },
   {
    "duration": 322,
    "start_time": "2022-08-11T00:12:33.271Z"
   },
   {
    "duration": 17,
    "start_time": "2022-08-11T00:12:34.584Z"
   },
   {
    "duration": 3,
    "start_time": "2022-08-11T00:12:35.308Z"
   },
   {
    "duration": 7,
    "start_time": "2022-08-11T00:12:35.599Z"
   },
   {
    "duration": 4,
    "start_time": "2022-08-11T00:12:35.879Z"
   },
   {
    "duration": 7,
    "start_time": "2022-08-11T00:12:36.124Z"
   },
   {
    "duration": 14,
    "start_time": "2022-08-11T00:12:36.843Z"
   },
   {
    "duration": 7,
    "start_time": "2022-08-11T00:12:37.075Z"
   },
   {
    "duration": 8,
    "start_time": "2022-08-11T00:12:37.294Z"
   },
   {
    "duration": 9,
    "start_time": "2022-08-11T00:12:37.505Z"
   },
   {
    "duration": 13,
    "start_time": "2022-08-11T00:12:37.722Z"
   },
   {
    "duration": 28,
    "start_time": "2022-08-11T00:12:37.943Z"
   },
   {
    "duration": 12,
    "start_time": "2022-08-11T00:12:38.738Z"
   },
   {
    "duration": 132,
    "start_time": "2022-08-11T00:12:39.121Z"
   },
   {
    "duration": 232,
    "start_time": "2022-08-11T00:12:39.519Z"
   },
   {
    "duration": 330,
    "start_time": "2022-08-11T00:12:39.753Z"
   },
   {
    "duration": 339,
    "start_time": "2022-08-11T00:12:40.085Z"
   },
   {
    "duration": 40,
    "start_time": "2022-08-11T00:12:42.048Z"
   },
   {
    "duration": 9,
    "start_time": "2022-08-11T00:12:43.110Z"
   },
   {
    "duration": 208,
    "start_time": "2022-08-11T00:12:43.473Z"
   },
   {
    "duration": 3,
    "start_time": "2022-08-11T00:12:44.489Z"
   },
   {
    "duration": 11,
    "start_time": "2022-08-11T00:12:44.853Z"
   },
   {
    "duration": 16,
    "start_time": "2022-08-11T00:12:45.371Z"
   },
   {
    "duration": 177,
    "start_time": "2022-08-11T00:12:45.741Z"
   },
   {
    "duration": 170,
    "start_time": "2022-08-11T00:12:47.308Z"
   },
   {
    "duration": 9,
    "start_time": "2022-08-11T00:12:47.578Z"
   },
   {
    "duration": 9,
    "start_time": "2022-08-11T00:12:47.854Z"
   },
   {
    "duration": 4,
    "start_time": "2022-08-11T00:12:48.165Z"
   },
   {
    "duration": 49,
    "start_time": "2022-08-11T00:12:48.746Z"
   },
   {
    "duration": 14,
    "start_time": "2022-08-11T00:12:49.839Z"
   },
   {
    "duration": 18,
    "start_time": "2022-08-11T00:12:50.173Z"
   },
   {
    "duration": 24,
    "start_time": "2022-08-11T00:12:50.584Z"
   },
   {
    "duration": 10,
    "start_time": "2022-08-11T00:12:51.085Z"
   },
   {
    "duration": 11,
    "start_time": "2022-08-11T00:12:51.455Z"
   },
   {
    "duration": 801,
    "start_time": "2022-08-11T00:12:51.787Z"
   },
   {
    "duration": 12,
    "start_time": "2022-08-11T00:12:54.486Z"
   },
   {
    "duration": 32,
    "start_time": "2022-08-11T00:12:56.060Z"
   },
   {
    "duration": 8,
    "start_time": "2022-08-11T00:12:56.837Z"
   },
   {
    "duration": 23,
    "start_time": "2022-08-11T00:13:01.517Z"
   },
   {
    "duration": 25,
    "start_time": "2022-08-11T00:13:02.035Z"
   },
   {
    "duration": 8,
    "start_time": "2022-08-11T00:13:02.363Z"
   },
   {
    "duration": 12,
    "start_time": "2022-08-11T00:13:03.198Z"
   },
   {
    "duration": 10,
    "start_time": "2022-08-11T00:13:03.689Z"
   },
   {
    "duration": 15,
    "start_time": "2022-08-11T00:13:04.483Z"
   },
   {
    "duration": 18,
    "start_time": "2022-08-11T00:13:05.065Z"
   },
   {
    "duration": 4,
    "start_time": "2022-08-11T00:13:07.418Z"
   },
   {
    "duration": 16,
    "start_time": "2022-08-11T00:13:07.628Z"
   },
   {
    "duration": 16,
    "start_time": "2022-08-11T00:13:07.920Z"
   },
   {
    "duration": 12,
    "start_time": "2022-08-11T00:13:08.883Z"
   },
   {
    "duration": 9,
    "start_time": "2022-08-11T00:13:10.235Z"
   },
   {
    "duration": 1097,
    "start_time": "2022-08-11T18:20:43.696Z"
   },
   {
    "duration": 522,
    "start_time": "2022-08-11T18:20:44.794Z"
   },
   {
    "duration": 18,
    "start_time": "2022-08-11T18:20:45.317Z"
   },
   {
    "duration": 13,
    "start_time": "2022-08-11T18:20:45.337Z"
   },
   {
    "duration": 8,
    "start_time": "2022-08-11T18:20:45.351Z"
   },
   {
    "duration": 18,
    "start_time": "2022-08-11T18:20:45.361Z"
   },
   {
    "duration": 7,
    "start_time": "2022-08-11T18:20:45.381Z"
   },
   {
    "duration": 23,
    "start_time": "2022-08-11T18:20:45.389Z"
   },
   {
    "duration": 23,
    "start_time": "2022-08-11T18:20:45.413Z"
   },
   {
    "duration": 13,
    "start_time": "2022-08-11T18:20:45.439Z"
   },
   {
    "duration": 9,
    "start_time": "2022-08-11T18:20:45.453Z"
   },
   {
    "duration": 40,
    "start_time": "2022-08-11T18:20:45.463Z"
   },
   {
    "duration": 9,
    "start_time": "2022-08-11T18:20:45.504Z"
   },
   {
    "duration": 8,
    "start_time": "2022-08-11T18:20:45.515Z"
   },
   {
    "duration": 6,
    "start_time": "2022-08-11T18:20:45.525Z"
   },
   {
    "duration": 8,
    "start_time": "2022-08-11T18:20:45.532Z"
   },
   {
    "duration": 5,
    "start_time": "2022-08-11T18:20:45.541Z"
   },
   {
    "duration": 144,
    "start_time": "2022-08-11T18:20:45.547Z"
   },
   {
    "duration": 23,
    "start_time": "2022-08-11T18:20:45.692Z"
   },
   {
    "duration": 8,
    "start_time": "2022-08-11T18:20:45.716Z"
   },
   {
    "duration": 8,
    "start_time": "2022-08-11T18:20:45.726Z"
   },
   {
    "duration": 9,
    "start_time": "2022-08-11T18:20:45.735Z"
   },
   {
    "duration": 14,
    "start_time": "2022-08-11T18:20:45.746Z"
   },
   {
    "duration": 74,
    "start_time": "2022-08-11T18:20:45.761Z"
   },
   {
    "duration": 9,
    "start_time": "2022-08-11T18:20:45.837Z"
   },
   {
    "duration": 21,
    "start_time": "2022-08-11T18:20:45.847Z"
   },
   {
    "duration": 61,
    "start_time": "2022-08-11T18:20:45.870Z"
   },
   {
    "duration": 269,
    "start_time": "2022-08-11T18:20:45.935Z"
   },
   {
    "duration": 20,
    "start_time": "2022-08-11T18:20:46.206Z"
   },
   {
    "duration": 314,
    "start_time": "2022-08-11T18:20:46.227Z"
   },
   {
    "duration": 319,
    "start_time": "2022-08-11T18:20:46.542Z"
   },
   {
    "duration": 21,
    "start_time": "2022-08-11T18:20:46.863Z"
   },
   {
    "duration": 14,
    "start_time": "2022-08-11T18:20:46.886Z"
   },
   {
    "duration": 9,
    "start_time": "2022-08-11T18:20:46.901Z"
   },
   {
    "duration": 5,
    "start_time": "2022-08-11T18:20:46.911Z"
   },
   {
    "duration": 8,
    "start_time": "2022-08-11T18:20:46.917Z"
   },
   {
    "duration": 14,
    "start_time": "2022-08-11T18:20:46.926Z"
   },
   {
    "duration": 7,
    "start_time": "2022-08-11T18:20:46.942Z"
   },
   {
    "duration": 14,
    "start_time": "2022-08-11T18:20:46.951Z"
   },
   {
    "duration": 39,
    "start_time": "2022-08-11T18:20:46.967Z"
   },
   {
    "duration": 23,
    "start_time": "2022-08-11T18:20:47.008Z"
   },
   {
    "duration": 27,
    "start_time": "2022-08-11T18:20:47.033Z"
   },
   {
    "duration": 12,
    "start_time": "2022-08-11T18:20:47.061Z"
   },
   {
    "duration": 136,
    "start_time": "2022-08-11T18:20:47.075Z"
   },
   {
    "duration": 262,
    "start_time": "2022-08-11T18:20:47.213Z"
   },
   {
    "duration": 301,
    "start_time": "2022-08-11T18:20:47.476Z"
   },
   {
    "duration": 309,
    "start_time": "2022-08-11T18:20:47.779Z"
   },
   {
    "duration": 47,
    "start_time": "2022-08-11T18:20:48.090Z"
   },
   {
    "duration": 9,
    "start_time": "2022-08-11T18:20:48.139Z"
   },
   {
    "duration": 174,
    "start_time": "2022-08-11T18:20:48.149Z"
   },
   {
    "duration": 3,
    "start_time": "2022-08-11T18:20:48.324Z"
   },
   {
    "duration": 17,
    "start_time": "2022-08-11T18:20:48.329Z"
   },
   {
    "duration": 18,
    "start_time": "2022-08-11T18:20:48.348Z"
   },
   {
    "duration": 204,
    "start_time": "2022-08-11T18:20:48.367Z"
   },
   {
    "duration": 187,
    "start_time": "2022-08-11T18:20:48.573Z"
   },
   {
    "duration": 9,
    "start_time": "2022-08-11T18:20:48.761Z"
   },
   {
    "duration": 11,
    "start_time": "2022-08-11T18:20:48.772Z"
   },
   {
    "duration": 19,
    "start_time": "2022-08-11T18:20:48.785Z"
   },
   {
    "duration": 48,
    "start_time": "2022-08-11T18:20:48.806Z"
   },
   {
    "duration": 11,
    "start_time": "2022-08-11T18:20:48.856Z"
   },
   {
    "duration": 36,
    "start_time": "2022-08-11T18:20:48.868Z"
   },
   {
    "duration": 23,
    "start_time": "2022-08-11T18:20:48.906Z"
   },
   {
    "duration": 8,
    "start_time": "2022-08-11T18:20:48.930Z"
   },
   {
    "duration": 12,
    "start_time": "2022-08-11T18:20:48.940Z"
   },
   {
    "duration": 834,
    "start_time": "2022-08-11T18:20:48.954Z"
   },
   {
    "duration": 20,
    "start_time": "2022-08-11T18:20:49.790Z"
   },
   {
    "duration": 30,
    "start_time": "2022-08-11T18:20:49.811Z"
   },
   {
    "duration": 7,
    "start_time": "2022-08-11T18:20:49.843Z"
   },
   {
    "duration": 28,
    "start_time": "2022-08-11T18:20:49.852Z"
   },
   {
    "duration": 22,
    "start_time": "2022-08-11T18:20:49.900Z"
   },
   {
    "duration": 6,
    "start_time": "2022-08-11T18:20:49.924Z"
   },
   {
    "duration": 12,
    "start_time": "2022-08-11T18:20:49.931Z"
   },
   {
    "duration": 10,
    "start_time": "2022-08-11T18:20:49.944Z"
   },
   {
    "duration": 17,
    "start_time": "2022-08-11T18:20:49.955Z"
   },
   {
    "duration": 42,
    "start_time": "2022-08-11T18:20:49.973Z"
   },
   {
    "duration": 5,
    "start_time": "2022-08-11T18:20:50.017Z"
   },
   {
    "duration": 26,
    "start_time": "2022-08-11T18:20:50.024Z"
   },
   {
    "duration": 20,
    "start_time": "2022-08-11T18:20:50.052Z"
   },
   {
    "duration": 35,
    "start_time": "2022-08-11T18:20:50.074Z"
   },
   {
    "duration": 13,
    "start_time": "2022-08-11T18:20:50.111Z"
   },
   {
    "duration": 40,
    "start_time": "2022-08-11T18:20:50.126Z"
   },
   {
    "duration": 38,
    "start_time": "2022-08-11T18:20:50.171Z"
   },
   {
    "duration": 9,
    "start_time": "2022-08-11T18:20:50.211Z"
   },
   {
    "duration": 8,
    "start_time": "2022-08-11T18:20:50.221Z"
   },
   {
    "duration": 6,
    "start_time": "2022-08-11T18:20:50.230Z"
   },
   {
    "duration": 10,
    "start_time": "2022-08-11T18:20:50.237Z"
   },
   {
    "duration": 30,
    "start_time": "2022-08-11T18:20:50.249Z"
   },
   {
    "duration": 4,
    "start_time": "2022-08-11T18:20:50.281Z"
   },
   {
    "duration": 5,
    "start_time": "2022-08-11T18:20:50.300Z"
   },
   {
    "duration": 258,
    "start_time": "2022-08-11T18:22:02.462Z"
   },
   {
    "duration": 90,
    "start_time": "2022-08-11T18:22:16.090Z"
   },
   {
    "duration": 51,
    "start_time": "2022-08-11T18:22:45.626Z"
   },
   {
    "duration": 38,
    "start_time": "2022-08-11T18:22:57.490Z"
   },
   {
    "duration": 44,
    "start_time": "2022-08-11T18:23:28.078Z"
   },
   {
    "duration": 40,
    "start_time": "2022-08-11T18:24:09.326Z"
   },
   {
    "duration": 187,
    "start_time": "2022-08-11T18:24:19.681Z"
   },
   {
    "duration": 195,
    "start_time": "2022-08-11T18:24:23.682Z"
   },
   {
    "duration": 110,
    "start_time": "2022-08-11T18:24:29.690Z"
   },
   {
    "duration": 79,
    "start_time": "2022-08-11T18:24:41.450Z"
   },
   {
    "duration": 163,
    "start_time": "2022-08-11T18:24:48.350Z"
   },
   {
    "duration": 175,
    "start_time": "2022-08-11T18:25:55.946Z"
   },
   {
    "duration": 154,
    "start_time": "2022-08-11T18:26:12.946Z"
   },
   {
    "duration": 186,
    "start_time": "2022-08-11T18:27:52.162Z"
   },
   {
    "duration": 55,
    "start_time": "2022-08-11T18:28:00.766Z"
   },
   {
    "duration": 1128,
    "start_time": "2022-08-11T18:30:12.866Z"
   },
   {
    "duration": 110,
    "start_time": "2022-08-11T18:30:13.996Z"
   },
   {
    "duration": 15,
    "start_time": "2022-08-11T18:30:14.108Z"
   },
   {
    "duration": 35,
    "start_time": "2022-08-11T18:30:14.125Z"
   },
   {
    "duration": 21,
    "start_time": "2022-08-11T18:30:14.162Z"
   },
   {
    "duration": 30,
    "start_time": "2022-08-11T18:30:14.184Z"
   },
   {
    "duration": 22,
    "start_time": "2022-08-11T18:30:14.216Z"
   },
   {
    "duration": 29,
    "start_time": "2022-08-11T18:30:14.239Z"
   },
   {
    "duration": 43,
    "start_time": "2022-08-11T18:30:14.270Z"
   },
   {
    "duration": 32,
    "start_time": "2022-08-11T18:30:14.316Z"
   },
   {
    "duration": 28,
    "start_time": "2022-08-11T18:30:14.350Z"
   },
   {
    "duration": 42,
    "start_time": "2022-08-11T18:30:14.380Z"
   },
   {
    "duration": 22,
    "start_time": "2022-08-11T18:30:14.424Z"
   },
   {
    "duration": 12,
    "start_time": "2022-08-11T18:30:14.448Z"
   },
   {
    "duration": 13,
    "start_time": "2022-08-11T18:30:14.461Z"
   },
   {
    "duration": 30,
    "start_time": "2022-08-11T18:30:14.476Z"
   },
   {
    "duration": 18,
    "start_time": "2022-08-11T18:30:14.507Z"
   },
   {
    "duration": 121,
    "start_time": "2022-08-11T18:30:14.526Z"
   },
   {
    "duration": 18,
    "start_time": "2022-08-11T18:30:14.649Z"
   },
   {
    "duration": 9,
    "start_time": "2022-08-11T18:30:14.668Z"
   },
   {
    "duration": 21,
    "start_time": "2022-08-11T18:30:14.678Z"
   },
   {
    "duration": 8,
    "start_time": "2022-08-11T18:30:14.701Z"
   },
   {
    "duration": 40,
    "start_time": "2022-08-11T18:30:14.711Z"
   },
   {
    "duration": 8,
    "start_time": "2022-08-11T18:30:14.753Z"
   },
   {
    "duration": 56,
    "start_time": "2022-08-11T18:30:14.763Z"
   },
   {
    "duration": 9,
    "start_time": "2022-08-11T18:30:14.821Z"
   },
   {
    "duration": 18,
    "start_time": "2022-08-11T18:30:14.831Z"
   },
   {
    "duration": 57,
    "start_time": "2022-08-11T18:30:14.853Z"
   },
   {
    "duration": 271,
    "start_time": "2022-08-11T18:30:14.911Z"
   },
   {
    "duration": 27,
    "start_time": "2022-08-11T18:30:15.183Z"
   },
   {
    "duration": 299,
    "start_time": "2022-08-11T18:30:15.212Z"
   },
   {
    "duration": 306,
    "start_time": "2022-08-11T18:30:15.512Z"
   },
   {
    "duration": 20,
    "start_time": "2022-08-11T18:30:15.820Z"
   },
   {
    "duration": 3,
    "start_time": "2022-08-11T18:30:15.842Z"
   },
   {
    "duration": 10,
    "start_time": "2022-08-11T18:30:15.846Z"
   },
   {
    "duration": 5,
    "start_time": "2022-08-11T18:30:15.858Z"
   },
   {
    "duration": 9,
    "start_time": "2022-08-11T18:30:15.864Z"
   },
   {
    "duration": 36,
    "start_time": "2022-08-11T18:30:15.874Z"
   },
   {
    "duration": 7,
    "start_time": "2022-08-11T18:30:15.912Z"
   },
   {
    "duration": 11,
    "start_time": "2022-08-11T18:30:15.920Z"
   },
   {
    "duration": 10,
    "start_time": "2022-08-11T18:30:15.932Z"
   },
   {
    "duration": 14,
    "start_time": "2022-08-11T18:30:15.944Z"
   },
   {
    "duration": 43,
    "start_time": "2022-08-11T18:30:15.959Z"
   },
   {
    "duration": 12,
    "start_time": "2022-08-11T18:30:16.004Z"
   },
   {
    "duration": 128,
    "start_time": "2022-08-11T18:30:16.017Z"
   },
   {
    "duration": 269,
    "start_time": "2022-08-11T18:30:16.147Z"
   },
   {
    "duration": 292,
    "start_time": "2022-08-11T18:30:16.417Z"
   },
   {
    "duration": 299,
    "start_time": "2022-08-11T18:30:16.711Z"
   },
   {
    "duration": 261,
    "start_time": "2022-08-11T18:30:17.011Z"
   },
   {
    "duration": 8,
    "start_time": "2022-08-11T18:30:17.273Z"
   },
   {
    "duration": 182,
    "start_time": "2022-08-11T18:30:17.283Z"
   },
   {
    "duration": 4,
    "start_time": "2022-08-11T18:30:17.466Z"
   },
   {
    "duration": 22,
    "start_time": "2022-08-11T18:30:17.471Z"
   },
   {
    "duration": 22,
    "start_time": "2022-08-11T18:30:17.495Z"
   },
   {
    "duration": 171,
    "start_time": "2022-08-11T18:30:17.519Z"
   },
   {
    "duration": 208,
    "start_time": "2022-08-11T18:30:17.692Z"
   },
   {
    "duration": 9,
    "start_time": "2022-08-11T18:30:17.902Z"
   },
   {
    "duration": 13,
    "start_time": "2022-08-11T18:30:17.913Z"
   },
   {
    "duration": 10,
    "start_time": "2022-08-11T18:30:17.927Z"
   },
   {
    "duration": 64,
    "start_time": "2022-08-11T18:30:17.939Z"
   },
   {
    "duration": 4,
    "start_time": "2022-08-11T18:30:31.142Z"
   },
   {
    "duration": 2402,
    "start_time": "2022-08-11T18:30:31.149Z"
   },
   {
    "duration": 1805,
    "start_time": "2022-08-11T18:30:33.553Z"
   },
   {
    "duration": 642,
    "start_time": "2022-08-11T18:30:35.360Z"
   },
   {
    "duration": 47,
    "start_time": "2022-08-11T18:30:36.003Z"
   },
   {
    "duration": 47,
    "start_time": "2022-08-11T18:30:36.051Z"
   },
   {
    "duration": 21,
    "start_time": "2022-08-11T18:30:36.099Z"
   },
   {
    "duration": 230,
    "start_time": "2022-08-11T18:30:36.122Z"
   },
   {
    "duration": 23,
    "start_time": "2022-08-11T18:30:36.354Z"
   },
   {
    "duration": 14,
    "start_time": "2022-08-11T18:30:36.380Z"
   },
   {
    "duration": 7,
    "start_time": "2022-08-11T18:30:36.395Z"
   },
   {
    "duration": 26,
    "start_time": "2022-08-11T18:30:36.403Z"
   },
   {
    "duration": 11,
    "start_time": "2022-08-11T18:30:36.430Z"
   },
   {
    "duration": 11,
    "start_time": "2022-08-11T18:30:36.443Z"
   },
   {
    "duration": 13,
    "start_time": "2022-08-11T18:30:36.455Z"
   },
   {
    "duration": 14,
    "start_time": "2022-08-11T18:30:36.469Z"
   },
   {
    "duration": 17,
    "start_time": "2022-08-11T18:30:36.485Z"
   },
   {
    "duration": 128,
    "start_time": "2022-08-11T18:30:36.504Z"
   },
   {
    "duration": 19,
    "start_time": "2022-08-11T18:30:36.634Z"
   },
   {
    "duration": 8,
    "start_time": "2022-08-11T18:30:36.655Z"
   },
   {
    "duration": 8,
    "start_time": "2022-08-11T18:30:36.665Z"
   },
   {
    "duration": 30,
    "start_time": "2022-08-11T18:30:36.675Z"
   },
   {
    "duration": 45,
    "start_time": "2022-08-11T18:30:36.706Z"
   },
   {
    "duration": 9,
    "start_time": "2022-08-11T18:30:36.752Z"
   },
   {
    "duration": 136,
    "start_time": "2022-08-11T18:30:36.763Z"
   },
   {
    "duration": 9,
    "start_time": "2022-08-11T18:30:36.901Z"
   },
   {
    "duration": 19,
    "start_time": "2022-08-11T18:30:36.911Z"
   },
   {
    "duration": 43,
    "start_time": "2022-08-11T18:30:36.934Z"
   },
   {
    "duration": 223,
    "start_time": "2022-08-11T18:30:36.979Z"
   },
   {
    "duration": 20,
    "start_time": "2022-08-11T18:30:37.204Z"
   },
   {
    "duration": 302,
    "start_time": "2022-08-11T18:30:37.225Z"
   },
   {
    "duration": 310,
    "start_time": "2022-08-11T18:30:37.529Z"
   },
   {
    "duration": 17,
    "start_time": "2022-08-11T18:30:37.841Z"
   },
   {
    "duration": 2,
    "start_time": "2022-08-11T18:30:37.860Z"
   },
   {
    "duration": 11,
    "start_time": "2022-08-11T18:30:37.864Z"
   },
   {
    "duration": 5,
    "start_time": "2022-08-11T18:30:37.876Z"
   },
   {
    "duration": 23,
    "start_time": "2022-08-11T18:30:37.882Z"
   },
   {
    "duration": 23,
    "start_time": "2022-08-11T18:30:37.906Z"
   },
   {
    "duration": 7,
    "start_time": "2022-08-11T18:30:37.931Z"
   },
   {
    "duration": 14,
    "start_time": "2022-08-11T18:30:37.941Z"
   },
   {
    "duration": 12,
    "start_time": "2022-08-11T18:30:37.956Z"
   },
   {
    "duration": 31,
    "start_time": "2022-08-11T18:30:37.970Z"
   },
   {
    "duration": 25,
    "start_time": "2022-08-11T18:30:38.003Z"
   },
   {
    "duration": 12,
    "start_time": "2022-08-11T18:30:38.029Z"
   },
   {
    "duration": 135,
    "start_time": "2022-08-11T18:30:38.043Z"
   },
   {
    "duration": 213,
    "start_time": "2022-08-11T18:30:38.180Z"
   },
   {
    "duration": 305,
    "start_time": "2022-08-11T18:30:38.395Z"
   },
   {
    "duration": 303,
    "start_time": "2022-08-11T18:30:38.701Z"
   },
   {
    "duration": 41,
    "start_time": "2022-08-11T18:30:39.005Z"
   },
   {
    "duration": 9,
    "start_time": "2022-08-11T18:30:39.047Z"
   },
   {
    "duration": 244,
    "start_time": "2022-08-11T18:30:39.058Z"
   },
   {
    "duration": 4,
    "start_time": "2022-08-11T18:30:39.304Z"
   },
   {
    "duration": 92,
    "start_time": "2022-08-11T18:30:39.309Z"
   },
   {
    "duration": 23,
    "start_time": "2022-08-11T18:30:39.403Z"
   },
   {
    "duration": 172,
    "start_time": "2022-08-11T18:30:39.429Z"
   },
   {
    "duration": 206,
    "start_time": "2022-08-11T18:30:39.602Z"
   },
   {
    "duration": 8,
    "start_time": "2022-08-11T18:30:39.809Z"
   },
   {
    "duration": 15,
    "start_time": "2022-08-11T18:30:39.819Z"
   },
   {
    "duration": 7,
    "start_time": "2022-08-11T18:30:39.836Z"
   },
   {
    "duration": 51,
    "start_time": "2022-08-11T18:32:38.565Z"
   },
   {
    "duration": 12,
    "start_time": "2022-08-11T18:32:41.919Z"
   },
   {
    "duration": 17,
    "start_time": "2022-08-11T18:33:19.873Z"
   },
   {
    "duration": 80,
    "start_time": "2022-08-11T18:34:48.744Z"
   },
   {
    "duration": 1233,
    "start_time": "2022-08-11T21:56:42.102Z"
   },
   {
    "duration": 211,
    "start_time": "2022-08-11T21:56:43.337Z"
   },
   {
    "duration": 16,
    "start_time": "2022-08-11T21:56:43.915Z"
   },
   {
    "duration": 10,
    "start_time": "2022-08-11T21:56:44.620Z"
   },
   {
    "duration": 3,
    "start_time": "2022-08-11T21:56:45.175Z"
   },
   {
    "duration": 14,
    "start_time": "2022-08-11T21:56:45.691Z"
   },
   {
    "duration": 9,
    "start_time": "2022-08-11T21:56:45.981Z"
   },
   {
    "duration": 12,
    "start_time": "2022-08-11T21:56:46.246Z"
   },
   {
    "duration": 21,
    "start_time": "2022-08-11T21:56:47.317Z"
   },
   {
    "duration": 15,
    "start_time": "2022-08-11T21:56:50.672Z"
   },
   {
    "duration": 8,
    "start_time": "2022-08-11T21:58:16.380Z"
   },
   {
    "duration": 18,
    "start_time": "2022-08-11T21:58:17.824Z"
   },
   {
    "duration": 9,
    "start_time": "2022-08-11T21:58:18.834Z"
   },
   {
    "duration": 7,
    "start_time": "2022-08-11T21:58:19.256Z"
   },
   {
    "duration": 3,
    "start_time": "2022-08-11T21:58:20.096Z"
   },
   {
    "duration": 4,
    "start_time": "2022-08-11T21:58:20.524Z"
   },
   {
    "duration": 5,
    "start_time": "2022-08-11T21:58:20.957Z"
   },
   {
    "duration": 130,
    "start_time": "2022-08-11T21:58:21.516Z"
   },
   {
    "duration": 17,
    "start_time": "2022-08-11T21:58:23.219Z"
   },
   {
    "duration": 8,
    "start_time": "2022-08-11T21:58:23.452Z"
   },
   {
    "duration": 7,
    "start_time": "2022-08-11T21:58:23.639Z"
   },
   {
    "duration": 8,
    "start_time": "2022-08-11T21:58:23.849Z"
   },
   {
    "duration": 8,
    "start_time": "2022-08-11T22:00:28.371Z"
   },
   {
    "duration": 57,
    "start_time": "2022-08-11T22:00:29.348Z"
   },
   {
    "duration": 9,
    "start_time": "2022-08-11T22:00:29.725Z"
   },
   {
    "duration": 20,
    "start_time": "2022-08-11T22:00:30.519Z"
   },
   {
    "duration": 47,
    "start_time": "2022-08-11T22:00:30.851Z"
   },
   {
    "duration": 282,
    "start_time": "2022-08-11T22:00:34.173Z"
   },
   {
    "duration": 20,
    "start_time": "2022-08-11T22:00:34.636Z"
   },
   {
    "duration": 317,
    "start_time": "2022-08-11T22:00:35.069Z"
   },
   {
    "duration": 345,
    "start_time": "2022-08-11T22:00:36.315Z"
   },
   {
    "duration": 21,
    "start_time": "2022-08-11T22:00:37.298Z"
   },
   {
    "duration": 2,
    "start_time": "2022-08-11T22:00:37.985Z"
   },
   {
    "duration": 7,
    "start_time": "2022-08-11T22:00:38.266Z"
   },
   {
    "duration": 3,
    "start_time": "2022-08-11T22:00:38.494Z"
   },
   {
    "duration": 8,
    "start_time": "2022-08-11T22:00:38.722Z"
   },
   {
    "duration": 15,
    "start_time": "2022-08-11T22:00:39.776Z"
   },
   {
    "duration": 10,
    "start_time": "2022-08-11T22:00:41.367Z"
   },
   {
    "duration": 7,
    "start_time": "2022-08-11T22:00:41.615Z"
   },
   {
    "duration": 9,
    "start_time": "2022-08-11T22:00:41.842Z"
   },
   {
    "duration": 14,
    "start_time": "2022-08-11T22:00:42.087Z"
   },
   {
    "duration": 25,
    "start_time": "2022-08-11T22:00:42.547Z"
   },
   {
    "duration": 13,
    "start_time": "2022-08-11T22:00:44.081Z"
   },
   {
    "duration": 113,
    "start_time": "2022-08-11T22:00:44.567Z"
   },
   {
    "duration": 240,
    "start_time": "2022-08-11T22:00:45.061Z"
   },
   {
    "duration": 277,
    "start_time": "2022-08-11T22:00:45.342Z"
   },
   {
    "duration": 278,
    "start_time": "2022-08-11T22:00:45.636Z"
   },
   {
    "duration": 43,
    "start_time": "2022-08-11T22:00:51.281Z"
   },
   {
    "duration": 9,
    "start_time": "2022-08-11T22:00:52.025Z"
   },
   {
    "duration": 203,
    "start_time": "2022-08-11T22:00:52.395Z"
   },
   {
    "duration": 7,
    "start_time": "2022-08-11T22:00:52.600Z"
   },
   {
    "duration": 12,
    "start_time": "2022-08-11T22:00:52.837Z"
   },
   {
    "duration": 16,
    "start_time": "2022-08-11T22:00:53.390Z"
   },
   {
    "duration": 186,
    "start_time": "2022-08-11T22:00:53.839Z"
   },
   {
    "duration": 215,
    "start_time": "2022-08-11T22:01:00.661Z"
   },
   {
    "duration": 11,
    "start_time": "2022-08-11T22:01:01.381Z"
   },
   {
    "duration": 10,
    "start_time": "2022-08-11T22:01:01.837Z"
   },
   {
    "duration": 6,
    "start_time": "2022-08-11T22:01:02.043Z"
   },
   {
    "duration": 52,
    "start_time": "2022-08-11T22:01:02.315Z"
   },
   {
    "duration": 12,
    "start_time": "2022-08-11T22:02:30.415Z"
   },
   {
    "duration": 15,
    "start_time": "2022-08-11T22:02:31.062Z"
   },
   {
    "duration": 22,
    "start_time": "2022-08-11T22:02:31.537Z"
   },
   {
    "duration": 9,
    "start_time": "2022-08-11T22:02:31.993Z"
   },
   {
    "duration": 11,
    "start_time": "2022-08-11T22:02:32.238Z"
   },
   {
    "duration": 809,
    "start_time": "2022-08-11T22:02:32.531Z"
   },
   {
    "duration": 13,
    "start_time": "2022-08-11T22:02:39.594Z"
   },
   {
    "duration": 27,
    "start_time": "2022-08-11T22:02:41.325Z"
   },
   {
    "duration": 8,
    "start_time": "2022-08-11T22:02:41.830Z"
   },
   {
    "duration": 27,
    "start_time": "2022-08-11T22:02:45.971Z"
   },
   {
    "duration": 29,
    "start_time": "2022-08-11T22:02:46.156Z"
   },
   {
    "duration": 7,
    "start_time": "2022-08-11T22:02:46.338Z"
   },
   {
    "duration": 11,
    "start_time": "2022-08-11T22:02:46.916Z"
   },
   {
    "duration": 10,
    "start_time": "2022-08-11T22:02:47.203Z"
   },
   {
    "duration": 15,
    "start_time": "2022-08-11T22:02:47.667Z"
   },
   {
    "duration": 17,
    "start_time": "2022-08-11T22:02:47.913Z"
   },
   {
    "duration": 4,
    "start_time": "2022-08-11T22:02:49.233Z"
   },
   {
    "duration": 15,
    "start_time": "2022-08-11T22:02:49.674Z"
   },
   {
    "duration": 17,
    "start_time": "2022-08-11T22:02:49.877Z"
   },
   {
    "duration": 14,
    "start_time": "2022-08-11T22:02:50.287Z"
   },
   {
    "duration": 5,
    "start_time": "2022-08-11T22:05:46.973Z"
   },
   {
    "duration": 5,
    "start_time": "2022-08-11T22:06:03.018Z"
   },
   {
    "duration": 87,
    "start_time": "2022-08-11T22:06:49.796Z"
   },
   {
    "duration": 5,
    "start_time": "2022-08-11T22:08:41.516Z"
   },
   {
    "duration": 91,
    "start_time": "2022-08-11T22:08:52.778Z"
   },
   {
    "duration": 6,
    "start_time": "2022-08-11T22:09:02.959Z"
   },
   {
    "duration": 90,
    "start_time": "2022-08-11T22:09:21.547Z"
   },
   {
    "duration": 15,
    "start_time": "2022-08-11T22:10:09.754Z"
   },
   {
    "duration": 13,
    "start_time": "2022-08-11T22:12:35.124Z"
   },
   {
    "duration": 120,
    "start_time": "2022-08-11T22:13:01.720Z"
   },
   {
    "duration": 114,
    "start_time": "2022-08-11T22:13:20.301Z"
   },
   {
    "duration": 129,
    "start_time": "2022-08-11T22:13:44.843Z"
   },
   {
    "duration": 12,
    "start_time": "2022-08-11T22:14:30.737Z"
   },
   {
    "duration": 15,
    "start_time": "2022-08-11T22:14:56.237Z"
   },
   {
    "duration": 6,
    "start_time": "2022-08-11T22:16:35.659Z"
   },
   {
    "duration": 12,
    "start_time": "2022-08-11T22:16:40.916Z"
   },
   {
    "duration": 15,
    "start_time": "2022-08-11T22:17:04.965Z"
   },
   {
    "duration": 15,
    "start_time": "2022-08-11T22:17:31.814Z"
   },
   {
    "duration": 13,
    "start_time": "2022-08-11T22:17:54.183Z"
   },
   {
    "duration": 11,
    "start_time": "2022-08-11T22:18:10.421Z"
   },
   {
    "duration": 17,
    "start_time": "2022-08-11T22:18:19.467Z"
   },
   {
    "duration": 15,
    "start_time": "2022-08-11T22:18:30.596Z"
   },
   {
    "duration": 18,
    "start_time": "2022-08-11T22:18:58.221Z"
   },
   {
    "duration": 12,
    "start_time": "2022-08-11T22:19:50.189Z"
   },
   {
    "duration": 120,
    "start_time": "2022-08-11T22:20:23.186Z"
   },
   {
    "duration": 16,
    "start_time": "2022-08-11T22:20:32.691Z"
   },
   {
    "duration": 128,
    "start_time": "2022-08-11T22:20:33.315Z"
   },
   {
    "duration": 110,
    "start_time": "2022-08-11T22:20:53.415Z"
   },
   {
    "duration": 11,
    "start_time": "2022-08-11T22:21:09.927Z"
   },
   {
    "duration": 122,
    "start_time": "2022-08-11T22:21:21.745Z"
   },
   {
    "duration": 156,
    "start_time": "2022-08-11T22:22:04.922Z"
   },
   {
    "duration": 113,
    "start_time": "2022-08-11T22:22:12.687Z"
   },
   {
    "duration": 124,
    "start_time": "2022-08-11T22:23:13.293Z"
   },
   {
    "duration": 139,
    "start_time": "2022-08-11T22:23:22.290Z"
   },
   {
    "duration": 213,
    "start_time": "2022-08-11T22:23:29.964Z"
   },
   {
    "duration": 15,
    "start_time": "2022-08-11T22:24:22.062Z"
   },
   {
    "duration": 12,
    "start_time": "2022-08-11T22:24:32.656Z"
   },
   {
    "duration": 123,
    "start_time": "2022-08-11T22:24:53.887Z"
   },
   {
    "duration": 13,
    "start_time": "2022-08-11T22:25:03.438Z"
   },
   {
    "duration": 140,
    "start_time": "2022-08-11T22:25:31.313Z"
   },
   {
    "duration": 121,
    "start_time": "2022-08-11T22:25:36.952Z"
   },
   {
    "duration": 124,
    "start_time": "2022-08-11T22:27:51.165Z"
   },
   {
    "duration": 148,
    "start_time": "2022-08-11T22:28:51.516Z"
   },
   {
    "duration": 118,
    "start_time": "2022-08-11T22:29:47.244Z"
   }
  ],
  "kernelspec": {
   "display_name": "Python 3 (ipykernel)",
   "language": "python",
   "name": "python3"
  },
  "language_info": {
   "codemirror_mode": {
    "name": "ipython",
    "version": 3
   },
   "file_extension": ".py",
   "mimetype": "text/x-python",
   "name": "python",
   "nbconvert_exporter": "python",
   "pygments_lexer": "ipython3",
   "version": "3.9.7"
  },
  "toc": {
   "base_numbering": 1,
   "nav_menu": {},
   "number_sections": true,
   "sideBar": true,
   "skip_h1_title": true,
   "title_cell": "Table of Contents",
   "title_sidebar": "Contents",
   "toc_cell": false,
   "toc_position": {},
   "toc_section_display": true,
   "toc_window_display": false
  }
 },
 "nbformat": 4,
 "nbformat_minor": 2
}
